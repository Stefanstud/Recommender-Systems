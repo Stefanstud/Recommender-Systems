{
 "cells": [
  {
   "cell_type": "code",
   "execution_count": 3,
   "metadata": {},
   "outputs": [],
   "source": [
    "import pandas as pd\n",
    "import numpy as np"
   ]
  },
  {
   "cell_type": "code",
   "execution_count": 4,
   "metadata": {},
   "outputs": [],
   "source": [
    "books = pd.read_csv(\"../data/extended_books_google.csv\")"
   ]
  },
  {
   "cell_type": "code",
   "execution_count": 16,
   "metadata": {},
   "outputs": [
    {
     "data": {
      "text/plain": [
       "Index(['ISBN', 'title', 'subtitle', 'authors', 'publisher', 'publishedDate',\n",
       "       'description', 'pageCount', 'maturityRating', 'language', 'categories',\n",
       "       'ratingsCount', 'averageRating', 'textSnippet', 'categories_list',\n",
       "       'category_embeddings'],\n",
       "      dtype='object')"
      ]
     },
     "execution_count": 16,
     "metadata": {},
     "output_type": "execute_result"
    }
   ],
   "source": [
    "books.columns"
   ]
  },
  {
   "cell_type": "code",
   "execution_count": 5,
   "metadata": {},
   "outputs": [
    {
     "data": {
      "text/plain": [
       "0                  [unknown]\n",
       "1                  [Medical]\n",
       "2                  [Fiction]\n",
       "3        [Adventure stories]\n",
       "4                  [Fiction]\n",
       "                ...         \n",
       "16594              [Fiction]\n",
       "16595     [Juvenile Fiction]\n",
       "16596          [Bookbinders]\n",
       "16597              [Fiction]\n",
       "16598              [Fiction]\n",
       "Name: categories_list, Length: 16599, dtype: object"
      ]
     },
     "execution_count": 5,
     "metadata": {},
     "output_type": "execute_result"
    }
   ],
   "source": [
    "# Fill missing categories with a placeholder\n",
    "books['categories'] = books['categories'].fillna(\"unknown\")\n",
    "\n",
    "# Split categories into lists\n",
    "books['categories_list'] = books['categories'].apply(lambda x: [cat.strip() for cat in x.split(\",\")])\n",
    "books['categories_list']"
   ]
  },
  {
   "cell_type": "code",
   "execution_count": null,
   "metadata": {},
   "outputs": [],
   "source": [
    "import gensim.downloader as api\n",
    "glove_embeddings = api.load(\"glove-wiki-gigaword-100\")  # 100-dimensional vectors\n",
    "\n",
    "def embed_categories(categories_list):\n",
    "    embeddings = []\n",
    "    for category in categories_list:\n",
    "        # Convert category to lowercase\n",
    "        category = category.lower()\n",
    "        # Split into individual words\n",
    "        words = category.split()\n",
    "        word_embeddings = []\n",
    "        for word in words:\n",
    "            if word in glove_embeddings:\n",
    "                word_embeddings.append(glove_embeddings[word])\n",
    "            elif word_embeddings:  # Use the previous word's embedding if it's not the first word so mean can stay the same\n",
    "                word_embeddings.append(word_embeddings[-1])\n",
    "            else:  # If no valid embedding exists, append a zero vector\n",
    "                word_embeddings.append(np.zeros(100))\n",
    "        # Average word embeddings within the category\n",
    "        curr_emb = np.mean(word_embeddings, axis=0) if word_embeddings else np.zeros(100)\n",
    "        embeddings.append(curr_emb)\n",
    "    # Average embeddings across all categories for a book\n",
    "    return np.mean(embeddings, axis=0) if embeddings else np.zeros(100)\n",
    "\n",
    "# Apply embedding function to categories\n",
    "books['category_embeddings'] = books['categories_list'].apply(embed_categories)\n"
   ]
  },
  {
   "cell_type": "code",
   "execution_count": null,
   "metadata": {},
   "outputs": [
    {
     "data": {
      "text/plain": [
       "0        [-0.026542, -0.049169, 0.56758, 0.23964, 0.137...\n",
       "1        [0.068163, 0.094016, -0.4367, 0.15944, -0.3249...\n",
       "2        [-0.23013, 0.28106, 0.29434, -0.080361, 1.0595...\n",
       "3        [-0.43716, 0.426305, 0.31327, -0.231497, 0.268...\n",
       "4        [-0.23013, 0.28106, 0.29434, -0.080361, 1.0595...\n",
       "                               ...                        \n",
       "16594    [-0.23013, 0.28106, 0.29434, -0.080361, 1.0595...\n",
       "16595    [0.369055, 0.1764065, 0.23267001, -0.2975305, ...\n",
       "16596    [0.22282, -0.017365, -0.37452, 0.093967, 0.190...\n",
       "16597    [-0.23013, 0.28106, 0.29434, -0.080361, 1.0595...\n",
       "16598    [-0.23013, 0.28106, 0.29434, -0.080361, 1.0595...\n",
       "Name: category_embeddings, Length: 16599, dtype: object"
      ]
     },
     "execution_count": 14,
     "metadata": {},
     "output_type": "execute_result"
    }
   ],
   "source": [
    "books['category_embeddings']"
   ]
  },
  {
   "cell_type": "code",
   "execution_count": null,
   "metadata": {},
   "outputs": [],
   "source": [
    "# # save as numpy array\n",
    "# np.save(\"../data/category_embeddings.npy\", np.stack(books['category_embeddings']))"
   ]
  },
  {
   "cell_type": "code",
   "execution_count": 4,
   "metadata": {},
   "outputs": [],
   "source": [
    "def combine_text(row):\n",
    "    # Combine title, subtitle, and description with proper handling of missing values\n",
    "    return ' '.join(filter(None, [\n",
    "        str(row.get('title', '')).strip(),\n",
    "        str(row.get('subtitle', '')).strip(),\n",
    "        str(row.get('description', '')).strip()\n",
    "    ]))\n",
    "\n",
    "books['combined_text'] = books.apply(combine_text, axis=1)"
   ]
  },
  {
   "cell_type": "code",
   "execution_count": 6,
   "metadata": {},
   "outputs": [
    {
     "data": {
      "application/vnd.jupyter.widget-view+json": {
       "model_id": "8f66f982286b4500b5a15eae483052e6",
       "version_major": 2,
       "version_minor": 0
      },
      "text/plain": [
       "tokenizer_config.json:   0%|          | 0.00/366 [00:00<?, ?B/s]"
      ]
     },
     "metadata": {},
     "output_type": "display_data"
    },
    {
     "data": {
      "application/vnd.jupyter.widget-view+json": {
       "model_id": "ec86ed3ff55542a4be3585069f02475e",
       "version_major": 2,
       "version_minor": 0
      },
      "text/plain": [
       "vocab.txt:   0%|          | 0.00/232k [00:00<?, ?B/s]"
      ]
     },
     "metadata": {},
     "output_type": "display_data"
    },
    {
     "data": {
      "application/vnd.jupyter.widget-view+json": {
       "model_id": "4cf5fe6c74cb4b41b7ddb10636d4d5ab",
       "version_major": 2,
       "version_minor": 0
      },
      "text/plain": [
       "tokenizer.json:   0%|          | 0.00/711k [00:00<?, ?B/s]"
      ]
     },
     "metadata": {},
     "output_type": "display_data"
    },
    {
     "data": {
      "application/vnd.jupyter.widget-view+json": {
       "model_id": "dfde3ad4f41140969935e73cb42b4d14",
       "version_major": 2,
       "version_minor": 0
      },
      "text/plain": [
       "special_tokens_map.json:   0%|          | 0.00/125 [00:00<?, ?B/s]"
      ]
     },
     "metadata": {},
     "output_type": "display_data"
    },
    {
     "data": {
      "application/vnd.jupyter.widget-view+json": {
       "model_id": "0398e4ab978c4cdd92028819f318660a",
       "version_major": 2,
       "version_minor": 0
      },
      "text/plain": [
       "config.json:   0%|          | 0.00/743 [00:00<?, ?B/s]"
      ]
     },
     "metadata": {},
     "output_type": "display_data"
    },
    {
     "data": {
      "application/vnd.jupyter.widget-view+json": {
       "model_id": "244b0c190e36491799bad36fec562b7d",
       "version_major": 2,
       "version_minor": 0
      },
      "text/plain": [
       "model.safetensors:   0%|          | 0.00/133M [00:00<?, ?B/s]"
      ]
     },
     "metadata": {},
     "output_type": "display_data"
    },
    {
     "data": {
      "text/plain": [
       "BertModel(\n",
       "  (embeddings): BertEmbeddings(\n",
       "    (word_embeddings): Embedding(30522, 384, padding_idx=0)\n",
       "    (position_embeddings): Embedding(512, 384)\n",
       "    (token_type_embeddings): Embedding(2, 384)\n",
       "    (LayerNorm): LayerNorm((384,), eps=1e-12, elementwise_affine=True)\n",
       "    (dropout): Dropout(p=0.1, inplace=False)\n",
       "  )\n",
       "  (encoder): BertEncoder(\n",
       "    (layer): ModuleList(\n",
       "      (0-11): 12 x BertLayer(\n",
       "        (attention): BertAttention(\n",
       "          (self): BertSdpaSelfAttention(\n",
       "            (query): Linear(in_features=384, out_features=384, bias=True)\n",
       "            (key): Linear(in_features=384, out_features=384, bias=True)\n",
       "            (value): Linear(in_features=384, out_features=384, bias=True)\n",
       "            (dropout): Dropout(p=0.1, inplace=False)\n",
       "          )\n",
       "          (output): BertSelfOutput(\n",
       "            (dense): Linear(in_features=384, out_features=384, bias=True)\n",
       "            (LayerNorm): LayerNorm((384,), eps=1e-12, elementwise_affine=True)\n",
       "            (dropout): Dropout(p=0.1, inplace=False)\n",
       "          )\n",
       "        )\n",
       "        (intermediate): BertIntermediate(\n",
       "          (dense): Linear(in_features=384, out_features=1536, bias=True)\n",
       "          (intermediate_act_fn): GELUActivation()\n",
       "        )\n",
       "        (output): BertOutput(\n",
       "          (dense): Linear(in_features=1536, out_features=384, bias=True)\n",
       "          (LayerNorm): LayerNorm((384,), eps=1e-12, elementwise_affine=True)\n",
       "          (dropout): Dropout(p=0.1, inplace=False)\n",
       "        )\n",
       "      )\n",
       "    )\n",
       "  )\n",
       "  (pooler): BertPooler(\n",
       "    (dense): Linear(in_features=384, out_features=384, bias=True)\n",
       "    (activation): Tanh()\n",
       "  )\n",
       ")"
      ]
     },
     "execution_count": 6,
     "metadata": {},
     "output_type": "execute_result"
    }
   ],
   "source": [
    "from transformers import AutoTokenizer, AutoModel\n",
    "import torch\n",
    "\n",
    "model_name = 'BAAI/bge-small-en-v1.5'\n",
    "tokenizer = AutoTokenizer.from_pretrained(model_name)\n",
    "model = AutoModel.from_pretrained(model_name)\n",
    "model.eval()  # Ensure the model is in evaluation mode\n"
   ]
  },
  {
   "cell_type": "code",
   "execution_count": 11,
   "metadata": {},
   "outputs": [],
   "source": [
    "from tqdm import tqdm  # For progress bar\n",
    "\n",
    "def get_batch_embeddings(batch_texts):\n",
    "    # Tokenize a batch of texts\n",
    "    inputs = tokenizer(\n",
    "        batch_texts,\n",
    "        return_tensors='pt',\n",
    "        truncation=True,\n",
    "        padding='max_length',\n",
    "        max_length=512  # Adjust max length based on your text size\n",
    "    )\n",
    "    with torch.no_grad():\n",
    "        outputs = model(**inputs)\n",
    "    # Mean pooling for dense embedding\n",
    "    embeddings = outputs.last_hidden_state.mean(dim=1)\n",
    "    return embeddings\n"
   ]
  },
  {
   "cell_type": "code",
   "execution_count": 12,
   "metadata": {},
   "outputs": [
    {
     "name": "stderr",
     "output_type": "stream",
     "text": [
      "Generating embeddings: 100%|██████████| 519/519 [26:36<00:00,  3.08s/it]\n"
     ]
    }
   ],
   "source": [
    "from torch.utils.data import DataLoader\n",
    "from tqdm import tqdm\n",
    "\n",
    "# Parameters\n",
    "batch_size = 32  # Adjust based on available GPU/CPU memory\n",
    "\n",
    "# Create a DataLoader for batch processing\n",
    "dataloader = DataLoader(\n",
    "    books['combined_text'].tolist(),\n",
    "    batch_size=batch_size,\n",
    "    shuffle=False\n",
    ")\n",
    "\n",
    "# Generate embeddings in batches\n",
    "all_embeddings = []\n",
    "for batch_texts in tqdm(dataloader, desc='Generating embeddings'):\n",
    "    batch_embeddings = get_batch_embeddings(batch_texts)\n",
    "    all_embeddings.append(batch_embeddings)\n",
    "\n",
    "# Concatenate all embeddings into a single tensor\n",
    "text_embeddings_tensor = torch.cat(all_embeddings)"
   ]
  },
  {
   "cell_type": "code",
   "execution_count": 13,
   "metadata": {},
   "outputs": [],
   "source": [
    "torch.save({\n",
    "    'ISBNs': books['ISBN'].values,  # Save the ISBNs for mapping later\n",
    "    'embeddings': text_embeddings_tensor\n",
    "}, 'book_text_embeddings_bge.pt')\n"
   ]
  },
  {
   "cell_type": "code",
   "execution_count": null,
   "metadata": {},
   "outputs": [],
   "source": []
  }
 ],
 "metadata": {
  "kernelspec": {
   "display_name": "dis_p1",
   "language": "python",
   "name": "python3"
  },
  "language_info": {
   "codemirror_mode": {
    "name": "ipython",
    "version": 3
   },
   "file_extension": ".py",
   "mimetype": "text/x-python",
   "name": "python",
   "nbconvert_exporter": "python",
   "pygments_lexer": "ipython3",
   "version": "3.12.5"
  }
 },
 "nbformat": 4,
 "nbformat_minor": 2
}
