{
 "cells": [
  {
   "cell_type": "markdown",
   "metadata": {},
   "source": [
    "## Item-Based Collaborative Filtering\n",
    "For a given user $ u $ and item $ i $, predict the rating $ r_{ui} $ as follows:\n",
    "\n",
    "$$\n",
    "r_{ui} = \\frac{\\sum_{j \\in R_u} \\text{sim}(i, j) \\cdot r_{uj}}{\\sum_{j \\in R_u} |\\text{sim}(i, j)|}\n",
    "$$\n",
    "\n",
    "Where:\n",
    "- $ R_u $: Items rated by user $ u $.\n",
    "- $ \\text{sim}(i, j) $: Similarity between items $ i $ and $ j $.\n",
    "- $ r_{uj} $: Rating of user $ u $ for item $ j $.\n",
    "\n",
    "---\n"
   ]
  },
  {
   "cell_type": "code",
   "execution_count": 2,
   "metadata": {},
   "outputs": [],
   "source": [
    "import pandas as pd\n",
    "import numpy as np\n",
    "import pandas as pd\n",
    "import numpy as np\n",
    "from sklearn.metrics.pairwise import cosine_similarity\n",
    "from scipy.sparse import csr_matrix, lil_matrix\n",
    "import numpy as np\n",
    "from tqdm import tqdm"
   ]
  },
  {
   "cell_type": "code",
   "execution_count": 3,
   "metadata": {},
   "outputs": [],
   "source": [
    "train_df = pd.read_csv('../data/train.csv')"
   ]
  },
  {
   "cell_type": "code",
   "execution_count": 4,
   "metadata": {},
   "outputs": [
    {
     "name": "stdout",
     "output_type": "stream",
     "text": [
      "Sparse User-Item Matrix shape: (18905, 15712)\n"
     ]
    }
   ],
   "source": [
    "user_item_matrix = train_df.pivot(index='user_id', columns='book_id', values='rating')\n",
    "user_item_matrix_sparse = csr_matrix(user_item_matrix.fillna(0).values)  # Convert to sparse\n",
    "print(f\"Sparse User-Item Matrix shape: {user_item_matrix_sparse.shape}\")"
   ]
  },
  {
   "cell_type": "code",
   "execution_count": 5,
   "metadata": {},
   "outputs": [
    {
     "name": "stderr",
     "output_type": "stream",
     "text": [
      "Processing similarity batches: 100%|██████████| 491/491 [00:06<00:00, 77.96it/s] "
     ]
    },
    {
     "name": "stdout",
     "output_type": "stream",
     "text": [
      "Sparse Item-Item Similarity Matrix shape: (15712, 15712)\n"
     ]
    },
    {
     "name": "stderr",
     "output_type": "stream",
     "text": [
      "\n"
     ]
    }
   ],
   "source": [
    "def compute_item_similarity(user_item_matrix_sparse, batch_size=500):\n",
    "    num_items = user_item_matrix_sparse.shape[1]  \n",
    "    sparse_similarity = lil_matrix((num_items, num_items))  \n",
    "\n",
    "    for start in tqdm(range(0, num_items, batch_size), desc=\"Processing similarity batches\"):\n",
    "        end = min(start + batch_size, num_items)\n",
    "        partial_similarity = cosine_similarity(\n",
    "            user_item_matrix_sparse.T[start:end], user_item_matrix_sparse.T\n",
    "        )\n",
    "\n",
    "        sparse_similarity[start:end] = partial_similarity\n",
    "\n",
    "    return sparse_similarity.tocsr() \n",
    "\n",
    "item_similarity_sparse = compute_item_similarity(user_item_matrix_sparse, batch_size=32)\n",
    "print(f\"Sparse Item-Item Similarity Matrix shape: {item_similarity_sparse.shape}\")\n"
   ]
  },
  {
   "cell_type": "code",
   "execution_count": null,
   "metadata": {},
   "outputs": [],
   "source": [
    "def predict_item_based(user_id, book_id, user_item_matrix_sparse, item_similarity_sparse, user_to_idx, book_to_idx):\n",
    "    if user_id not in user_to_idx or book_id not in book_to_idx:\n",
    "        return np.nan \n",
    "\n",
    "    user_idx = user_to_idx[user_id]\n",
    "    item_idx = book_to_idx[book_id]\n",
    "    user_ratings = user_item_matrix_sparse[user_idx].toarray().flatten()\n",
    "    item_similarities = item_similarity_sparse[item_idx].toarray().flatten()\n",
    "    rated_indices = np.where(user_ratings > 0)[0]\n",
    "\n",
    "    numerator, denominator = 0, 0\n",
    "    for j in rated_indices:\n",
    "        sim = item_similarities[j]\n",
    "        rating = user_ratings[j]\n",
    "        numerator += sim * rating\n",
    "        denominator += abs(sim)\n",
    "\n",
    "    if denominator == 0:\n",
    "        return np.nan  \n",
    "\n",
    "    return numerator / denominator\n",
    "\n",
    "def predict_test_ratings(test_df, user_item_matrix_sparse, item_similarity_sparse, user_to_idx, book_to_idx):\n",
    "    predictions = []\n",
    "    for _, row in tqdm(test_df.iterrows(), total=len(test_df), desc=\"Predicting ratings\"):\n",
    "        user_id = row['user_id']\n",
    "        book_id = row['book_id']\n",
    "        predicted_rating = predict_item_based(\n",
    "            user_id, book_id, user_item_matrix_sparse, item_similarity_sparse, user_to_idx, book_to_idx\n",
    "        )\n",
    "        if np.isnan(predicted_rating):\n",
    "            predicted_rating = user_item_matrix_sparse.data.mean() \n",
    "        predictions.append([row['id'], predicted_rating])\n",
    "\n",
    "    return predictions"
   ]
  },
  {
   "cell_type": "markdown",
   "metadata": {},
   "source": [
    "### Submit"
   ]
  },
  {
   "cell_type": "code",
   "execution_count": 9,
   "metadata": {},
   "outputs": [],
   "source": [
    "test_df = pd.read_csv('../data/test.csv')"
   ]
  },
  {
   "cell_type": "code",
   "execution_count": null,
   "metadata": {},
   "outputs": [],
   "source": [
    "user_to_idx = {user: idx for idx, user in enumerate(train_df['user_id'].unique())}\n",
    "book_to_idx = {book: idx for idx, book in enumerate(train_df['book_id'].unique())}"
   ]
  },
  {
   "cell_type": "code",
   "execution_count": 11,
   "metadata": {},
   "outputs": [
    {
     "name": "stderr",
     "output_type": "stream",
     "text": [
      "Predicting ratings: 100%|██████████| 29367/29367 [00:05<00:00, 5843.70it/s]\n"
     ]
    }
   ],
   "source": [
    "predictions = predict_test_ratings(test_df, user_item_matrix_sparse, item_similarity_sparse, user_to_idx, book_to_idx)"
   ]
  },
  {
   "cell_type": "code",
   "execution_count": 14,
   "metadata": {},
   "outputs": [
    {
     "name": "stdout",
     "output_type": "stream",
     "text": [
      "Predictions saved to 'item_based_predictions.csv'\n"
     ]
    }
   ],
   "source": [
    "output_df = pd.DataFrame(predictions, columns=['id', 'rating'])\n",
    "output_df.to_csv('item_collaborative.csv', index=False)\n",
    "print(\"Predictions saved to 'item_based_predictions.csv'\")"
   ]
  }
 ],
 "metadata": {
  "kernelspec": {
   "display_name": "dis_p1",
   "language": "python",
   "name": "python3"
  },
  "language_info": {
   "codemirror_mode": {
    "name": "ipython",
    "version": 3
   },
   "file_extension": ".py",
   "mimetype": "text/x-python",
   "name": "python",
   "nbconvert_exporter": "python",
   "pygments_lexer": "ipython3",
   "version": "3.12.5"
  }
 },
 "nbformat": 4,
 "nbformat_minor": 2
}
