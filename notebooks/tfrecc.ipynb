{
 "cells": [
  {
   "cell_type": "code",
   "execution_count": 1,
   "metadata": {},
   "outputs": [
    {
     "name": "stderr",
     "output_type": "stream",
     "text": [
      "2024-11-26 02:45:42.465382: I tensorflow/core/util/port.cc:153] oneDNN custom operations are on. You may see slightly different numerical results due to floating-point round-off errors from different computation orders. To turn them off, set the environment variable `TF_ENABLE_ONEDNN_OPTS=0`.\n",
      "2024-11-26 02:45:42.466171: I external/local_xla/xla/tsl/cuda/cudart_stub.cc:32] Could not find cuda drivers on your machine, GPU will not be used.\n",
      "2024-11-26 02:45:42.468911: I external/local_xla/xla/tsl/cuda/cudart_stub.cc:32] Could not find cuda drivers on your machine, GPU will not be used.\n",
      "2024-11-26 02:45:42.476226: E external/local_xla/xla/stream_executor/cuda/cuda_fft.cc:477] Unable to register cuFFT factory: Attempting to register factory for plugin cuFFT when one has already been registered\n",
      "WARNING: All log messages before absl::InitializeLog() is called are written to STDERR\n",
      "E0000 00:00:1732585542.488410  160208 cuda_dnn.cc:8310] Unable to register cuDNN factory: Attempting to register factory for plugin cuDNN when one has already been registered\n",
      "E0000 00:00:1732585542.491860  160208 cuda_blas.cc:1418] Unable to register cuBLAS factory: Attempting to register factory for plugin cuBLAS when one has already been registered\n",
      "2024-11-26 02:45:42.505834: I tensorflow/core/platform/cpu_feature_guard.cc:210] This TensorFlow binary is optimized to use available CPU instructions in performance-critical operations.\n",
      "To enable the following instructions: AVX2 AVX512F AVX512_VNNI FMA, in other operations, rebuild TensorFlow with the appropriate compiler flags.\n"
     ]
    }
   ],
   "source": [
    "import tensorflow as tf\n",
    "import tensorflow_recommenders as tfrs\n",
    "import pandas as pd\n",
    "from sklearn.model_selection import train_test_split\n",
    "from sklearn.preprocessing import StandardScaler\n",
    "from sklearn.metrics import mean_squared_error\n",
    "import numpy as np"
   ]
  },
  {
   "cell_type": "code",
   "execution_count": 2,
   "metadata": {},
   "outputs": [],
   "source": [
    "import numpy as np\n",
    "book_text_embeddings = np.load(\"../data/book_text_embeddings_bge.npz\", allow_pickle=True)\n",
    "book_text_embeddings = book_text_embeddings[\"embeddings\"]\n",
    "category_embeddings = np.load(\"../data/category_embeddings.npy\", allow_pickle=True)"
   ]
  },
  {
   "cell_type": "code",
   "execution_count": 6,
   "metadata": {},
   "outputs": [],
   "source": [
    "books = pd.read_csv(\"../data/extended_books_google_embeddings.csv\")\n",
    "books[\"text_embeddings\"] = book_text_embeddings.tolist()\n",
    "books[\"category_embeddings\"] = category_embeddings.tolist()"
   ]
  },
  {
   "cell_type": "code",
   "execution_count": 12,
   "metadata": {},
   "outputs": [
    {
     "name": "stdout",
     "output_type": "stream",
     "text": [
      "Filtered train users: 8534\n"
     ]
    }
   ],
   "source": [
    "train_df = pd.read_csv(\"../data/train.csv\")\n",
    "test_df = pd.read_csv(\"../data/test.csv\")\n",
    "\n",
    "# Identify users unique to train and filter them\n",
    "train_users = set(train_df[\"user_id\"].unique())\n",
    "test_users = set(test_df[\"user_id\"].unique())\n",
    "unique_train_users = train_users - test_users\n",
    "\n",
    "user_rating_counts = train_df[\"user_id\"].value_counts()\n",
    "low_activity_users = user_rating_counts.loc[list(unique_train_users)][user_rating_counts < 2].index\n",
    "\n",
    "train_df = train_df[~train_df[\"user_id\"].isin(low_activity_users)]\n",
    "\n",
    "print(f\"Filtered train users: {len(train_df['user_id'].unique())}\")"
   ]
  },
  {
   "cell_type": "code",
   "execution_count": 13,
   "metadata": {},
   "outputs": [
    {
     "data": {
      "text/plain": [
       "(90152, 20)"
      ]
     },
     "execution_count": 13,
     "metadata": {},
     "output_type": "execute_result"
    }
   ],
   "source": [
    "train_df = train_df.merge(books, on=\"book_id\")\n",
    "train_df.shape"
   ]
  },
  {
   "cell_type": "code",
   "execution_count": 14,
   "metadata": {},
   "outputs": [
    {
     "name": "stderr",
     "output_type": "stream",
     "text": [
      "W0000 00:00:1732585621.887512  160208 gpu_device.cc:2344] Cannot dlopen some GPU libraries. Please make sure the missing libraries mentioned above are installed properly if you would like to use GPU. Follow the guide at https://www.tensorflow.org/install/gpu for how to download and setup the required libraries for your platform.\n",
      "Skipping registering GPU devices...\n"
     ]
    }
   ],
   "source": [
    "train_df[\"user_id\"] = train_df[\"user_id\"].astype(str)\n",
    "train_df[\"book_id\"] = train_df[\"book_id\"].astype(str)\n",
    "\n",
    "# Split the data into training and validation sets\n",
    "train_data, val_data = train_test_split(train_df, test_size=0.1, random_state=42)\n",
    "\n",
    "train_dataset = tf.data.Dataset.from_tensor_slices({\n",
    "    \"user_id\": train_data[\"user_id\"].values,\n",
    "    \"book_id\": train_data[\"book_id\"].values,\n",
    "    \"rating\": train_data[\"rating\"].values.astype('float32'),\n",
    "    \"text_embeddings\": train_data[\"text_embeddings\"].tolist(),  # Convert to list for tf.data compatibility\n",
    "    \"category_embeddings\": train_data[\"category_embeddings\"].tolist(),\n",
    "})\n",
    "\n",
    "val_dataset = tf.data.Dataset.from_tensor_slices({\n",
    "    \"user_id\": val_data[\"user_id\"].values,\n",
    "    \"book_id\": val_data[\"book_id\"].values,\n",
    "    \"rating\": val_data[\"rating\"].values.astype('float32'),\n",
    "    \"text_embeddings\": val_data[\"text_embeddings\"].tolist(),\n",
    "    \"category_embeddings\": val_data[\"category_embeddings\"].tolist(),\n",
    "})"
   ]
  },
  {
   "cell_type": "code",
   "execution_count": 15,
   "metadata": {},
   "outputs": [],
   "source": [
    "class RatingModelMTL(tfrs.models.Model):\n",
    "    def __init__(self):\n",
    "        super().__init__()\n",
    "        # Vocabulary sizes\n",
    "        user_vocab_size = len(train_df[\"user_id\"].unique())\n",
    "        book_vocab_size = len(train_df[\"book_id\"].unique())\n",
    "\n",
    "        # Embedding dimensions\n",
    "        embedding_dim_user = min(100, int(user_vocab_size ** 0.5))\n",
    "        embedding_dim_book = min(100, int(book_vocab_size ** 0.5))\n",
    "\n",
    "        # User and Book Embeddings\n",
    "        self.user_embedding = tf.keras.Sequential([\n",
    "            tf.keras.layers.StringLookup(vocabulary=train_df[\"user_id\"].unique(), mask_token=None),\n",
    "            tf.keras.layers.Embedding(user_vocab_size + 1, embedding_dim_user)\n",
    "        ])\n",
    "        self.book_embedding = tf.keras.Sequential([\n",
    "            tf.keras.layers.StringLookup(vocabulary=train_df[\"book_id\"].unique(), mask_token=None),\n",
    "            tf.keras.layers.Embedding(book_vocab_size + 1, embedding_dim_book)\n",
    "        ])\n",
    "\n",
    "        # Text Embedding Processing\n",
    "        self.text_embedding_layer = tf.keras.layers.Dense(128, activation=\"relu\")\n",
    "\n",
    "        # Category Embedding Processing\n",
    "        self.category_embedding_layer = tf.keras.layers.Dense(128, activation=\"relu\")\n",
    "\n",
    "        # Shared representation (Deep Component)\n",
    "        self.shared_model = tf.keras.Sequential([\n",
    "            tf.keras.layers.Dense(512, activation=\"relu\"),\n",
    "            tf.keras.layers.BatchNormalization(),\n",
    "            tf.keras.layers.Dropout(0.2),\n",
    "            tf.keras.layers.Dense(128, activation=\"relu\"),\n",
    "            tf.keras.layers.BatchNormalization(),\n",
    "            tf.keras.layers.Dropout(0.2)\n",
    "        ])\n",
    "\n",
    "        # Regression Head\n",
    "        self.regression_head = tf.keras.Sequential([\n",
    "            tf.keras.layers.Dense(32, activation=\"relu\"),\n",
    "            tf.keras.layers.Dense(1)  # Predict continuous rating\n",
    "        ])\n",
    "\n",
    "        # Classification Head\n",
    "        self.classification_head = tf.keras.Sequential([\n",
    "            tf.keras.layers.Dense(32, activation=\"relu\"),\n",
    "            tf.keras.layers.Dense(9, activation=\"softmax\")  # Predict 9 rating classes (1.0 to 5.0)\n",
    "        ])\n",
    "\n",
    "        # Task metrics\n",
    "        self.regression_task = tfrs.tasks.Ranking(\n",
    "            loss=tf.keras.losses.MeanSquaredError(),\n",
    "            metrics=[tf.keras.metrics.RootMeanSquaredError()]\n",
    "        )\n",
    "        self.classification_task = tfrs.tasks.Ranking(\n",
    "            loss=tf.keras.losses.SparseCategoricalCrossentropy(),\n",
    "            metrics=[tf.keras.metrics.SparseCategoricalAccuracy()]\n",
    "        )\n",
    "\n",
    "    def compute_loss(self, features, training=False):\n",
    "        # Compute embeddings\n",
    "        user_embeddings = self.user_embedding(features[\"user_id\"])\n",
    "        book_embeddings = self.book_embedding(features[\"book_id\"])\n",
    "        text_embeddings = tf.cast(features[\"text_embeddings\"], tf.float32)\n",
    "        text_embeddings = self.text_embedding_layer(text_embeddings)\n",
    "        category_embeddings = tf.cast(features[\"category_embeddings\"], tf.float32)\n",
    "        category_embeddings = self.category_embedding_layer(category_embeddings)\n",
    "\n",
    "        # Combine embeddings\n",
    "        interaction = tf.concat([user_embeddings, book_embeddings, text_embeddings, category_embeddings], axis=1)\n",
    "\n",
    "        # Shared representation\n",
    "        shared_output = self.shared_model(interaction)\n",
    "\n",
    "        # Regression and Classification outputs\n",
    "        regression_output = self.regression_head(shared_output)\n",
    "        classification_output = self.classification_head(shared_output)\n",
    "\n",
    "        # Compute losses\n",
    "        ratings = tf.cast(features[\"rating\"], tf.float32)\n",
    "        class_labels = tf.cast(features[\"rating\"] * 2 - 2, tf.int32)  # Map 1.0 → 0, ..., 5.0 → 8\n",
    "        regression_loss = self.regression_task(labels=ratings, predictions=tf.squeeze(regression_output, axis=-1))\n",
    "        classification_loss = self.classification_task(labels=class_labels, predictions=classification_output)\n",
    "\n",
    "        # Combine losses (weighted)\n",
    "        total_loss = regression_loss + 4 * classification_loss\n",
    "        return total_loss\n"
   ]
  },
  {
   "cell_type": "code",
   "execution_count": 16,
   "metadata": {},
   "outputs": [
    {
     "name": "stdout",
     "output_type": "stream",
     "text": [
      "\u001b[1m2536/2536\u001b[0m \u001b[32m━━━━━━━━━━━━━━━━━━━━\u001b[0m\u001b[37m\u001b[0m \u001b[1m214s\u001b[0m 84ms/step - loss: 7.7512 - regularization_loss: 0.0000e+00 - root_mean_squared_error: 0.9316 - sparse_categorical_accuracy: 0.2890 - total_loss: 7.7512 - val_loss: 6.9785 - val_root_mean_squared_error: 0.8133 - val_sparse_categorical_accuracy: 0.3485 - val_regularization_loss: 0.0000e+00 - val_total_loss: 6.9785\n"
     ]
    }
   ],
   "source": [
    "model = RatingModelMTL()\n",
    "model.compile(optimizer=tf.keras.optimizers.Adam(learning_rate=0.005), run_eagerly=True)\n",
    "\n",
    "history = model.fit(\n",
    "    train_dataset.batch(32),\n",
    "    validation_data=val_dataset.batch(32),\n",
    "    epochs=1\n",
    ")"
   ]
  },
  {
   "cell_type": "markdown",
   "metadata": {},
   "source": [
    "## Predict"
   ]
  },
  {
   "cell_type": "code",
   "execution_count": 17,
   "metadata": {},
   "outputs": [
    {
     "data": {
      "text/html": [
       "<div>\n",
       "<style scoped>\n",
       "    .dataframe tbody tr th:only-of-type {\n",
       "        vertical-align: middle;\n",
       "    }\n",
       "\n",
       "    .dataframe tbody tr th {\n",
       "        vertical-align: top;\n",
       "    }\n",
       "\n",
       "    .dataframe thead th {\n",
       "        text-align: right;\n",
       "    }\n",
       "</style>\n",
       "<table border=\"1\" class=\"dataframe\">\n",
       "  <thead>\n",
       "    <tr style=\"text-align: right;\">\n",
       "      <th></th>\n",
       "      <th>id</th>\n",
       "      <th>book_id</th>\n",
       "      <th>user_id</th>\n",
       "    </tr>\n",
       "  </thead>\n",
       "  <tbody>\n",
       "    <tr>\n",
       "      <th>0</th>\n",
       "      <td>0</td>\n",
       "      <td>3786</td>\n",
       "      <td>40484</td>\n",
       "    </tr>\n",
       "    <tr>\n",
       "      <th>1</th>\n",
       "      <td>1</td>\n",
       "      <td>1985</td>\n",
       "      <td>47039</td>\n",
       "    </tr>\n",
       "    <tr>\n",
       "      <th>2</th>\n",
       "      <td>2</td>\n",
       "      <td>2290</td>\n",
       "      <td>60111</td>\n",
       "    </tr>\n",
       "    <tr>\n",
       "      <th>3</th>\n",
       "      <td>3</td>\n",
       "      <td>118657</td>\n",
       "      <td>64447</td>\n",
       "    </tr>\n",
       "    <tr>\n",
       "      <th>4</th>\n",
       "      <td>4</td>\n",
       "      <td>1560</td>\n",
       "      <td>2953</td>\n",
       "    </tr>\n",
       "    <tr>\n",
       "      <th>...</th>\n",
       "      <td>...</td>\n",
       "      <td>...</td>\n",
       "      <td>...</td>\n",
       "    </tr>\n",
       "    <tr>\n",
       "      <th>29362</th>\n",
       "      <td>29362</td>\n",
       "      <td>2802</td>\n",
       "      <td>12312</td>\n",
       "    </tr>\n",
       "    <tr>\n",
       "      <th>29363</th>\n",
       "      <td>29363</td>\n",
       "      <td>53552</td>\n",
       "      <td>25725</td>\n",
       "    </tr>\n",
       "    <tr>\n",
       "      <th>29364</th>\n",
       "      <td>29364</td>\n",
       "      <td>4065</td>\n",
       "      <td>77178</td>\n",
       "    </tr>\n",
       "    <tr>\n",
       "      <th>29365</th>\n",
       "      <td>29365</td>\n",
       "      <td>1290</td>\n",
       "      <td>23201</td>\n",
       "    </tr>\n",
       "    <tr>\n",
       "      <th>29366</th>\n",
       "      <td>29366</td>\n",
       "      <td>1592</td>\n",
       "      <td>35394</td>\n",
       "    </tr>\n",
       "  </tbody>\n",
       "</table>\n",
       "<p>29367 rows × 3 columns</p>\n",
       "</div>"
      ],
      "text/plain": [
       "          id  book_id  user_id\n",
       "0          0     3786    40484\n",
       "1          1     1985    47039\n",
       "2          2     2290    60111\n",
       "3          3   118657    64447\n",
       "4          4     1560     2953\n",
       "...      ...      ...      ...\n",
       "29362  29362     2802    12312\n",
       "29363  29363    53552    25725\n",
       "29364  29364     4065    77178\n",
       "29365  29365     1290    23201\n",
       "29366  29366     1592    35394\n",
       "\n",
       "[29367 rows x 3 columns]"
      ]
     },
     "execution_count": 17,
     "metadata": {},
     "output_type": "execute_result"
    }
   ],
   "source": [
    "test_df = pd.read_csv(\"../data/test.csv\") \n",
    "test_df"
   ]
  },
  {
   "cell_type": "code",
   "execution_count": 18,
   "metadata": {},
   "outputs": [],
   "source": [
    "\n",
    "# Merge with the book_id\n",
    "test_df = test_df.merge(books, on=\"book_id\", how=\"left\")"
   ]
  },
  {
   "cell_type": "code",
   "execution_count": 19,
   "metadata": {},
   "outputs": [
    {
     "name": "stdout",
     "output_type": "stream",
     "text": [
      "Predictions saved to predictions.csv\n"
     ]
    },
    {
     "name": "stderr",
     "output_type": "stream",
     "text": [
      "2024-11-26 02:52:09.089882: I tensorflow/core/framework/local_rendezvous.cc:405] Local rendezvous is aborting with status: OUT_OF_RANGE: End of sequence\n"
     ]
    }
   ],
   "source": [
    "\n",
    "test_df[\"user_id\"] = test_df[\"user_id\"].astype(str)\n",
    "test_df[\"book_id\"] = test_df[\"book_id\"].astype(str)\n",
    "\n",
    "# Create TensorFlow dataset\n",
    "test_dataset = tf.data.Dataset.from_tensor_slices({\n",
    "    \"user_id\": test_df[\"user_id\"].values,\n",
    "    \"book_id\": test_df[\"book_id\"].values,\n",
    "    \"text_embeddings\": test_df[\"text_embeddings\"].tolist(),\n",
    "    \"category_embeddings\": test_df[\"category_embeddings\"].tolist(),\n",
    "}).batch(32)  # Batch for efficiency\n",
    "\n",
    "# Predictions list\n",
    "predictions = []\n",
    "\n",
    "# Loop through the test dataset\n",
    "for batch in test_dataset:\n",
    "    user_ids = batch[\"user_id\"]\n",
    "    book_ids = batch[\"book_id\"]\n",
    "\n",
    "    # Get embeddings\n",
    "    user_embeddings = model.user_embedding(user_ids)\n",
    "    book_embeddings = model.book_embedding(book_ids)\n",
    "    text_embeddings = tf.cast(batch[\"text_embeddings\"], tf.float32)\n",
    "    text_embeddings = model.text_embedding_layer(text_embeddings)\n",
    "    category_embeddings = tf.cast(batch[\"category_embeddings\"], tf.float32)\n",
    "    category_embeddings = model.category_embedding_layer(category_embeddings)\n",
    "\n",
    "    # Shared representation\n",
    "    interaction = tf.concat([user_embeddings, book_embeddings, text_embeddings, category_embeddings], axis=1)\n",
    "    shared_output = model.shared_model(interaction)\n",
    "\n",
    "    # Use the regression head for predictions\n",
    "    batch_predictions = model.regression_head(shared_output)\n",
    "\n",
    "    # Convert to numpy and flatten\n",
    "    predictions.extend(batch_predictions.numpy().flatten())\n",
    "\n",
    "# Save predictions\n",
    "test_df[\"rating\"] = predictions\n",
    "output_df = test_df[[\"id\", \"rating\"]]\n",
    "output_df.to_csv(\"mtl.csv\", index=False)\n",
    "print(\"Predictions saved to predictions.csv\")\n"
   ]
  },
  {
   "cell_type": "code",
   "execution_count": null,
   "metadata": {},
   "outputs": [],
   "source": []
  }
 ],
 "metadata": {
  "kernelspec": {
   "display_name": "tf",
   "language": "python",
   "name": "python3"
  },
  "language_info": {
   "codemirror_mode": {
    "name": "ipython",
    "version": 3
   },
   "file_extension": ".py",
   "mimetype": "text/x-python",
   "name": "python",
   "nbconvert_exporter": "python",
   "pygments_lexer": "ipython3",
   "version": "3.9.20"
  }
 },
 "nbformat": 4,
 "nbformat_minor": 2
}
