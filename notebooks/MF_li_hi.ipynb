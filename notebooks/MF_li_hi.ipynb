{
 "cells": [
  {
   "cell_type": "code",
   "execution_count": 1,
   "metadata": {},
   "outputs": [
    {
     "name": "stdout",
     "output_type": "stream",
     "text": [
      "Using device: mps\n"
     ]
    }
   ],
   "source": [
    "import pandas as pd\n",
    "import numpy as np\n",
    "import torch\n",
    "import torch.nn as nn\n",
    "from torch.utils.data import Dataset, DataLoader\n",
    "import torch.optim as optim\n",
    "from sklearn.model_selection import StratifiedShuffleSplit\n",
    "from tqdm import tqdm\n",
    "\n",
    "# -----------------------\n",
    "# Hyperparameters\n",
    "# -----------------------\n",
    "EMBED_DIM = 64\n",
    "BATCH_SIZE = 128\n",
    "LR = 3e-4\n",
    "EPOCHS = 100\n",
    "REG_LAMBDA = 1e-1\n",
    "PATIENCE = 5  # Early stopping patience\n",
    "DEVICE = torch.device(\"mps\" if torch.backends.mps.is_available() else \"cpu\")\n",
    "print(f\"Using device: {DEVICE}\")\n",
    "\n",
    "# Set seeds for reproducibility\n",
    "SEED = 42\n",
    "np.random.seed(SEED)\n",
    "torch.manual_seed(SEED)\n",
    "if DEVICE.type == \"cuda\":\n",
    "    torch.cuda.manual_seed(SEED)\n",
    "    torch.cuda.manual_seed_all(SEED)\n",
    "torch.backends.cudnn.deterministic = True\n",
    "\n",
    "# -----------------------\n",
    "# Data Loading\n",
    "# -----------------------\n",
    "train_df = pd.read_csv(\"../data/train.csv\")\n",
    "\n",
    "unique_users = train_df.user_id.unique()\n",
    "unique_books = train_df.book_id.unique()\n",
    "\n",
    "user2idx = {u: i for i, u in enumerate(unique_users)}\n",
    "book2idx = {b: i for i, b in enumerate(unique_books)}\n",
    "\n",
    "train_df[\"user_idx\"] = train_df[\"user_id\"].map(user2idx)\n",
    "train_df[\"book_idx\"] = train_df[\"book_id\"].map(book2idx)\n",
    "\n",
    "n_users = len(user2idx)\n",
    "n_books = len(book2idx)\n",
    "\n",
    "y = train_df[\"rating\"].values\n",
    "splitter = StratifiedShuffleSplit(n_splits=1, test_size=0.1, random_state=SEED)\n",
    "train_idx, val_idx = next(splitter.split(train_df, y))\n",
    "\n",
    "train_data = train_df.iloc[train_idx].reset_index(drop=True)\n",
    "val_data = train_df.iloc[val_idx].reset_index(drop=True)\n",
    "\n",
    "\n",
    "class RatingsDataset(Dataset):\n",
    "    def __init__(self, df):\n",
    "        self.users = df[\"user_idx\"].values\n",
    "        self.books = df[\"book_idx\"].values\n",
    "        self.ratings = df[\"rating\"].values.astype(np.float32)\n",
    "\n",
    "    def __len__(self):\n",
    "        return len(self.ratings)\n",
    "\n",
    "    def __getitem__(self, idx):\n",
    "        return (\n",
    "            torch.tensor(self.users[idx], dtype=torch.long),\n",
    "            torch.tensor(self.books[idx], dtype=torch.long),\n",
    "            torch.tensor(self.ratings[idx], dtype=torch.float32),\n",
    "        )\n",
    "\n",
    "\n",
    "train_dataset = RatingsDataset(train_data)\n",
    "val_dataset = RatingsDataset(val_data)\n",
    "\n",
    "train_loader = DataLoader(\n",
    "    train_dataset, batch_size=BATCH_SIZE, shuffle=True, num_workers=0\n",
    ")\n",
    "val_loader = DataLoader(\n",
    "    val_dataset, batch_size=BATCH_SIZE, shuffle=False, num_workers=0\n",
    ")\n",
    "\n",
    "# -----------------------\n",
    "# Fixed Offset based on User Counts\n",
    "# -----------------------\n",
    "user_counts = (\n",
    "    train_data.groupby(\"user_idx\").size().reindex(range(n_users), fill_value=0).values\n",
    ")\n",
    "max_count = user_counts.max()\n",
    "# normalize count: f_u in [0,1]\n",
    "normalized_counts = np.log1p(user_counts) / np.log1p(max_count)\n",
    "\n",
    "# Define fixed offset: from ~3.66 at f_u=0 to ~2.10 at f_u=1\n",
    "offset_high = 3.66\n",
    "offset_low = 2.10\n",
    "# offset(u) = offset_high - (offset_high - offset_low)*f_u\n",
    "# = offset_high + (offset_low - offset_high)*f_u\n",
    "offsets = offset_high + (offset_low - offset_high) * normalized_counts\n",
    "offsets_tensor = torch.tensor(offsets, dtype=torch.float32, device=DEVICE)\n",
    "# TODO I will get the offsets directly based on the avg rating of the users with the same number of reviews"
   ]
  },
  {
   "cell_type": "code",
   "execution_count": 5,
   "metadata": {},
   "outputs": [
    {
     "data": {
      "text/plain": [
       "{1: 3.909282700421941,\n",
       " 2: 3.7764540995094604,\n",
       " 3: 2.6917372881355934,\n",
       " 4: 2.1509026687598114,\n",
       " 5: 2.165625,\n",
       " 6: 2.1882008154943935,\n",
       " 7: 2.213868816008894,\n",
       " 8: 2.202816901408451,\n",
       " 9: 2.1195959595959595,\n",
       " 10: 2.1348214285714286,\n",
       " 11: 2.095859585958596,\n",
       " 12: 2.0811965811965814,\n",
       " 13: 2.0209549071618036,\n",
       " 14: 2.030920421860019,\n",
       " 15: 2.094392523364486,\n",
       " 16: 2.081951530612245,\n",
       " 17: 2.1029411764705883,\n",
       " 18: 1.9661246612466126,\n",
       " 19: 2.1302847282139776,\n",
       " 20: 2.008189655172414,\n",
       " 21: 2.065270935960591,\n",
       " 22: 2.105,\n",
       " 23: 2.123461853978671,\n",
       " 24: 2.0411324786324787,\n",
       " 25: 1.9930434782608695,\n",
       " 26: 2.0360576923076925,\n",
       " 27: 2.0755360623781676,\n",
       " 28: 2.0267857142857144,\n",
       " 29: 1.9547413793103448,\n",
       " 30: 2.081609195402299,\n",
       " 31: 1.9428763440860215,\n",
       " 32: 2.05234375,\n",
       " 33: 2.0606060606060606,\n",
       " 34: 2.102076124567474,\n",
       " 35: 2.306122448979592,\n",
       " 36: 1.9102564102564104,\n",
       " 37: 2.122972972972973,\n",
       " 38: 2.109907120743034,\n",
       " 39: 2.1373626373626373,\n",
       " 40: 2.0631578947368423,\n",
       " 41: 2.0476718403547673,\n",
       " 42: 2.2876984126984126,\n",
       " 43: 2.181063122923588,\n",
       " 44: 1.8308080808080809,\n",
       " 45: 2.12,\n",
       " 46: 1.9130434782608696,\n",
       " 47: 2.0270793036750483,\n",
       " 48: 2.0104166666666665,\n",
       " 49: 1.7142857142857142,\n",
       " 50: 1.9936363636363637,\n",
       " 51: 2.116557734204793,\n",
       " 52: 1.9337606837606838,\n",
       " 53: 2.210691823899371,\n",
       " 54: 2.111111111111111,\n",
       " 55: 1.8745454545454545,\n",
       " 56: 1.7842261904761905,\n",
       " 57: 1.7741228070175439,\n",
       " 58: 1.8922413793103448,\n",
       " 59: 1.7627118644067796,\n",
       " 60: 2.066666666666667,\n",
       " 61: 2.181967213114754,\n",
       " 62: 2.0990783410138247,\n",
       " 63: 1.9497354497354498,\n",
       " 64: 1.83984375,\n",
       " 65: 1.7692307692307692,\n",
       " 67: 2.1611940298507464,\n",
       " 68: 2.0980392156862746,\n",
       " 69: 1.8671497584541064,\n",
       " 70: 2.163095238095238,\n",
       " 71: 1.9330985915492958,\n",
       " 72: 2.076388888888889,\n",
       " 73: 2.039383561643836,\n",
       " 74: 2.0382882882882885,\n",
       " 75: 1.7733333333333334,\n",
       " 76: 1.9851973684210527,\n",
       " 77: 1.725974025974026,\n",
       " 78: 2.1324786324786325,\n",
       " 79: 1.8765822784810127,\n",
       " 80: 1.64375,\n",
       " 81: 1.8179012345679013,\n",
       " 82: 2.222560975609756,\n",
       " 83: 1.7228915662650603,\n",
       " 84: 1.7678571428571428,\n",
       " 85: 1.2294117647058824,\n",
       " 86: 2.3313953488372094,\n",
       " 87: 1.764367816091954,\n",
       " 88: 1.8721590909090908,\n",
       " 89: 1.803370786516854,\n",
       " 91: 2.2527472527472527,\n",
       " 93: 2.295698924731183,\n",
       " 94: 2.367021276595745,\n",
       " 95: 1.7789473684210526,\n",
       " 96: 1.8151041666666667,\n",
       " 97: 3.5,\n",
       " 100: 3.32,\n",
       " 101: 3.2475247524752477,\n",
       " 102: 2.264705882352941,\n",
       " 103: 1.8883495145631068,\n",
       " 104: 2.4711538461538463,\n",
       " 105: 2.295238095238095,\n",
       " 112: 2.1160714285714284,\n",
       " 113: 1.4115044247787611,\n",
       " 115: 2.117391304347826,\n",
       " 116: 1.7801724137931034,\n",
       " 117: 2.6452991452991452,\n",
       " 118: 1.8220338983050848,\n",
       " 121: 1.8057851239669422,\n",
       " 122: 2.1352459016393444,\n",
       " 128: 2.03125,\n",
       " 134: 1.2350746268656716,\n",
       " 136: 2.0073529411764706,\n",
       " 147: 2.370748299319728,\n",
       " 161: 2.1801242236024843,\n",
       " 170: 1.9,\n",
       " 171: 1.6140350877192982,\n",
       " 174: 1.8994252873563218,\n",
       " 177: 3.5,\n",
       " 183: 2.2704918032786887,\n",
       " 187: 2.6737967914438503,\n",
       " 206: 1.7475728155339805,\n",
       " 234: 2.7948717948717947,\n",
       " 241: 2.0352697095435683,\n",
       " 302: 2.173841059602649,\n",
       " 314: 1.4570063694267517,\n",
       " 465: 1.5881720430107527,\n",
       " 1841: 2.206952743074416}"
      ]
     },
     "execution_count": 5,
     "metadata": {},
     "output_type": "execute_result"
    }
   ],
   "source": [
    "user_id_counts = train_data.groupby(\"user_id\")[\"user_id\"].transform(\"size\")\n",
    "count2mean = train_data.groupby(user_id_counts)[\"rating\"].mean()\n",
    "count2mean_dict = count2mean.to_dict()\n",
    "count2mean_dict"
   ]
  },
  {
   "cell_type": "code",
   "execution_count": null,
   "metadata": {},
   "outputs": [],
   "source": [
    "# Define old offset high/low\n",
    "offset_high = 3.95\n",
    "offset_low = 2.10\n",
    "\n",
    "# Compute the mean rating by exact user count\n",
    "user_id_counts = train_data.groupby(\"user_id\")[\"user_id\"].transform(\"size\")\n",
    "count2mean = train_data.groupby(user_id_counts)[\"rating\"].mean()\n",
    "count2mean_dict = count2mean.to_dict()\n",
    "\n",
    "\n",
    "# Compute offsets now with lookup and fallback\n",
    "offsets = np.zeros_like(user_counts, dtype=np.float32)\n",
    "for i, c in enumerate(user_counts):\n",
    "    if c in count2mean_dict:\n",
    "        # Use the mean for that count minus global mean as offset\n",
    "        offsets[i] = count2mean_dict[c]\n",
    "    else:\n",
    "        # Fallback to old linear approximation based on normalized counts\n",
    "        f_u = np.log1p(c) / (np.log1p(max_count) if max_count > 0 else 1.0)\n",
    "        offsets[i] = offset_high + (offset_low - offset_high) * f_u\n",
    "\n",
    "offsets_tensor = torch.tensor(offsets, dtype=torch.float32, device=DEVICE)"
   ]
  },
  {
   "cell_type": "code",
   "execution_count": 9,
   "metadata": {},
   "outputs": [
    {
     "data": {
      "text/plain": [
       "tensor([3.0981, 3.5162, 2.6632,  ..., 3.5162, 3.5162, 3.6600], device='mps:0')"
      ]
     },
     "execution_count": 9,
     "metadata": {},
     "output_type": "execute_result"
    }
   ],
   "source": [
    "offsets_tensor"
   ]
  },
  {
   "cell_type": "code",
   "execution_count": 13,
   "metadata": {},
   "outputs": [
    {
     "name": "stderr",
     "output_type": "stream",
     "text": [
      "/Users/saidgurbuz/miniconda3/lib/python3.11/site-packages/torch/optim/lr_scheduler.py:60: UserWarning: The verbose parameter is deprecated. Please use get_last_lr() to access the learning rate.\n",
      "  warnings.warn(\n"
     ]
    },
    {
     "name": "stdout",
     "output_type": "stream",
     "text": [
      "Current learning rate:  0.0003\n"
     ]
    },
    {
     "name": "stderr",
     "output_type": "stream",
     "text": [
      "100%|██████████| 707/707 [00:04<00:00, 150.09it/s]\n"
     ]
    },
    {
     "name": "stdout",
     "output_type": "stream",
     "text": [
      "Epoch 1/100, Train Loss: 0.8797, Val Loss: 0.8051\n",
      "RMSE Train: 0.9379, RMSE Val: 0.8973\n",
      "Current learning rate:  0.0003\n"
     ]
    },
    {
     "name": "stderr",
     "output_type": "stream",
     "text": [
      "100%|██████████| 707/707 [00:04<00:00, 168.49it/s]\n"
     ]
    },
    {
     "name": "stdout",
     "output_type": "stream",
     "text": [
      "Epoch 2/100, Train Loss: 0.7703, Val Loss: 0.7933\n",
      "RMSE Train: 0.8777, RMSE Val: 0.8907\n",
      "Current learning rate:  0.0003\n"
     ]
    },
    {
     "name": "stderr",
     "output_type": "stream",
     "text": [
      "100%|██████████| 707/707 [00:04<00:00, 170.80it/s]\n"
     ]
    },
    {
     "name": "stdout",
     "output_type": "stream",
     "text": [
      "Epoch 3/100, Train Loss: 0.7520, Val Loss: 0.7823\n",
      "RMSE Train: 0.8672, RMSE Val: 0.8845\n",
      "Current learning rate:  0.0003\n"
     ]
    },
    {
     "name": "stderr",
     "output_type": "stream",
     "text": [
      "100%|██████████| 707/707 [00:04<00:00, 172.81it/s]\n"
     ]
    },
    {
     "name": "stdout",
     "output_type": "stream",
     "text": [
      "Epoch 4/100, Train Loss: 0.7347, Val Loss: 0.7725\n",
      "RMSE Train: 0.8571, RMSE Val: 0.8789\n",
      "Current learning rate:  0.0003\n"
     ]
    },
    {
     "name": "stderr",
     "output_type": "stream",
     "text": [
      "100%|██████████| 707/707 [00:04<00:00, 163.83it/s]\n"
     ]
    },
    {
     "name": "stdout",
     "output_type": "stream",
     "text": [
      "Epoch 5/100, Train Loss: 0.7184, Val Loss: 0.7626\n",
      "RMSE Train: 0.8476, RMSE Val: 0.8732\n",
      "Current learning rate:  0.0003\n"
     ]
    },
    {
     "name": "stderr",
     "output_type": "stream",
     "text": [
      "100%|██████████| 707/707 [00:04<00:00, 166.28it/s]\n"
     ]
    },
    {
     "name": "stdout",
     "output_type": "stream",
     "text": [
      "Epoch 6/100, Train Loss: 0.7031, Val Loss: 0.7541\n",
      "RMSE Train: 0.8385, RMSE Val: 0.8684\n",
      "Current learning rate:  0.0003\n"
     ]
    },
    {
     "name": "stderr",
     "output_type": "stream",
     "text": [
      "100%|██████████| 707/707 [00:04<00:00, 165.43it/s]\n"
     ]
    },
    {
     "name": "stdout",
     "output_type": "stream",
     "text": [
      "Epoch 7/100, Train Loss: 0.6888, Val Loss: 0.7462\n",
      "RMSE Train: 0.8299, RMSE Val: 0.8638\n",
      "Current learning rate:  0.0003\n"
     ]
    },
    {
     "name": "stderr",
     "output_type": "stream",
     "text": [
      "100%|██████████| 707/707 [00:04<00:00, 169.87it/s]\n"
     ]
    },
    {
     "name": "stdout",
     "output_type": "stream",
     "text": [
      "Epoch 8/100, Train Loss: 0.6752, Val Loss: 0.7390\n",
      "RMSE Train: 0.8217, RMSE Val: 0.8596\n",
      "Current learning rate:  0.0003\n"
     ]
    },
    {
     "name": "stderr",
     "output_type": "stream",
     "text": [
      "100%|██████████| 707/707 [00:04<00:00, 165.72it/s]\n"
     ]
    },
    {
     "name": "stdout",
     "output_type": "stream",
     "text": [
      "Epoch 9/100, Train Loss: 0.6624, Val Loss: 0.7323\n",
      "RMSE Train: 0.8139, RMSE Val: 0.8557\n",
      "Current learning rate:  0.0003\n"
     ]
    },
    {
     "name": "stderr",
     "output_type": "stream",
     "text": [
      "100%|██████████| 707/707 [00:04<00:00, 164.82it/s]\n"
     ]
    },
    {
     "name": "stdout",
     "output_type": "stream",
     "text": [
      "Epoch 10/100, Train Loss: 0.6504, Val Loss: 0.7260\n",
      "RMSE Train: 0.8065, RMSE Val: 0.8521\n",
      "Current learning rate:  0.0003\n"
     ]
    },
    {
     "name": "stderr",
     "output_type": "stream",
     "text": [
      "100%|██████████| 707/707 [00:04<00:00, 164.54it/s]\n"
     ]
    },
    {
     "name": "stdout",
     "output_type": "stream",
     "text": [
      "Epoch 11/100, Train Loss: 0.6391, Val Loss: 0.7208\n",
      "RMSE Train: 0.7995, RMSE Val: 0.8490\n",
      "Current learning rate:  0.0003\n"
     ]
    },
    {
     "name": "stderr",
     "output_type": "stream",
     "text": [
      "100%|██████████| 707/707 [00:04<00:00, 166.51it/s]\n"
     ]
    },
    {
     "name": "stdout",
     "output_type": "stream",
     "text": [
      "Epoch 12/100, Train Loss: 0.6284, Val Loss: 0.7153\n",
      "RMSE Train: 0.7927, RMSE Val: 0.8458\n",
      "Current learning rate:  0.0003\n"
     ]
    },
    {
     "name": "stderr",
     "output_type": "stream",
     "text": [
      "100%|██████████| 707/707 [00:04<00:00, 165.50it/s]\n"
     ]
    },
    {
     "name": "stdout",
     "output_type": "stream",
     "text": [
      "Epoch 13/100, Train Loss: 0.6183, Val Loss: 0.7108\n",
      "RMSE Train: 0.7863, RMSE Val: 0.8431\n",
      "Current learning rate:  0.0003\n"
     ]
    },
    {
     "name": "stderr",
     "output_type": "stream",
     "text": [
      "100%|██████████| 707/707 [00:04<00:00, 166.13it/s]\n"
     ]
    },
    {
     "name": "stdout",
     "output_type": "stream",
     "text": [
      "Epoch 14/100, Train Loss: 0.6087, Val Loss: 0.7064\n",
      "RMSE Train: 0.7802, RMSE Val: 0.8405\n",
      "Current learning rate:  0.0003\n"
     ]
    },
    {
     "name": "stderr",
     "output_type": "stream",
     "text": [
      "100%|██████████| 707/707 [00:04<00:00, 165.05it/s]\n"
     ]
    },
    {
     "name": "stdout",
     "output_type": "stream",
     "text": [
      "Epoch 15/100, Train Loss: 0.5996, Val Loss: 0.7028\n",
      "RMSE Train: 0.7743, RMSE Val: 0.8383\n",
      "Current learning rate:  0.0003\n"
     ]
    },
    {
     "name": "stderr",
     "output_type": "stream",
     "text": [
      "100%|██████████| 707/707 [00:04<00:00, 164.61it/s]\n"
     ]
    },
    {
     "name": "stdout",
     "output_type": "stream",
     "text": [
      "Epoch 16/100, Train Loss: 0.5912, Val Loss: 0.6988\n",
      "RMSE Train: 0.7689, RMSE Val: 0.8359\n",
      "Current learning rate:  0.0003\n"
     ]
    },
    {
     "name": "stderr",
     "output_type": "stream",
     "text": [
      "100%|██████████| 707/707 [00:04<00:00, 169.75it/s]\n"
     ]
    },
    {
     "name": "stdout",
     "output_type": "stream",
     "text": [
      "Epoch 17/100, Train Loss: 0.5830, Val Loss: 0.6957\n",
      "RMSE Train: 0.7635, RMSE Val: 0.8341\n",
      "Current learning rate:  0.0003\n"
     ]
    },
    {
     "name": "stderr",
     "output_type": "stream",
     "text": [
      "100%|██████████| 707/707 [00:04<00:00, 166.47it/s]\n"
     ]
    },
    {
     "name": "stdout",
     "output_type": "stream",
     "text": [
      "Epoch 18/100, Train Loss: 0.5752, Val Loss: 0.6925\n",
      "RMSE Train: 0.7584, RMSE Val: 0.8322\n",
      "Current learning rate:  0.0003\n"
     ]
    },
    {
     "name": "stderr",
     "output_type": "stream",
     "text": [
      "100%|██████████| 707/707 [00:04<00:00, 165.52it/s]\n"
     ]
    },
    {
     "name": "stdout",
     "output_type": "stream",
     "text": [
      "Epoch 19/100, Train Loss: 0.5680, Val Loss: 0.6899\n",
      "RMSE Train: 0.7536, RMSE Val: 0.8306\n",
      "Current learning rate:  0.0003\n"
     ]
    },
    {
     "name": "stderr",
     "output_type": "stream",
     "text": [
      "100%|██████████| 707/707 [00:04<00:00, 165.41it/s]\n"
     ]
    },
    {
     "name": "stdout",
     "output_type": "stream",
     "text": [
      "Epoch 20/100, Train Loss: 0.5609, Val Loss: 0.6874\n",
      "RMSE Train: 0.7490, RMSE Val: 0.8291\n",
      "Current learning rate:  0.0003\n"
     ]
    },
    {
     "name": "stderr",
     "output_type": "stream",
     "text": [
      "100%|██████████| 707/707 [00:04<00:00, 164.96it/s]\n"
     ]
    },
    {
     "name": "stdout",
     "output_type": "stream",
     "text": [
      "Epoch 21/100, Train Loss: 0.5544, Val Loss: 0.6850\n",
      "RMSE Train: 0.7446, RMSE Val: 0.8276\n",
      "Current learning rate:  0.0003\n"
     ]
    },
    {
     "name": "stderr",
     "output_type": "stream",
     "text": [
      "100%|██████████| 707/707 [00:04<00:00, 163.85it/s]\n"
     ]
    },
    {
     "name": "stdout",
     "output_type": "stream",
     "text": [
      "Epoch 22/100, Train Loss: 0.5481, Val Loss: 0.6827\n",
      "RMSE Train: 0.7403, RMSE Val: 0.8262\n",
      "Current learning rate:  0.0003\n"
     ]
    },
    {
     "name": "stderr",
     "output_type": "stream",
     "text": [
      "100%|██████████| 707/707 [00:04<00:00, 166.15it/s]\n"
     ]
    },
    {
     "name": "stdout",
     "output_type": "stream",
     "text": [
      "Epoch 23/100, Train Loss: 0.5420, Val Loss: 0.6812\n",
      "RMSE Train: 0.7362, RMSE Val: 0.8253\n",
      "Current learning rate:  0.0003\n"
     ]
    },
    {
     "name": "stderr",
     "output_type": "stream",
     "text": [
      "100%|██████████| 707/707 [00:04<00:00, 166.03it/s]\n"
     ]
    },
    {
     "name": "stdout",
     "output_type": "stream",
     "text": [
      "Epoch 24/100, Train Loss: 0.5363, Val Loss: 0.6790\n",
      "RMSE Train: 0.7323, RMSE Val: 0.8240\n",
      "Current learning rate:  0.0003\n"
     ]
    },
    {
     "name": "stderr",
     "output_type": "stream",
     "text": [
      "100%|██████████| 707/707 [00:04<00:00, 166.29it/s]\n"
     ]
    },
    {
     "name": "stdout",
     "output_type": "stream",
     "text": [
      "Epoch 25/100, Train Loss: 0.5308, Val Loss: 0.6776\n",
      "RMSE Train: 0.7286, RMSE Val: 0.8232\n",
      "Current learning rate:  0.0003\n"
     ]
    },
    {
     "name": "stderr",
     "output_type": "stream",
     "text": [
      "100%|██████████| 707/707 [00:04<00:00, 164.27it/s]\n"
     ]
    },
    {
     "name": "stdout",
     "output_type": "stream",
     "text": [
      "Epoch 26/100, Train Loss: 0.5256, Val Loss: 0.6765\n",
      "RMSE Train: 0.7249, RMSE Val: 0.8225\n",
      "Current learning rate:  0.0003\n"
     ]
    },
    {
     "name": "stderr",
     "output_type": "stream",
     "text": [
      "100%|██████████| 707/707 [00:04<00:00, 164.02it/s]\n"
     ]
    },
    {
     "name": "stdout",
     "output_type": "stream",
     "text": [
      "Epoch 27/100, Train Loss: 0.5205, Val Loss: 0.6752\n",
      "RMSE Train: 0.7215, RMSE Val: 0.8217\n",
      "Current learning rate:  0.0003\n"
     ]
    },
    {
     "name": "stderr",
     "output_type": "stream",
     "text": [
      "100%|██████████| 707/707 [00:04<00:00, 166.27it/s]\n"
     ]
    },
    {
     "name": "stdout",
     "output_type": "stream",
     "text": [
      "Epoch 28/100, Train Loss: 0.5157, Val Loss: 0.6739\n",
      "RMSE Train: 0.7181, RMSE Val: 0.8209\n",
      "Current learning rate:  0.0003\n"
     ]
    },
    {
     "name": "stderr",
     "output_type": "stream",
     "text": [
      "100%|██████████| 707/707 [00:04<00:00, 166.46it/s]\n"
     ]
    },
    {
     "name": "stdout",
     "output_type": "stream",
     "text": [
      "Epoch 29/100, Train Loss: 0.5111, Val Loss: 0.6729\n",
      "RMSE Train: 0.7149, RMSE Val: 0.8203\n",
      "Current learning rate:  0.0003\n"
     ]
    },
    {
     "name": "stderr",
     "output_type": "stream",
     "text": [
      "100%|██████████| 707/707 [00:04<00:00, 166.35it/s]\n"
     ]
    },
    {
     "name": "stdout",
     "output_type": "stream",
     "text": [
      "Epoch 30/100, Train Loss: 0.5068, Val Loss: 0.6723\n",
      "RMSE Train: 0.7119, RMSE Val: 0.8199\n",
      "Current learning rate:  0.0003\n"
     ]
    },
    {
     "name": "stderr",
     "output_type": "stream",
     "text": [
      "100%|██████████| 707/707 [00:04<00:00, 167.02it/s]\n"
     ]
    },
    {
     "name": "stdout",
     "output_type": "stream",
     "text": [
      "Epoch 31/100, Train Loss: 0.5026, Val Loss: 0.6717\n",
      "RMSE Train: 0.7089, RMSE Val: 0.8196\n",
      "Current learning rate:  0.0003\n"
     ]
    },
    {
     "name": "stderr",
     "output_type": "stream",
     "text": [
      "100%|██████████| 707/707 [00:04<00:00, 166.09it/s]\n"
     ]
    },
    {
     "name": "stdout",
     "output_type": "stream",
     "text": [
      "Epoch 32/100, Train Loss: 0.4985, Val Loss: 0.6706\n",
      "RMSE Train: 0.7061, RMSE Val: 0.8189\n",
      "Current learning rate:  0.0003\n"
     ]
    },
    {
     "name": "stderr",
     "output_type": "stream",
     "text": [
      "100%|██████████| 707/707 [00:04<00:00, 166.03it/s]\n"
     ]
    },
    {
     "name": "stdout",
     "output_type": "stream",
     "text": [
      "Epoch 33/100, Train Loss: 0.4947, Val Loss: 0.6699\n",
      "RMSE Train: 0.7033, RMSE Val: 0.8185\n",
      "Current learning rate:  0.0003\n"
     ]
    },
    {
     "name": "stderr",
     "output_type": "stream",
     "text": [
      "100%|██████████| 707/707 [00:04<00:00, 166.69it/s]\n"
     ]
    },
    {
     "name": "stdout",
     "output_type": "stream",
     "text": [
      "Epoch 34/100, Train Loss: 0.4909, Val Loss: 0.6698\n",
      "RMSE Train: 0.7007, RMSE Val: 0.8184\n",
      "Current learning rate:  0.0003\n"
     ]
    },
    {
     "name": "stderr",
     "output_type": "stream",
     "text": [
      "100%|██████████| 707/707 [00:04<00:00, 166.01it/s]\n"
     ]
    },
    {
     "name": "stdout",
     "output_type": "stream",
     "text": [
      "Epoch 35/100, Train Loss: 0.4873, Val Loss: 0.6693\n",
      "RMSE Train: 0.6981, RMSE Val: 0.8181\n",
      "Current learning rate:  0.0003\n"
     ]
    },
    {
     "name": "stderr",
     "output_type": "stream",
     "text": [
      "100%|██████████| 707/707 [00:04<00:00, 165.97it/s]\n"
     ]
    },
    {
     "name": "stdout",
     "output_type": "stream",
     "text": [
      "Epoch 36/100, Train Loss: 0.4838, Val Loss: 0.6689\n",
      "RMSE Train: 0.6955, RMSE Val: 0.8179\n",
      "Current learning rate:  0.0003\n"
     ]
    },
    {
     "name": "stderr",
     "output_type": "stream",
     "text": [
      "100%|██████████| 707/707 [00:04<00:00, 166.85it/s]\n"
     ]
    },
    {
     "name": "stdout",
     "output_type": "stream",
     "text": [
      "Epoch 37/100, Train Loss: 0.4805, Val Loss: 0.6688\n",
      "RMSE Train: 0.6932, RMSE Val: 0.8178\n",
      "Current learning rate:  0.0003\n"
     ]
    },
    {
     "name": "stderr",
     "output_type": "stream",
     "text": [
      "100%|██████████| 707/707 [00:04<00:00, 166.16it/s]\n"
     ]
    },
    {
     "name": "stdout",
     "output_type": "stream",
     "text": [
      "Epoch 38/100, Train Loss: 0.4773, Val Loss: 0.6683\n",
      "RMSE Train: 0.6909, RMSE Val: 0.8175\n",
      "Current learning rate:  0.0003\n"
     ]
    },
    {
     "name": "stderr",
     "output_type": "stream",
     "text": [
      "100%|██████████| 707/707 [00:04<00:00, 167.15it/s]\n"
     ]
    },
    {
     "name": "stdout",
     "output_type": "stream",
     "text": [
      "Epoch 39/100, Train Loss: 0.4742, Val Loss: 0.6682\n",
      "RMSE Train: 0.6886, RMSE Val: 0.8174\n",
      "Current learning rate:  0.0003\n"
     ]
    },
    {
     "name": "stderr",
     "output_type": "stream",
     "text": [
      "100%|██████████| 707/707 [00:04<00:00, 169.59it/s]\n"
     ]
    },
    {
     "name": "stdout",
     "output_type": "stream",
     "text": [
      "Epoch 40/100, Train Loss: 0.4711, Val Loss: 0.6680\n",
      "RMSE Train: 0.6864, RMSE Val: 0.8173\n",
      "Current learning rate:  0.0003\n"
     ]
    },
    {
     "name": "stderr",
     "output_type": "stream",
     "text": [
      "100%|██████████| 707/707 [00:04<00:00, 170.93it/s]\n"
     ]
    },
    {
     "name": "stdout",
     "output_type": "stream",
     "text": [
      "Epoch 41/100, Train Loss: 0.4684, Val Loss: 0.6677\n",
      "RMSE Train: 0.6844, RMSE Val: 0.8172\n",
      "Current learning rate:  0.0003\n"
     ]
    },
    {
     "name": "stderr",
     "output_type": "stream",
     "text": [
      "100%|██████████| 707/707 [00:04<00:00, 170.72it/s]\n"
     ]
    },
    {
     "name": "stdout",
     "output_type": "stream",
     "text": [
      "Epoch 42/100, Train Loss: 0.4655, Val Loss: 0.6677\n",
      "RMSE Train: 0.6823, RMSE Val: 0.8171\n",
      "Current learning rate:  0.0003\n"
     ]
    },
    {
     "name": "stderr",
     "output_type": "stream",
     "text": [
      "100%|██████████| 707/707 [00:04<00:00, 171.01it/s]\n"
     ]
    },
    {
     "name": "stdout",
     "output_type": "stream",
     "text": [
      "Epoch 43/100, Train Loss: 0.4628, Val Loss: 0.6678\n",
      "RMSE Train: 0.6803, RMSE Val: 0.8172\n",
      "Current learning rate:  0.0003\n"
     ]
    },
    {
     "name": "stderr",
     "output_type": "stream",
     "text": [
      "100%|██████████| 707/707 [00:04<00:00, 170.95it/s]\n"
     ]
    },
    {
     "name": "stdout",
     "output_type": "stream",
     "text": [
      "Epoch 44/100, Train Loss: 0.4602, Val Loss: 0.6683\n",
      "RMSE Train: 0.6784, RMSE Val: 0.8175\n",
      "Current learning rate:  0.00015\n"
     ]
    },
    {
     "name": "stderr",
     "output_type": "stream",
     "text": [
      "100%|██████████| 707/707 [00:04<00:00, 170.84it/s]\n"
     ]
    },
    {
     "name": "stdout",
     "output_type": "stream",
     "text": [
      "Epoch 45/100, Train Loss: 0.4557, Val Loss: 0.6681\n",
      "RMSE Train: 0.6750, RMSE Val: 0.8174\n",
      "Current learning rate:  0.00015\n"
     ]
    },
    {
     "name": "stderr",
     "output_type": "stream",
     "text": [
      "100%|██████████| 707/707 [00:04<00:00, 171.58it/s]\n"
     ]
    },
    {
     "name": "stdout",
     "output_type": "stream",
     "text": [
      "Epoch 46/100, Train Loss: 0.4545, Val Loss: 0.6682\n",
      "RMSE Train: 0.6741, RMSE Val: 0.8174\n",
      "Current learning rate:  0.00015\n"
     ]
    },
    {
     "name": "stderr",
     "output_type": "stream",
     "text": [
      "100%|██████████| 707/707 [00:04<00:00, 170.96it/s]\n",
      "/var/folders/3w/x7g6gh3s1y1gry1przjtc12c0000gn/T/ipykernel_48962/1117068810.py:107: FutureWarning: You are using `torch.load` with `weights_only=False` (the current default value), which uses the default pickle module implicitly. It is possible to construct malicious pickle data which will execute arbitrary code during unpickling (See https://github.com/pytorch/pytorch/blob/main/SECURITY.md#untrusted-models for more details). In a future release, the default value for `weights_only` will be flipped to `True`. This limits the functions that could be executed during unpickling. Arbitrary objects will no longer be allowed to be loaded via this mode unless they are explicitly allowlisted by the user via `torch.serialization.add_safe_globals`. We recommend you start setting `weights_only=True` for any use case where you don't have full control of the loaded file. Please open an issue on GitHub for any issues related to this experimental feature.\n",
      "  model.load_state_dict(torch.load(\"best_model_fixed_offset.pt\"))\n"
     ]
    },
    {
     "name": "stdout",
     "output_type": "stream",
     "text": [
      "Epoch 47/100, Train Loss: 0.4532, Val Loss: 0.6682\n",
      "RMSE Train: 0.6732, RMSE Val: 0.8175\n",
      "Early stopping triggered due to no improvement in validation loss.\n",
      "Created submission.csv\n"
     ]
    }
   ],
   "source": [
    "# -----------------------\n",
    "# Model Definition\n",
    "# -----------------------\n",
    "class MatrixFactorization(nn.Module):\n",
    "    def __init__(self, num_users, num_items, emb_dim=64):\n",
    "        super(MatrixFactorization, self).__init__()\n",
    "        self.user_emb = nn.Embedding(num_users, emb_dim)\n",
    "        self.item_emb = nn.Embedding(num_items, emb_dim)\n",
    "\n",
    "        self.user_bias = nn.Embedding(num_users, 1)\n",
    "        self.item_bias = nn.Embedding(num_items, 1)\n",
    "\n",
    "        nn.init.normal_(self.user_emb.weight, std=0.01)\n",
    "        nn.init.normal_(self.item_emb.weight, std=0.01)\n",
    "        nn.init.zeros_(self.user_bias.weight)\n",
    "        nn.init.zeros_(self.item_bias.weight)\n",
    "\n",
    "        self.global_bias = nn.Parameter(torch.zeros(1))\n",
    "\n",
    "    def forward(self, user_ids, item_ids, user_offsets):\n",
    "        U = self.user_emb(user_ids)\n",
    "        V = self.item_emb(item_ids)\n",
    "        u_b = self.user_bias(user_ids).squeeze()\n",
    "        i_b = self.item_bias(item_ids).squeeze()\n",
    "\n",
    "        # Add the fixed offset from user_counts\n",
    "        offset = user_offsets[user_ids]\n",
    "\n",
    "        pred = (U * V).sum(dim=1) + u_b + i_b + self.global_bias + offset\n",
    "        return pred\n",
    "\n",
    "\n",
    "def loss_fn(pred, target, model, reg_lambda):\n",
    "    mse_loss = nn.MSELoss()(pred, target)\n",
    "    # L2 regularization on embeddings\n",
    "    user_reg = model.user_emb.weight.norm(2)\n",
    "    item_reg = model.item_emb.weight.norm(2)\n",
    "    return mse_loss + reg_lambda * (user_reg + item_reg)\n",
    "\n",
    "\n",
    "model = MatrixFactorization(n_users, n_books, EMBED_DIM).to(DEVICE)\n",
    "optimizer = optim.Adam(model.parameters(), lr=LR)\n",
    "scheduler = optim.lr_scheduler.ReduceLROnPlateau(\n",
    "    optimizer, mode=\"min\", factor=0.5, patience=2, verbose=True\n",
    ")\n",
    "\n",
    "best_val_loss = float(\"inf\")\n",
    "epochs_no_improve = 0\n",
    "\n",
    "for epoch in range(EPOCHS):\n",
    "    model.train()\n",
    "    total_train_loss = 0\n",
    "    for param_group in optimizer.param_groups:\n",
    "        print(\"Current learning rate: \", param_group[\"lr\"])\n",
    "    for users, items, ratings in tqdm(train_loader, total=len(train_loader)):\n",
    "        users = users.to(DEVICE)\n",
    "        items = items.to(DEVICE)\n",
    "        ratings = ratings.to(DEVICE)\n",
    "\n",
    "        optimizer.zero_grad()\n",
    "        preds = model(users, items, offsets_tensor)\n",
    "        loss = loss_fn(preds, ratings, model, REG_LAMBDA)\n",
    "        loss.backward()\n",
    "        # Optionally add gradient clipping if needed:\n",
    "        torch.nn.utils.clip_grad_norm_(model.parameters(), max_norm=5.0)\n",
    "        optimizer.step()\n",
    "\n",
    "        total_train_loss += loss.item()\n",
    "\n",
    "    avg_train_loss = total_train_loss / len(train_loader)\n",
    "\n",
    "    # Validation\n",
    "    model.eval()\n",
    "    total_val_loss = 0\n",
    "    with torch.no_grad():\n",
    "        for users, items, ratings in val_loader:\n",
    "            users = users.to(DEVICE)\n",
    "            items = items.to(DEVICE)\n",
    "            ratings = ratings.to(DEVICE)\n",
    "\n",
    "            preds = model(users, items, offsets_tensor)\n",
    "            val_loss = nn.MSELoss()(preds, ratings)\n",
    "            total_val_loss += val_loss.item()\n",
    "\n",
    "    avg_val_loss = total_val_loss / len(val_loader)\n",
    "    scheduler.step(avg_val_loss)\n",
    "\n",
    "    rmse_train = np.sqrt(avg_train_loss)\n",
    "    rmse_val = np.sqrt(avg_val_loss)\n",
    "    print(\n",
    "        f\"Epoch {epoch+1}/{EPOCHS}, Train Loss: {avg_train_loss:.4f}, Val Loss: {avg_val_loss:.4f}\"\n",
    "    )\n",
    "    print(f\"RMSE Train: {rmse_train:.4f}, RMSE Val: {rmse_val:.4f}\")\n",
    "\n",
    "    # Early stopping check\n",
    "    if avg_val_loss < best_val_loss:\n",
    "        best_val_loss = avg_val_loss\n",
    "        epochs_no_improve = 0\n",
    "        torch.save(model.state_dict(), \"best_model_fixed_offset.pt\")\n",
    "    else:\n",
    "        epochs_no_improve += 1\n",
    "        if epochs_no_improve >= PATIENCE:\n",
    "            print(\"Early stopping triggered due to no improvement in validation loss.\")\n",
    "            break\n",
    "\n",
    "# Load best model\n",
    "model.load_state_dict(torch.load(\"best_model_fixed_offset.pt\"))\n",
    "\n",
    "# -----------------------\n",
    "# Test Prediction\n",
    "# -----------------------\n",
    "test_df = pd.read_csv(\"../data/test.csv\")\n",
    "test_df[\"user_idx\"] = test_df[\"user_id\"].map(user2idx)\n",
    "test_df[\"book_idx\"] = test_df[\"book_id\"].map(book2idx)\n",
    "\n",
    "# Handle unknown users/items gracefully:\n",
    "# If unknown user, assign user_idx as a known baseline user or just clamp offset\n",
    "test_df[\"user_idx\"] = test_df[\"user_idx\"].apply(\n",
    "    lambda x: x if x in range(n_users) else n_users - 1\n",
    ")\n",
    "test_df[\"book_idx\"] = test_df[\"book_idx\"].apply(\n",
    "    lambda x: x if x in range(n_books) else n_books - 1\n",
    ")\n",
    "\n",
    "test_df[\"user_idx\"] = test_df[\"user_idx\"].fillna(n_users - 1).astype(int)\n",
    "test_df[\"book_idx\"] = test_df[\"book_idx\"].fillna(n_books - 1).astype(int)\n",
    "\n",
    "model.eval()\n",
    "test_users = torch.tensor(test_df[\"user_idx\"].values, dtype=torch.long).to(DEVICE)\n",
    "test_items = torch.tensor(test_df[\"book_idx\"].values, dtype=torch.long).to(DEVICE)\n",
    "\n",
    "with torch.no_grad():\n",
    "    test_preds = model(test_users, test_items, offsets_tensor).cpu().numpy()\n",
    "\n",
    "test_preds = np.clip(test_preds, 1.0, 5.0)\n",
    "submission = pd.DataFrame({\"id\": test_df[\"id\"], \"rating\": test_preds})\n",
    "submission.to_csv(\"submission.csv\", index=False)\n",
    "print(\"Created submission.csv\")"
   ]
  },
  {
   "cell_type": "code",
   "execution_count": 29,
   "metadata": {},
   "outputs": [
    {
     "data": {
      "text/plain": [
       "<Axes: >"
      ]
     },
     "execution_count": 29,
     "metadata": {},
     "output_type": "execute_result"
    },
    {
     "data": {
      "image/png": "[encoded data removed]",
      "text/plain": [
       "<Figure size 640x480 with 1 Axes>"
      ]
     },
     "metadata": {},
     "output_type": "display_data"
    }
   ],
   "source": [
    "test_df[\"rating\"] = test_preds\n",
    "user_counts = train_df[\"user_id\"].value_counts()\n",
    "users_with_less_than_5_reviews = user_counts[user_counts < 55].index\n",
    "\n",
    "# get the test_df rows with user_ids in users_with_less_than_5_reviews\n",
    "test_df_filtered = test_df[test_df[\"user_id\"].isin(users_with_less_than_5_reviews)]\n",
    "\n",
    "# plot the ratings on hist\n",
    "test_df_filtered[\"rating\"].hist()"
   ]
  },
  {
   "cell_type": "code",
   "execution_count": null,
   "metadata": {},
   "outputs": [
    {
     "data": {
      "text/plain": [
       "rating\n",
       "2.0    21973\n",
       "1.0    17689\n",
       "1.5    15399\n",
       "2.5    14177\n",
       "3.0     9863\n",
       "3.5     8167\n",
       "4.0     6753\n",
       "5.0     5577\n",
       "4.5      925\n",
       "Name: count, dtype: int64"
      ]
     },
     "execution_count": 25,
     "metadata": {},
     "output_type": "execute_result"
    }
   ],
   "source": [
    "train_df[\"rating\"].value_counts()"
   ]
  },
  {
   "cell_type": "code",
   "execution_count": null,
   "metadata": {},
   "outputs": [
    {
     "data": {
      "text/plain": [
       "<Axes: >"
      ]
     },
     "execution_count": 23,
     "metadata": {},
     "output_type": "execute_result"
    },
    {
     "data": {
      "image/png": "[encoded data removed]",
      "text/plain": [
       "<Figure size 640x480 with 1 Axes>"
      ]
     },
     "metadata": {},
     "output_type": "display_data"
    }
   ],
   "source": [
    "train_df[\"rating\"].hist()"
   ]
  },
  {
   "cell_type": "code",
   "execution_count": 28,
   "metadata": {},
   "outputs": [
    {
     "data": {
      "text/plain": [
       "<Axes: >"
      ]
     },
     "execution_count": 28,
     "metadata": {},
     "output_type": "execute_result"
    },
    {
     "data": {
      "image/png": "[encoded data removed]",
      "text/plain": [
       "<Figure size 640x480 with 1 Axes>"
      ]
     },
     "metadata": {},
     "output_type": "display_data"
    }
   ],
   "source": [
    "# plot the rating hist in train_df for only the users with less than X (X will be adjustable) reviews\n",
    "train_df[train_df[\"user_id\"].isin(user_counts[user_counts < 55545].index)][\n",
    "    \"rating\"\n",
    "].hist()"
   ]
  },
  {
   "cell_type": "code",
   "execution_count": null,
   "metadata": {},
   "outputs": [
    {
     "data": {
      "text/plain": [
       "user_id\n",
       "1       3.909283\n",
       "2       3.776454\n",
       "3       2.691737\n",
       "4       2.150903\n",
       "5       2.165625\n",
       "          ...   \n",
       "241     2.035270\n",
       "302     2.173841\n",
       "314     1.457006\n",
       "465     1.588172\n",
       "1841    2.206953\n",
       "Name: rating, Length: 126, dtype: float64"
      ]
     },
     "execution_count": 38,
     "metadata": {},
     "output_type": "execute_result"
    }
   ],
   "source": [
    "user_id_counts = train_data.groupby(\"user_id\")[\"user_id\"].transform(\"size\")\n",
    "count2mean = train_data.groupby(user_id_counts)[\"rating\"].mean()\n",
    "count2mean"
   ]
  },
  {
   "cell_type": "code",
   "execution_count": 7,
   "metadata": {},
   "outputs": [
    {
     "name": "stdout",
     "output_type": "stream",
     "text": [
      "Number of missing books in test not in train: 0\n",
      "Book counts:\n",
      "book_id\n",
      "408       257\n",
      "748       213\n",
      "522       149\n",
      "356       142\n",
      "26        142\n",
      "         ... \n",
      "245925      1\n",
      "247449      1\n",
      "248220      1\n",
      "245266      1\n",
      "249242      1\n",
      "Name: count, Length: 15712, dtype: int64\n"
     ]
    },
    {
     "data": {
      "text/plain": [
       "<Axes: >"
      ]
     },
     "execution_count": 7,
     "metadata": {},
     "output_type": "execute_result"
    },
    {
     "data": {
      "image/png": "[encoded data removed]",
      "text/plain": [
       "<Figure size 640x480 with 1 Axes>"
      ]
     },
     "metadata": {},
     "output_type": "display_data"
    }
   ],
   "source": [
    "import pandas as pd\n",
    "\n",
    "test_df = pd.read_csv(\"../data/test.csv\")\n",
    "train_data = pd.read_csv(\"../data/train.csv\")\n",
    "test_books = set(test_df[\"book_id\"].unique())\n",
    "train_books = set(train_data[\"book_id\"].unique())\n",
    "\n",
    "missing_books = test_books - train_books\n",
    "print(f\"Number of missing books in test not in train: {len(missing_books)}\")\n",
    "if len(missing_books) > 0:\n",
    "    print(\"Missing books:\", missing_books)\n",
    "\n",
    "\n",
    "# print number of occurrences of each book in the train data\n",
    "book_counts = train_data[\"book_id\"].value_counts()\n",
    "print(\"Book counts:\")\n",
    "print(book_counts)\n",
    "\n",
    "# show the occurences histogram in log scale\n",
    "book_counts.hist(bins=10, log=True)"
   ]
  },
  {
   "cell_type": "code",
   "execution_count": 24,
   "metadata": {},
   "outputs": [
    {
     "name": "stdout",
     "output_type": "stream",
     "text": [
      "Book counts sorted:\n",
      "book_id\n",
      "408       257\n",
      "748       213\n",
      "522       149\n",
      "356       142\n",
      "26        142\n",
      "         ... \n",
      "245793      1\n",
      "249072      1\n",
      "248519      1\n",
      "66651       1\n",
      "249242      1\n",
      "Name: count, Length: 15712, dtype: int64\n",
      "Top books:\n",
      "book_id\n",
      "408     257\n",
      "748     213\n",
      "522     149\n",
      "356     142\n",
      "26      142\n",
      "       ... \n",
      "5873     58\n",
      "2527     57\n",
      "2488     57\n",
      "516      56\n",
      "1051     56\n",
      "Name: count, Length: 100, dtype: int64\n",
      "Top books ratings:\n",
      "book_id\n",
      "18        2.256944\n",
      "26        3.915493\n",
      "28        2.065789\n",
      "37        1.453271\n",
      "67        1.898810\n",
      "            ...   \n",
      "5873      1.974138\n",
      "5887      1.768116\n",
      "6330      1.427536\n",
      "6933      1.406780\n",
      "243217    4.206349\n",
      "Name: rating, Length: 100, dtype: float64\n"
     ]
    }
   ],
   "source": [
    "# sort the rating of the books by the number of occurrences\n",
    "book_counts_sorted = book_counts.sort_values(ascending=False)\n",
    "print(\"Book counts sorted:\")\n",
    "print(book_counts_sorted)\n",
    "\n",
    "# show the top 10 books with the most occurrences\n",
    "top_books = book_counts_sorted.head(100)\n",
    "print(\"Top books:\")\n",
    "print(top_books)\n",
    "\n",
    "# get the each avg rating of the top books\n",
    "top_books_ratings = (\n",
    "    train_data[train_data[\"book_id\"].isin(top_books.index)]\n",
    "    .groupby(\"book_id\")[\"rating\"]\n",
    "    .mean()\n",
    ")\n",
    "print(\"Top books ratings:\")\n",
    "print(top_books_ratings)"
   ]
  }
 ],
 "metadata": {
  "kernelspec": {
   "display_name": "base",
   "language": "python",
   "name": "python3"
  },
  "language_info": {
   "codemirror_mode": {
    "name": "ipython",
    "version": 3
   },
   "file_extension": ".py",
   "mimetype": "text/x-python",
   "name": "python",
   "nbconvert_exporter": "python",
   "pygments_lexer": "ipython3",
   "version": "3.11.6"
  }
 },
 "nbformat": 4,
 "nbformat_minor": 2
}
