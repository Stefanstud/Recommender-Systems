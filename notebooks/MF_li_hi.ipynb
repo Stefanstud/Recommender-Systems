{
 "cells": [
  {
   "cell_type": "code",
   "execution_count": null,
   "metadata": {},
   "outputs": [
    {
     "name": "stdout",
     "output_type": "stream",
     "text": [
      "Using device: cuda\n"
     ]
    }
   ],
   "source": [
    "import pandas as pd\n",
    "import numpy as np\n",
    "import torch\n",
    "import torch.nn as nn\n",
    "from torch.utils.data import Dataset, DataLoader\n",
    "import torch.optim as optim\n",
    "from sklearn.model_selection import StratifiedShuffleSplit\n",
    "from tqdm import tqdm\n",
    "from sklearn.model_selection import train_test_split\n",
    "\n",
    "# -----------------------\n",
    "# Hyperparameters\n",
    "# -----------------------\n",
    "EMBED_DIM = 64\n",
    "BATCH_SIZE = 128\n",
    "LR = 3e-4\n",
    "EPOCHS = 100\n",
    "REG_LAMBDA = 1e-1\n",
    "PATIENCE = 5  # Early stopping patience\n",
    "# DEVICE = torch.device(\"mps\" if torch.backends.mps.is_available() else \"cpu\")\n",
    "DEVICE = torch.device(\"cuda\" if torch.cuda.is_available() else \"cpu\")\n",
    "print(f\"Using device: {DEVICE}\")\n",
    "\n",
    "# Set seeds for reproducibility\n",
    "SEED = 42\n",
    "np.random.seed(SEED)\n",
    "torch.manual_seed(SEED)\n",
    "if DEVICE.type == \"cuda\":\n",
    "    torch.cuda.manual_seed(SEED)\n",
    "    torch.cuda.manual_seed_all(SEED)\n",
    "torch.backends.cudnn.deterministic = True\n",
    "\n",
    "# -----------------------\n",
    "# Data Loading\n",
    "# -----------------------\n",
    "train_df = pd.read_csv(\"../data/train.csv\")\n",
    "test_df = pd.read_csv(\"../data/test.csv\") \n",
    "\n",
    "unique_users = train_df.user_id.unique()\n",
    "unique_books = train_df.book_id.unique()\n",
    "\n",
    "user2idx = {u: i for i, u in enumerate(unique_users)}\n",
    "book2idx = {b: i for i, b in enumerate(unique_books)}\n",
    "\n",
    "train_df[\"user_idx\"] = train_df[\"user_id\"].map(user2idx)\n",
    "train_df[\"book_idx\"] = train_df[\"book_id\"].map(book2idx)\n",
    "\n",
    "n_users = len(user2idx)\n",
    "n_books = len(book2idx)\n",
    "\n",
    "train_df['user_idx'] = train_df['user_id'].map(user2idx)\n",
    "train_df['book_idx'] = train_df['book_id'].map(book2idx)\n",
    "\n",
    "\n",
    "# drop low interaction users from validation set\n",
    "# low interaction after combining train and test \n",
    "data = pd.concat([train_df, test_df])\n",
    "low_interaction_users = data['user_idx'].value_counts()[data['user_idx'].value_counts() < 5].index\n",
    "\n",
    "# Create validation split\n",
    "user_counts = train_df['user_id'].value_counts()\n",
    "rare_threshold = 4\n",
    "rare_users = user_counts[user_counts <= rare_threshold].index\n",
    "non_rare_users = user_counts[user_counts > rare_threshold].index\n",
    "rare_df = train_df[train_df['user_id'].isin(rare_users)]\n",
    "non_rare_df = train_df[train_df['user_id'].isin(non_rare_users)]\n",
    "train_non_rare, val_non_rare = train_test_split(\n",
    "    non_rare_df, test_size=0.1, stratify=non_rare_df['user_id'], random_state=42\n",
    ")\n",
    "rare_train, rare_val = train_test_split(\n",
    "    rare_df, test_size=0.1, random_state=42\n",
    ")\n",
    "\n",
    "\n",
    "train_data = pd.concat([train_non_rare, rare_train]).sample(frac=1, random_state=42).reset_index(drop=True)\n",
    "val_data = pd.concat([val_non_rare, rare_val]).sample(frac=1, random_state=42).reset_index(drop=True)\n",
    "\n",
    "class RatingsDataset(Dataset):\n",
    "    def __init__(self, df):\n",
    "        self.users = df[\"user_idx\"].values\n",
    "        self.books = df[\"book_idx\"].values\n",
    "        self.ratings = df[\"rating\"].values.astype(np.float32)\n",
    "\n",
    "    def __len__(self):\n",
    "        return len(self.ratings)\n",
    "\n",
    "    def __getitem__(self, idx):\n",
    "        return (\n",
    "            torch.tensor(self.users[idx], dtype=torch.long),\n",
    "            torch.tensor(self.books[idx], dtype=torch.long),\n",
    "            torch.tensor(self.ratings[idx], dtype=torch.float32),\n",
    "        )\n",
    "\n",
    "\n",
    "# train_dataset = RatingsDataset(train_data)\n",
    "# val_dataset = RatingsDataset(val_data)\n",
    "\n",
    "# train_loader = DataLoader(\n",
    "#     train_dataset, batch_size=BATCH_SIZE, shuffle=True, num_workers=0\n",
    "# )\n",
    "# val_loader = DataLoader(\n",
    "#     val_dataset, batch_size=BATCH_SIZE, shuffle=False, num_workers=0\n",
    "# )"
   ]
  },
  {
   "cell_type": "code",
   "execution_count": 6,
   "metadata": {},
   "outputs": [],
   "source": [
    "# -----------------------\n",
    "# Fixed Offset based on User Counts\n",
    "# -----------------------\n",
    "user_counts = (\n",
    "    train_data.groupby(\"user_idx\").size().reindex(range(n_users), fill_value=0).values\n",
    ")\n",
    "max_count = user_counts.max()\n",
    "# normalize count: f_u in [0,1]\n",
    "normalized_counts = np.log1p(user_counts) / np.log1p(max_count)\n",
    "\n",
    "# Define fixed offset: from ~3.66 at f_u=0 to ~2.10 at f_u=1\n",
    "offset_high = 3.66\n",
    "offset_low = 2.10\n",
    "# offset(u) = offset_high - (offset_high - offset_low)*f_u\n",
    "# = offset_high + (offset_low - offset_high)*f_u\n",
    "offsets = offset_high + (offset_low - offset_high) * normalized_counts\n",
    "offsets_tensor = torch.tensor(offsets, dtype=torch.float32, device=DEVICE)\n",
    "# TODO I will get the offsets directly based on the avg rating of the users with the same number of reviews"
   ]
  },
  {
   "cell_type": "code",
   "execution_count": 7,
   "metadata": {},
   "outputs": [],
   "source": [
    "user_id_counts = train_data.groupby(\"user_id\")[\"user_id\"].transform(\"size\")\n",
    "count2mean = train_data.groupby(user_id_counts)[\"rating\"].mean()\n",
    "count2mean_dict = count2mean.to_dict()\n",
    "# count2mean_dict"
   ]
  },
  {
   "cell_type": "code",
   "execution_count": 8,
   "metadata": {},
   "outputs": [],
   "source": [
    "# Define old offset high/low\n",
    "offset_high = 3.66\n",
    "offset_low = 2.10\n",
    "\n",
    "# Compute the mean rating by exact user count\n",
    "user_id_counts = train_data.groupby(\"user_id\")[\"user_id\"].transform(\"size\")\n",
    "count2mean = train_data.groupby(user_id_counts)[\"rating\"].mean()\n",
    "count2mean_dict = count2mean.to_dict()\n",
    "\n",
    "\n",
    "# Compute offsets now with lookup and fallback\n",
    "offsets = np.zeros_like(user_counts, dtype=np.float32)\n",
    "for i, c in enumerate(user_counts):\n",
    "    if c in count2mean_dict:\n",
    "        # Use the mean for that count minus global mean as offset\n",
    "        offsets[i] = count2mean_dict[c]\n",
    "    else:\n",
    "        # Fallback to old linear approximation based on normalized counts\n",
    "        f_u = np.log1p(c) / (np.log1p(max_count) if max_count > 0 else 1.0)\n",
    "        offsets[i] = offset_high + (offset_low - offset_high) * f_u\n",
    "\n",
    "offsets_tensor = torch.tensor(offsets, dtype=torch.float32, device=DEVICE)"
   ]
  },
  {
   "cell_type": "code",
   "execution_count": 128,
   "metadata": {},
   "outputs": [],
   "source": [
    "# -----------------------\n",
    "# Model Definition\n",
    "# -----------------------\n",
    "\n",
    "class MatrixFactorization(nn.Module):\n",
    "    def __init__(self, num_users, num_items, emb_dim=64):\n",
    "        super(MatrixFactorization, self).__init__()\n",
    "        self.user_emb = nn.Embedding(num_users, emb_dim)\n",
    "        self.item_emb = nn.Embedding(num_items, emb_dim)\n",
    "\n",
    "        self.user_bias = nn.Embedding(num_users, 1)\n",
    "        self.item_bias = nn.Embedding(num_items, 1)\n",
    "\n",
    "        nn.init.normal_(self.user_emb.weight, std=0.01)\n",
    "        nn.init.normal_(self.item_emb.weight, std=0.01)\n",
    "        nn.init.zeros_(self.user_bias.weight)\n",
    "        nn.init.zeros_(self.item_bias.weight)\n",
    "\n",
    "        self.global_bias = nn.Parameter(torch.zeros(1))\n",
    "        self.mlp1 = nn.Linear(emb_dim, emb_dim)\n",
    "        self.mlp2 = nn.Linear(emb_dim, emb_dim)\n",
    "\n",
    "    def forward(self, user_ids, item_ids, user_offsets):\n",
    "        U = self.user_emb(user_ids)\n",
    "        U = self.mlp1(U) + U # add skip connection\n",
    "        V = self.item_emb(item_ids)\n",
    "        V = self.mlp2(V) + V # add skip connection\n",
    "        u_b = self.user_bias(user_ids).squeeze()\n",
    "        i_b = self.item_bias(item_ids).squeeze()\n",
    "\n",
    "        # Add the fixed offset from user_counts\n",
    "        offset = user_offsets[user_ids]\n",
    "\n",
    "        pred = (U * V).sum(dim=1) + u_b + i_b + self.global_bias + offset\n",
    "        # Relu \n",
    "        pred = nn.functional.relu(pred)\n",
    "        return pred\n",
    "\n",
    "def loss_fn(pred, target, model, reg_lambda, loss_type=\"L1\"):\n",
    "    if loss_type == \"L1\":\n",
    "        base_loss = nn.L1Loss()(pred, target)\n",
    "    elif loss_type == \"MSE\":\n",
    "        base_loss = nn.MSELoss()(pred, target)\n",
    "    else:\n",
    "        raise ValueError(\"Invalid loss type. Choose 'L1' or 'MSE'.\")\n",
    "\n",
    "    # L2 regularization on embeddings\n",
    "    user_reg = model.user_emb.weight.norm(2)\n",
    "    item_reg = model.item_emb.weight.norm(2)\n",
    "    return base_loss + reg_lambda * (user_reg + item_reg)\n"
   ]
  },
  {
   "cell_type": "code",
   "execution_count": 129,
   "metadata": {},
   "outputs": [],
   "source": [
    "def train_model(model, train_loader, val_loader, loss_fn, optimizer, scheduler, epochs, patience, save_path):\n",
    "    best_val_loss = float(\"inf\")\n",
    "    epochs_no_improve = 0\n",
    "\n",
    "    for epoch in range(epochs):\n",
    "        model.train()\n",
    "        total_train_loss = 0\n",
    "        train_squared_error = 0\n",
    "        num_train_samples = 0\n",
    "\n",
    "        # Training Loop\n",
    "        for users, items, ratings in train_loader:\n",
    "            users = users.to(DEVICE)\n",
    "            items = items.to(DEVICE)\n",
    "            ratings = ratings.to(DEVICE)\n",
    "\n",
    "            optimizer.zero_grad()\n",
    "            preds = model(users, items, offsets_tensor)\n",
    "            loss = loss_fn(preds, ratings, model, REG_LAMBDA)\n",
    "            loss.backward()\n",
    "            optimizer.step()\n",
    "            total_train_loss += loss.item()\n",
    "\n",
    "            # Accumulate squared error for RMSE\n",
    "            train_squared_error += ((preds - ratings) ** 2).sum().item()\n",
    "            num_train_samples += ratings.size(0)\n",
    "\n",
    "        avg_train_loss = total_train_loss / len(train_loader)\n",
    "        train_rmse = np.sqrt(train_squared_error / num_train_samples)\n",
    "\n",
    "        # Validation Loop\n",
    "        model.eval()\n",
    "        total_val_loss = 0\n",
    "        val_squared_error = 0\n",
    "        num_val_samples = 0\n",
    "\n",
    "        with torch.no_grad():\n",
    "            for users, items, ratings in val_loader:\n",
    "                users = users.to(DEVICE)\n",
    "                items = items.to(DEVICE)\n",
    "                ratings = ratings.to(DEVICE)\n",
    "\n",
    "                preds = model(users, items, offsets_tensor)\n",
    "                val_loss = loss_fn(preds, ratings, model, 0)  # No regularization\n",
    "                total_val_loss += val_loss.item()\n",
    "\n",
    "                # Accumulate squared error for RMSE\n",
    "                val_squared_error += ((preds - ratings) ** 2).sum().item()\n",
    "                num_val_samples += ratings.size(0)\n",
    "\n",
    "        avg_val_loss = total_val_loss / len(val_loader)\n",
    "        val_rmse = np.sqrt(val_squared_error / num_val_samples)\n",
    "\n",
    "\n",
    "        # Scheduler Step\n",
    "        scheduler.step(avg_val_loss)\n",
    "\n",
    "        print(\n",
    "            f\"Epoch {epoch+1}/{epochs} - Train Loss: {avg_train_loss:.4f} - Val Loss: {avg_val_loss:.4f} - \"\n",
    "            f\"Train RMSE: {train_rmse:.4f} - Val RMSE: {val_rmse:.4f}\"\n",
    "        )\n",
    "\n",
    "        # Early Stopping\n",
    "        if avg_val_loss < best_val_loss:\n",
    "            best_val_loss = avg_val_loss\n",
    "            epochs_no_improve = 0\n",
    "            torch.save(model.state_dict(), save_path)\n",
    "        else:\n",
    "            epochs_no_improve += 1\n",
    "            if epochs_no_improve >= patience:\n",
    "                print(\"Early stopping triggered.\")\n",
    "                break\n",
    "\n",
    "    # Load best model\n",
    "    model.load_state_dict(torch.load(save_path))\n",
    "    return model\n"
   ]
  },
  {
   "cell_type": "markdown",
   "metadata": {},
   "source": [
    "#### Matrix Factorization MAE - good for low interaction users"
   ]
  },
  {
   "cell_type": "code",
   "execution_count": 130,
   "metadata": {},
   "outputs": [
    {
     "name": "stdout",
     "output_type": "stream",
     "text": [
      "Epoch 1/100 - Train Loss: 0.8984 - Val Loss: 0.8006 - Train RMSE: 0.8863 - Val RMSE: 0.8952\n",
      "Epoch 2/100 - Train Loss: 0.8031 - Val Loss: 0.7852 - Train RMSE: 0.8754 - Val RMSE: 0.8866\n",
      "Epoch 3/100 - Train Loss: 0.9190 - Val Loss: 0.7275 - Train RMSE: 0.8501 - Val RMSE: 0.8533\n",
      "Epoch 4/100 - Train Loss: 0.9596 - Val Loss: 0.7066 - Train RMSE: 0.8272 - Val RMSE: 0.8410\n",
      "Epoch 5/100 - Train Loss: 0.9228 - Val Loss: 0.6984 - Train RMSE: 0.8160 - Val RMSE: 0.8360\n",
      "Epoch 6/100 - Train Loss: 0.8892 - Val Loss: 0.6928 - Train RMSE: 0.8068 - Val RMSE: 0.8326\n",
      "Epoch 7/100 - Train Loss: 0.8571 - Val Loss: 0.6864 - Train RMSE: 0.7993 - Val RMSE: 0.8289\n",
      "Epoch 8/100 - Train Loss: 0.8337 - Val Loss: 0.6818 - Train RMSE: 0.7921 - Val RMSE: 0.8260\n",
      "Epoch 9/100 - Train Loss: 0.8067 - Val Loss: 0.6773 - Train RMSE: 0.7853 - Val RMSE: 0.8232\n",
      "Epoch 10/100 - Train Loss: 0.7846 - Val Loss: 0.6745 - Train RMSE: 0.7784 - Val RMSE: 0.8215\n",
      "Epoch 11/100 - Train Loss: 0.7589 - Val Loss: 0.6696 - Train RMSE: 0.7714 - Val RMSE: 0.8185\n",
      "Epoch 12/100 - Train Loss: 0.7354 - Val Loss: 0.6679 - Train RMSE: 0.7636 - Val RMSE: 0.8175\n",
      "Epoch 13/100 - Train Loss: 0.7165 - Val Loss: 0.6614 - Train RMSE: 0.7570 - Val RMSE: 0.8136\n",
      "Epoch 14/100 - Train Loss: 0.7020 - Val Loss: 0.6602 - Train RMSE: 0.7513 - Val RMSE: 0.8127\n",
      "Epoch 15/100 - Train Loss: 0.6887 - Val Loss: 0.6611 - Train RMSE: 0.7463 - Val RMSE: 0.8132\n",
      "Epoch 16/100 - Train Loss: 0.6823 - Val Loss: 0.6585 - Train RMSE: 0.7420 - Val RMSE: 0.8117\n",
      "Epoch 17/100 - Train Loss: 0.6701 - Val Loss: 0.6615 - Train RMSE: 0.7375 - Val RMSE: 0.8135\n",
      "Epoch 18/100 - Train Loss: 0.6611 - Val Loss: 0.6584 - Train RMSE: 0.7350 - Val RMSE: 0.8116\n",
      "Epoch 19/100 - Train Loss: 0.6517 - Val Loss: 0.6583 - Train RMSE: 0.7314 - Val RMSE: 0.8116\n",
      "Epoch 20/100 - Train Loss: 0.6446 - Val Loss: 0.6549 - Train RMSE: 0.7286 - Val RMSE: 0.8095\n",
      "Epoch 21/100 - Train Loss: 0.6383 - Val Loss: 0.6592 - Train RMSE: 0.7262 - Val RMSE: 0.8121\n",
      "Epoch 22/100 - Train Loss: 0.6332 - Val Loss: 0.6567 - Train RMSE: 0.7236 - Val RMSE: 0.8105\n",
      "Epoch 23/100 - Train Loss: 0.6245 - Val Loss: 0.6563 - Train RMSE: 0.7213 - Val RMSE: 0.8104\n",
      "Epoch 24/100 - Train Loss: 0.5811 - Val Loss: 0.6496 - Train RMSE: 0.7040 - Val RMSE: 0.8062\n",
      "Epoch 25/100 - Train Loss: 0.5745 - Val Loss: 0.6497 - Train RMSE: 0.7036 - Val RMSE: 0.8063\n",
      "Epoch 26/100 - Train Loss: 0.5715 - Val Loss: 0.6504 - Train RMSE: 0.7029 - Val RMSE: 0.8067\n",
      "Epoch 27/100 - Train Loss: 0.5676 - Val Loss: 0.6512 - Train RMSE: 0.7010 - Val RMSE: 0.8071\n",
      "Epoch 28/100 - Train Loss: 0.5397 - Val Loss: 0.6470 - Train RMSE: 0.6862 - Val RMSE: 0.8045\n",
      "Epoch 29/100 - Train Loss: 0.5349 - Val Loss: 0.6473 - Train RMSE: 0.6845 - Val RMSE: 0.8047\n",
      "Epoch 30/100 - Train Loss: 0.5323 - Val Loss: 0.6472 - Train RMSE: 0.6837 - Val RMSE: 0.8047\n",
      "Epoch 31/100 - Train Loss: 0.5296 - Val Loss: 0.6474 - Train RMSE: 0.6824 - Val RMSE: 0.8048\n",
      "Epoch 32/100 - Train Loss: 0.5123 - Val Loss: 0.6468 - Train RMSE: 0.6718 - Val RMSE: 0.8044\n",
      "Epoch 33/100 - Train Loss: 0.5100 - Val Loss: 0.6460 - Train RMSE: 0.6708 - Val RMSE: 0.8039\n",
      "Epoch 34/100 - Train Loss: 0.5082 - Val Loss: 0.6460 - Train RMSE: 0.6700 - Val RMSE: 0.8039\n",
      "Epoch 35/100 - Train Loss: 0.5065 - Val Loss: 0.6462 - Train RMSE: 0.6692 - Val RMSE: 0.8040\n",
      "Epoch 36/100 - Train Loss: 0.5050 - Val Loss: 0.6465 - Train RMSE: 0.6684 - Val RMSE: 0.8042\n",
      "Epoch 37/100 - Train Loss: 0.4950 - Val Loss: 0.6460 - Train RMSE: 0.6619 - Val RMSE: 0.8039\n",
      "Epoch 38/100 - Train Loss: 0.4939 - Val Loss: 0.6459 - Train RMSE: 0.6614 - Val RMSE: 0.8038\n",
      "Epoch 39/100 - Train Loss: 0.4930 - Val Loss: 0.6459 - Train RMSE: 0.6610 - Val RMSE: 0.8038\n",
      "Epoch 40/100 - Train Loss: 0.4922 - Val Loss: 0.6459 - Train RMSE: 0.6606 - Val RMSE: 0.8038\n",
      "Epoch 41/100 - Train Loss: 0.4913 - Val Loss: 0.6461 - Train RMSE: 0.6601 - Val RMSE: 0.8039\n",
      "Epoch 42/100 - Train Loss: 0.4859 - Val Loss: 0.6460 - Train RMSE: 0.6565 - Val RMSE: 0.8038\n",
      "Epoch 43/100 - Train Loss: 0.4855 - Val Loss: 0.6459 - Train RMSE: 0.6563 - Val RMSE: 0.8038\n",
      "Epoch 44/100 - Train Loss: 0.4850 - Val Loss: 0.6457 - Train RMSE: 0.6560 - Val RMSE: 0.8037\n",
      "Epoch 45/100 - Train Loss: 0.4845 - Val Loss: 0.6459 - Train RMSE: 0.6558 - Val RMSE: 0.8038\n",
      "Epoch 46/100 - Train Loss: 0.4841 - Val Loss: 0.6459 - Train RMSE: 0.6556 - Val RMSE: 0.8038\n",
      "Epoch 47/100 - Train Loss: 0.4837 - Val Loss: 0.6459 - Train RMSE: 0.6554 - Val RMSE: 0.8038\n",
      "Epoch 48/100 - Train Loss: 0.4808 - Val Loss: 0.6459 - Train RMSE: 0.6535 - Val RMSE: 0.8038\n",
      "Epoch 49/100 - Train Loss: 0.4806 - Val Loss: 0.6459 - Train RMSE: 0.6533 - Val RMSE: 0.8038\n",
      "Early stopping triggered.\n"
     ]
    },
    {
     "name": "stderr",
     "output_type": "stream",
     "text": [
      "/tmp/ipykernel_49692/2148372479.py:75: FutureWarning: You are using `torch.load` with `weights_only=False` (the current default value), which uses the default pickle module implicitly. It is possible to construct malicious pickle data which will execute arbitrary code during unpickling (See https://github.com/pytorch/pytorch/blob/main/SECURITY.md#untrusted-models for more details). In a future release, the default value for `weights_only` will be flipped to `True`. This limits the functions that could be executed during unpickling. Arbitrary objects will no longer be allowed to be loaded via this mode unless they are explicitly allowlisted by the user via `torch.serialization.add_safe_globals`. We recommend you start setting `weights_only=True` for any use case where you don't have full control of the loaded file. Please open an issue on GitHub for any issues related to this experimental feature.\n",
      "  model.load_state_dict(torch.load(save_path))\n"
     ]
    }
   ],
   "source": [
    "# Use all data for low-interaction model\n",
    "train_dataset = RatingsDataset(train_data)  # Entire training data\n",
    "val_dataset = RatingsDataset(val_data)  # Entire validation data\n",
    "\n",
    "train_loader = DataLoader(\n",
    "    train_dataset, batch_size=BATCH_SIZE, shuffle=True, num_workers=0\n",
    ")\n",
    "val_loader = DataLoader(\n",
    "    val_dataset, batch_size=BATCH_SIZE, shuffle=False, num_workers=0\n",
    ")\n",
    "\n",
    "model = MatrixFactorization(n_users, n_books, EMBED_DIM).to(DEVICE)\n",
    "# Define optimizer and scheduler\n",
    "optimizer = optim.Adam(model.parameters(), lr=LR)\n",
    "scheduler = optim.lr_scheduler.ReduceLROnPlateau(\n",
    "    optimizer, mode=\"min\", factor=0.5, patience=2, verbose=True\n",
    ")\n",
    "\n",
    "# Train the low-interaction model\n",
    "model = train_model(\n",
    "    model,\n",
    "    train_loader,\n",
    "    val_loader,\n",
    "    lambda pred, target, model, reg_lambda: loss_fn(pred, target, model, reg_lambda, loss_type=\"MSE\"),\n",
    "    optimizer,\n",
    "    scheduler,\n",
    "    EPOCHS,\n",
    "    PATIENCE,\n",
    "    \"model.pt\",\n",
    ")\n"
   ]
  },
  {
   "cell_type": "code",
   "execution_count": 140,
   "metadata": {},
   "outputs": [
    {
     "name": "stdout",
     "output_type": "stream",
     "text": [
      "Low Interaction User Model RMSE: 0.9956\n"
     ]
    }
   ],
   "source": [
    "# now see it for the low interaction users \n",
    "low_int_usr = val_data[val_data['user_idx'].isin(low_interaction_users)]\n",
    "low_int_usr_dataset = RatingsDataset(low_int_usr)\n",
    "low_int_usr_loader = DataLoader(\n",
    "    low_int_usr_dataset, batch_size=BATCH_SIZE, shuffle=False, num_workers=0\n",
    ")\n",
    "\n",
    "model.eval()\n",
    "total_val_loss = 0\n",
    "\n",
    "with torch.no_grad():\n",
    "    total_error_sq = 0\n",
    "    for users, items, ratings in low_int_usr_loader:\n",
    "        users = users.to(DEVICE)\n",
    "        items = items.to(DEVICE)\n",
    "        ratings = ratings.to(DEVICE)\n",
    "\n",
    "        preds = model(users, items, offsets_tensor)\n",
    "        val_loss = loss_fn(preds, ratings, model, 0)  # No regularization during validation\n",
    "        total_val_loss += val_loss.item()\n",
    "        total_error_sq += ((preds - ratings) ** 2).sum().item()\n",
    "\n",
    "val_rmse = np.sqrt(total_error_sq / len(low_int_usr_loader.dataset))\n",
    "print(f\"Low Interaction User Model RMSE: {val_rmse:.4f}\")"
   ]
  },
  {
   "cell_type": "code",
   "execution_count": 141,
   "metadata": {},
   "outputs": [
    {
     "name": "stdout",
     "output_type": "stream",
     "text": [
      "Low Interaction Users in Test: 3104\n"
     ]
    }
   ],
   "source": [
    "# how many low int users in test set\n",
    "low_interaction_test = test_df[test_df['user_idx'].isin(low_interaction_users)]\n",
    "print(f\"Low Interaction Users in Test: {len(low_interaction_test)}\")"
   ]
  },
  {
   "cell_type": "code",
   "execution_count": 142,
   "metadata": {},
   "outputs": [
    {
     "name": "stdout",
     "output_type": "stream",
     "text": [
      "High Interaction User Model RMSE: 0.7601\n"
     ]
    }
   ],
   "source": [
    "# now for the high interaction users\n",
    "high_int_usr = val_data[~val_data['user_idx'].isin(low_interaction_users)]\n",
    "high_int_usr_dataset = RatingsDataset(high_int_usr)\n",
    "high_int_usr_loader = DataLoader(\n",
    "    high_int_usr_dataset, batch_size=BATCH_SIZE, shuffle=False, num_workers=0\n",
    ")\n",
    "\n",
    "model.eval()\n",
    "total_val_loss = 0\n",
    "\n",
    "with torch.no_grad():\n",
    "    for users, items, ratings in high_int_usr_loader:\n",
    "        users = users.to(DEVICE)\n",
    "        items = items.to(DEVICE)\n",
    "        ratings = ratings.to(DEVICE)\n",
    "\n",
    "        preds = model(users, items, offsets_tensor)\n",
    "        val_loss = loss_fn(preds, ratings, model, 0)  # No regularization during validation\n",
    "        total_val_loss += val_loss.item()\n",
    "\n",
    "val_rmse = np.sqrt(total_val_loss / len(high_int_usr_loader))\n",
    "print(f\"High Interaction User Model RMSE: {val_rmse:.4f}\")"
   ]
  },
  {
   "cell_type": "code",
   "execution_count": 143,
   "metadata": {},
   "outputs": [
    {
     "name": "stdout",
     "output_type": "stream",
     "text": [
      "Created submission.csv\n"
     ]
    }
   ],
   "source": [
    "# make predictions on the test set\n",
    "# Map user and book IDs to indices\n",
    "test_df['user_idx'] = test_df['user_id'].map(user2idx)\n",
    "test_df['book_idx'] = test_df['book_id'].map(book2idx)\n",
    "\n",
    "# Handle unknown users/items by assigning them to baseline indices\n",
    "test_df[\"user_idx\"] = test_df[\"user_idx\"].fillna(n_users - 1).astype(int)\n",
    "test_df[\"book_idx\"] = test_df[\"book_idx\"].fillna(n_books - 1).astype(int)\n",
    "\n",
    "# Prepare tensors for test users and items\n",
    "test_users = torch.tensor(test_df[\"user_idx\"].values, dtype=torch.long).to(DEVICE)\n",
    "test_items = torch.tensor(test_df[\"book_idx\"].values, dtype=torch.long).to(DEVICE)\n",
    "\n",
    "# Predict using low-interaction model\n",
    "model.eval()\n",
    "with torch.no_grad():\n",
    "    test_preds = model(test_users, test_items, offsets_tensor).cpu().numpy()\n",
    "\n",
    "# Clip predictions to range (1 to 5)\n",
    "test_preds = np.clip(test_preds, 1.0, 5.0)\n",
    "\n",
    "# Save predictions\n",
    "submission = pd.DataFrame({\"id\": test_df[\"id\"], \"rating\": test_preds})\n",
    "submission.to_csv(\"submission.csv\", index=False)\n",
    "print(\"Created submission.csv\")"
   ]
  },
  {
   "cell_type": "markdown",
   "metadata": {},
   "source": [
    "#### Local based - for high interaction users"
   ]
  },
  {
   "cell_type": "markdown",
   "metadata": {},
   "source": [
    "**We will fine-tune only with high-interaction users** "
   ]
  },
  {
   "cell_type": "code",
   "execution_count": 134,
   "metadata": {},
   "outputs": [],
   "source": [
    "high_interaction_train = train_data[~train_data[\"user_id\"].isin(low_interaction_users)]\n",
    "high_interaction_dataset = RatingsDataset(high_interaction_train)\n",
    "high_interaction_loader = DataLoader(\n",
    "    high_interaction_dataset, batch_size=4, shuffle=True\n",
    ")\n",
    "\n",
    "# Validation setup\n",
    "high_interaction_val = val_data[~val_data[\"user_id\"].isin(low_interaction_users)]\n",
    "high_interaction_val_dataset = RatingsDataset(high_interaction_val)\n",
    "high_interaction_val_loader = DataLoader(\n",
    "    high_interaction_val_dataset, batch_size=4, shuffle=False\n",
    ")"
   ]
  },
  {
   "cell_type": "markdown",
   "metadata": {},
   "source": [
    "#### Local based - for low interaction users "
   ]
  },
  {
   "cell_type": "code",
   "execution_count": 135,
   "metadata": {},
   "outputs": [],
   "source": [
    "# Extract embeddings and predictions for all user-item pairs\n",
    "def extract_mf_features(model, df, offsets_tensor, device):\n",
    "    df[\"user_idx\"] = df[\"user_id\"].map(user2idx).fillna(n_users - 1).astype(int)\n",
    "    df[\"book_idx\"] = df[\"book_id\"].map(book2idx).fillna(n_books - 1).astype(int)\n",
    "\n",
    "    users = torch.tensor(df[\"user_idx\"].values, dtype=torch.long).to(device)\n",
    "    items = torch.tensor(df[\"book_idx\"].values, dtype=torch.long).to(device)\n",
    "\n",
    "    with torch.no_grad():\n",
    "        user_emb = model.user_emb(users).cpu().numpy()\n",
    "        item_emb = model.item_emb(items).cpu().numpy()\n",
    "        user_bias = model.user_bias(users).squeeze().cpu().numpy()\n",
    "        item_bias = model.item_bias(items).squeeze().cpu().numpy()\n",
    "        mf_pred = model(users, items, offsets_tensor).cpu().numpy()\n",
    "\n",
    "    return pd.DataFrame(\n",
    "        {\n",
    "            \"user_idx\": df[\"user_idx\"],\n",
    "            \"book_idx\": df[\"book_idx\"],\n",
    "            \"user_bias\": user_bias,\n",
    "            \"item_bias\": item_bias,\n",
    "            \"mf_pred\": mf_pred,\n",
    "        }\n",
    "    ), user_emb, item_emb"
   ]
  },
  {
   "cell_type": "code",
   "execution_count": 136,
   "metadata": {},
   "outputs": [],
   "source": [
    "import warnings \n",
    "\n",
    "warnings.filterwarnings(\"ignore\")\n",
    "## TRAIN\n",
    "global_item_avg = train_data.groupby(\"book_idx\")[\"rating\"].mean()\n",
    "\n",
    "# Identify low-interaction users\n",
    "low_interaction_train = train_data[train_data[\"user_id\"].isin(low_interaction_users)]\n",
    "low_interaction_features, user_emb, item_emb = extract_mf_features(\n",
    "    model, low_interaction_train, offsets_tensor, DEVICE\n",
    ")\n",
    "\n",
    "low_interaction_features[\"user_item_cosine\"] = np.sum(user_emb * item_emb, axis=1) / (\n",
    "    np.linalg.norm(user_emb, axis=1) * np.linalg.norm(item_emb, axis=1)\n",
    ")\n",
    "\n",
    "low_interaction_features[\"item_avg_rating\"] = low_interaction_train[\"book_idx\"].map(global_item_avg)\n",
    "# replace nan with global average\n",
    "low_interaction_features[\"item_avg_rating\"].fillna(global_item_avg.mean(), inplace=True)\n",
    "# Combine user and item embeddings with existing features\n",
    "low_interaction_features_combined = np.hstack([\n",
    "    low_interaction_features[[\"user_bias\", \"item_bias\", \"mf_pred\", \"item_avg_rating\", \"user_item_cosine\"]].values,\n",
    "    user_emb,  # User embeddings\n",
    "    item_emb,   # Item embeddings\n",
    "])\n",
    "\n",
    "\n",
    "# VALIDATION\n",
    "low_interaction_val = val_data[val_data[\"user_id\"].isin(low_interaction_users)] \n",
    "low_interaction_val_features, val_user_emb, val_item_emb = extract_mf_features(\n",
    "    model, low_interaction_val, offsets_tensor, DEVICE\n",
    ")\n",
    "\n",
    "low_interaction_val_features[\"user_item_cosine\"] = np.sum(val_user_emb * val_item_emb, axis=1) / (\n",
    "    np.linalg.norm(val_user_emb, axis=1) * np.linalg.norm(val_item_emb, axis=1)\n",
    ")\n",
    "\n",
    "low_interaction_val_features[\"item_avg_rating\"] = low_interaction_val[\"book_idx\"].map(global_item_avg)\n",
    "low_interaction_val_features[\"item_avg_rating\"].fillna(global_item_avg.mean(), inplace=True)\n",
    "low_interaction_val_features_combined = np.hstack([\n",
    "    low_interaction_val_features[[\"user_bias\", \"item_bias\", \"mf_pred\", \"item_avg_rating\", \"user_item_cosine\"]].values,\n",
    "    val_user_emb,  # Validation user embeddings\n",
    "    val_item_emb,  # Validation item embeddings\n",
    "])"
   ]
  },
  {
   "cell_type": "code",
   "execution_count": 137,
   "metadata": {},
   "outputs": [
    {
     "name": "stdout",
     "output_type": "stream",
     "text": [
      "RMSE on low-interaction users: 0.7835\n"
     ]
    }
   ],
   "source": [
    "# MF Prediciton on low-interaction users \n",
    "# you can just use mf_pred as the prediction \n",
    "label = low_interaction_val[\"rating\"]\n",
    "preds = low_interaction_val_features[\"mf_pred\"]\n",
    "rmse = np.sqrt(((label - preds) ** 2).mean())\n",
    "print(f\"RMSE on low-interaction users: {rmse:.4f}\")"
   ]
  },
  {
   "cell_type": "code",
   "execution_count": 139,
   "metadata": {},
   "outputs": [
    {
     "name": "stdout",
     "output_type": "stream",
     "text": [
      "[LightGBM] [Info] Auto-choosing col-wise multi-threading, the overhead of testing was 0.004465 seconds.\n",
      "You can set `force_col_wise=true` to remove the overhead.\n",
      "[LightGBM] [Info] Total Bins 33795\n",
      "[LightGBM] [Info] Number of data points in the train set: 14971, number of used features: 133\n",
      "[LightGBM] [Info] Start training from score 2.099760\n",
      "[LightGBM] [Warning] No further splits with positive gain, best gain: -inf\n",
      "[LightGBM] [Warning] No further splits with positive gain, best gain: -inf\n",
      "[LightGBM] [Warning] No further splits with positive gain, best gain: -inf\n",
      "[LightGBM] [Warning] No further splits with positive gain, best gain: -inf\n",
      "[LightGBM] [Warning] No further splits with positive gain, best gain: -inf\n",
      "[LightGBM] [Warning] No further splits with positive gain, best gain: -inf\n",
      "[LightGBM] [Warning] No further splits with positive gain, best gain: -inf\n",
      "[LightGBM] [Warning] No further splits with positive gain, best gain: -inf\n",
      "[LightGBM] [Warning] No further splits with positive gain, best gain: -inf\n",
      "[LightGBM] [Warning] No further splits with positive gain, best gain: -inf\n",
      "[LightGBM] [Warning] No further splits with positive gain, best gain: -inf\n",
      "[LightGBM] [Warning] No further splits with positive gain, best gain: -inf\n",
      "[LightGBM] [Warning] No further splits with positive gain, best gain: -inf\n",
      "[LightGBM] [Warning] No further splits with positive gain, best gain: -inf\n",
      "[LightGBM] [Warning] No further splits with positive gain, best gain: -inf\n",
      "[LightGBM] [Warning] No further splits with positive gain, best gain: -inf\n",
      "[LightGBM] [Warning] No further splits with positive gain, best gain: -inf\n",
      "[LightGBM] [Warning] No further splits with positive gain, best gain: -inf\n",
      "[LightGBM] [Warning] No further splits with positive gain, best gain: -inf\n",
      "[LightGBM] [Warning] No further splits with positive gain, best gain: -inf\n",
      "[LightGBM] [Warning] No further splits with positive gain, best gain: -inf\n",
      "[LightGBM] [Warning] No further splits with positive gain, best gain: -inf\n",
      "[LightGBM] [Warning] No further splits with positive gain, best gain: -inf\n",
      "[LightGBM] [Warning] No further splits with positive gain, best gain: -inf\n",
      "[LightGBM] [Warning] No further splits with positive gain, best gain: -inf\n",
      "[LightGBM] [Warning] No further splits with positive gain, best gain: -inf\n",
      "[LightGBM] [Warning] No further splits with positive gain, best gain: -inf\n",
      "[LightGBM] [Warning] No further splits with positive gain, best gain: -inf\n",
      "[LightGBM] [Warning] No further splits with positive gain, best gain: -inf\n",
      "[LightGBM] [Warning] No further splits with positive gain, best gain: -inf\n",
      "[LightGBM] [Warning] No further splits with positive gain, best gain: -inf\n",
      "[LightGBM] [Warning] No further splits with positive gain, best gain: -inf\n",
      "[LightGBM] [Warning] No further splits with positive gain, best gain: -inf\n",
      "[LightGBM] [Warning] No further splits with positive gain, best gain: -inf\n",
      "[LightGBM] [Warning] No further splits with positive gain, best gain: -inf\n",
      "[LightGBM] [Warning] No further splits with positive gain, best gain: -inf\n",
      "[LightGBM] [Warning] No further splits with positive gain, best gain: -inf\n",
      "[LightGBM] [Warning] No further splits with positive gain, best gain: -inf\n",
      "[LightGBM] [Warning] No further splits with positive gain, best gain: -inf\n",
      "[LightGBM] [Warning] No further splits with positive gain, best gain: -inf\n",
      "[LightGBM] [Warning] No further splits with positive gain, best gain: -inf\n",
      "[LightGBM] [Warning] No further splits with positive gain, best gain: -inf\n",
      "[LightGBM] [Warning] No further splits with positive gain, best gain: -inf\n",
      "[LightGBM] [Warning] No further splits with positive gain, best gain: -inf\n",
      "[LightGBM] [Warning] No further splits with positive gain, best gain: -inf\n",
      "[LightGBM] [Warning] No further splits with positive gain, best gain: -inf\n",
      "[LightGBM] [Warning] No further splits with positive gain, best gain: -inf\n",
      "[LightGBM] [Warning] No further splits with positive gain, best gain: -inf\n",
      "[LightGBM] [Warning] No further splits with positive gain, best gain: -inf\n",
      "[LightGBM] [Warning] No further splits with positive gain, best gain: -inf\n",
      "Validation RMSE (LightGBM): 0.7958\n"
     ]
    }
   ],
   "source": [
    "import lightgbm as lgb\n",
    "\n",
    "lgb_model = lgb.LGBMRegressor(n_estimators=50, learning_rate=0.05, max_depth=3, random_state=42)\n",
    "lgb_model.fit(low_interaction_features_combined, low_interaction_train[\"rating\"])\n",
    "\n",
    "val_preds = lgb_model.predict(low_interaction_val_features_combined)\n",
    "val_rmse = np.sqrt(np.mean((val_preds - low_interaction_val[\"rating\"]) ** 2))\n",
    "print(f\"Validation RMSE (LightGBM): {val_rmse:.4f}\")"
   ]
  },
  {
   "cell_type": "markdown",
   "metadata": {},
   "source": [
    "### Test"
   ]
  },
  {
   "cell_type": "code",
   "execution_count": 18,
   "metadata": {},
   "outputs": [
    {
     "name": "stdout",
     "output_type": "stream",
     "text": [
      "Created submission.csv\n"
     ]
    }
   ],
   "source": [
    "# Identify low- and high-interaction users in the test set\n",
    "low_interaction_test = test_df[test_df[\"user_id\"].isin(low_interaction_users)]\n",
    "high_interaction_test = test_df[~test_df[\"user_id\"].isin(low_interaction_users)]\n",
    "\n",
    "# ----------------------------\n",
    "# Predict for Low-Interaction Users\n",
    "# ----------------------------\n",
    "low_interaction_test_features, test_user_emb, test_item_emb = extract_mf_features(\n",
    "    model, low_interaction_test, offsets_tensor, DEVICE\n",
    ")\n",
    "\n",
    "low_interaction_test_features[\"user_item_cosine\"] = np.sum(test_user_emb * test_item_emb, axis=1) / (\n",
    "    np.linalg.norm(test_user_emb, axis=1) * np.linalg.norm(test_item_emb, axis=1)\n",
    ")\n",
    "\n",
    "low_interaction_test_features[\"item_avg_rating\"] = low_interaction_test[\"book_idx\"].map(global_item_avg)\n",
    "low_interaction_test_features[\"item_avg_rating\"].fillna(global_item_avg.mean(), inplace=True)\n",
    "\n",
    "low_interaction_test_features_combined = np.hstack([\n",
    "    low_interaction_test_features[[\"user_bias\", \"item_bias\", \"mf_pred\", \"item_avg_rating\", \"user_item_cosine\"]].values,\n",
    "    test_user_emb,  # Test user embeddings\n",
    "    test_item_emb,  # Test item embeddings\n",
    "])\n",
    "\n",
    "# Predict with LightGBM\n",
    "low_test_preds = lgb_model.predict(low_interaction_test_features_combined)\n",
    "\n",
    "# ----------------------------\n",
    "# Predict for High-Interaction Users\n",
    "# ----------------------------\n",
    "high_interaction_test_features = extract_mf_features(\n",
    "    model, high_interaction_test, offsets_tensor, DEVICE\n",
    ")[0]\n",
    "\n",
    "high_test_preds = high_interaction_test_features[\"mf_pred\"]\n",
    "\n",
    "# ----------------------------\n",
    "# Combine Predictions\n",
    "# ----------------------------\n",
    "# Start with global MF predictions for all users\n",
    "test_df[\"final_pred\"] = model(\n",
    "    torch.tensor(test_df[\"user_idx\"].values, dtype=torch.long).to(DEVICE),\n",
    "    torch.tensor(test_df[\"book_idx\"].values, dtype=torch.long).to(DEVICE),\n",
    "    offsets_tensor\n",
    ").cpu().detach().numpy()\n",
    "\n",
    "# Overwrite predictions for low- and high-interaction users\n",
    "test_df.loc[low_interaction_test.index, \"final_pred\"] = low_test_preds\n",
    "test_df.loc[high_interaction_test.index, \"final_pred\"] = high_test_preds\n",
    "\n",
    "# Clip predictions to valid range\n",
    "test_df[\"rating\"] = np.clip(test_df[\"final_pred\"], 1.0, 5.0)\n",
    "\n",
    "# ----------------------------\n",
    "# Save Predictions\n",
    "# ----------------------------\n",
    "test_df[[\"id\", \"rating\"]].to_csv(\"submission.csv\", index=False)\n",
    "print(\"Created submission.csv\")"
   ]
  },
  {
   "cell_type": "code",
   "execution_count": null,
   "metadata": {},
   "outputs": [
    {
     "data": {
      "text/html": [
       "<div>\n",
       "<style scoped>\n",
       "    .dataframe tbody tr th:only-of-type {\n",
       "        vertical-align: middle;\n",
       "    }\n",
       "\n",
       "    .dataframe tbody tr th {\n",
       "        vertical-align: top;\n",
       "    }\n",
       "\n",
       "    .dataframe thead th {\n",
       "        text-align: right;\n",
       "    }\n",
       "</style>\n",
       "<table border=\"1\" class=\"dataframe\">\n",
       "  <thead>\n",
       "    <tr style=\"text-align: right;\">\n",
       "      <th></th>\n",
       "      <th>id</th>\n",
       "      <th>book_id</th>\n",
       "      <th>user_id</th>\n",
       "      <th>user_idx</th>\n",
       "      <th>book_idx</th>\n",
       "    </tr>\n",
       "  </thead>\n",
       "  <tbody>\n",
       "    <tr>\n",
       "      <th>0</th>\n",
       "      <td>0</td>\n",
       "      <td>3786</td>\n",
       "      <td>40484</td>\n",
       "      <td>4104</td>\n",
       "      <td>123</td>\n",
       "    </tr>\n",
       "    <tr>\n",
       "      <th>1</th>\n",
       "      <td>1</td>\n",
       "      <td>1985</td>\n",
       "      <td>47039</td>\n",
       "      <td>5851</td>\n",
       "      <td>1478</td>\n",
       "    </tr>\n",
       "    <tr>\n",
       "      <th>2</th>\n",
       "      <td>2</td>\n",
       "      <td>2290</td>\n",
       "      <td>60111</td>\n",
       "      <td>8720</td>\n",
       "      <td>424</td>\n",
       "    </tr>\n",
       "    <tr>\n",
       "      <th>3</th>\n",
       "      <td>3</td>\n",
       "      <td>118657</td>\n",
       "      <td>64447</td>\n",
       "      <td>574</td>\n",
       "      <td>14224</td>\n",
       "    </tr>\n",
       "    <tr>\n",
       "      <th>4</th>\n",
       "      <td>4</td>\n",
       "      <td>1560</td>\n",
       "      <td>2953</td>\n",
       "      <td>73</td>\n",
       "      <td>104</td>\n",
       "    </tr>\n",
       "    <tr>\n",
       "      <th>...</th>\n",
       "      <td>...</td>\n",
       "      <td>...</td>\n",
       "      <td>...</td>\n",
       "      <td>...</td>\n",
       "      <td>...</td>\n",
       "    </tr>\n",
       "    <tr>\n",
       "      <th>29362</th>\n",
       "      <td>29362</td>\n",
       "      <td>2802</td>\n",
       "      <td>12312</td>\n",
       "      <td>6955</td>\n",
       "      <td>156</td>\n",
       "    </tr>\n",
       "    <tr>\n",
       "      <th>29363</th>\n",
       "      <td>29363</td>\n",
       "      <td>53552</td>\n",
       "      <td>25725</td>\n",
       "      <td>2839</td>\n",
       "      <td>6138</td>\n",
       "    </tr>\n",
       "    <tr>\n",
       "      <th>29364</th>\n",
       "      <td>29364</td>\n",
       "      <td>4065</td>\n",
       "      <td>77178</td>\n",
       "      <td>8593</td>\n",
       "      <td>3910</td>\n",
       "    </tr>\n",
       "    <tr>\n",
       "      <th>29365</th>\n",
       "      <td>29365</td>\n",
       "      <td>1290</td>\n",
       "      <td>23201</td>\n",
       "      <td>5635</td>\n",
       "      <td>6091</td>\n",
       "    </tr>\n",
       "    <tr>\n",
       "      <th>29366</th>\n",
       "      <td>29366</td>\n",
       "      <td>1592</td>\n",
       "      <td>35394</td>\n",
       "      <td>1613</td>\n",
       "      <td>6105</td>\n",
       "    </tr>\n",
       "  </tbody>\n",
       "</table>\n",
       "<p>29367 rows × 5 columns</p>\n",
       "</div>"
      ],
      "text/plain": [
       "          id  book_id  user_id  user_idx  book_idx\n",
       "0          0     3786    40484      4104       123\n",
       "1          1     1985    47039      5851      1478\n",
       "2          2     2290    60111      8720       424\n",
       "3          3   118657    64447       574     14224\n",
       "4          4     1560     2953        73       104\n",
       "...      ...      ...      ...       ...       ...\n",
       "29362  29362     2802    12312      6955       156\n",
       "29363  29363    53552    25725      2839      6138\n",
       "29364  29364     4065    77178      8593      3910\n",
       "29365  29365     1290    23201      5635      6091\n",
       "29366  29366     1592    35394      1613      6105\n",
       "\n",
       "[29367 rows x 5 columns]"
      ]
     },
     "execution_count": 33,
     "metadata": {},
     "output_type": "execute_result"
    }
   ],
   "source": [
    "# make predictions for the test set\n",
    "# create test predictions "
   ]
  },
  {
   "cell_type": "markdown",
   "metadata": {},
   "source": [
    "## Sanity Check"
   ]
  },
  {
   "cell_type": "code",
   "execution_count": 15,
   "metadata": {},
   "outputs": [
    {
     "data": {
      "text/plain": [
       "<Axes: >"
      ]
     },
     "execution_count": 15,
     "metadata": {},
     "output_type": "execute_result"
    },
    {
     "data": {
      "image/png": "[encoded data removed]",
      "text/plain": [
       "<Figure size 640x480 with 1 Axes>"
      ]
     },
     "metadata": {},
     "output_type": "display_data"
    }
   ],
   "source": [
    "user_counts = train_df[\"user_id\"].value_counts()\n",
    "users_with_less_than_5_reviews = user_counts[user_counts < 55].index\n",
    "\n",
    "# get the test_df rows with user_ids in users_with_less_than_5_reviews\n",
    "test_df_filtered = test_df[test_df[\"user_id\"].isin(users_with_less_than_5_reviews)]\n",
    "\n",
    "# plot the ratings on hist\n",
    "test_df_filtered[\"rating\"].hist()"
   ]
  },
  {
   "cell_type": "code",
   "execution_count": 49,
   "metadata": {},
   "outputs": [
    {
     "data": {
      "text/plain": [
       "rating\n",
       "2.0    21973\n",
       "1.0    17689\n",
       "1.5    15399\n",
       "2.5    14177\n",
       "3.0     9863\n",
       "3.5     8167\n",
       "4.0     6753\n",
       "5.0     5577\n",
       "4.5      925\n",
       "Name: count, dtype: int64"
      ]
     },
     "execution_count": 49,
     "metadata": {},
     "output_type": "execute_result"
    }
   ],
   "source": [
    "train_df[\"rating\"].value_counts()"
   ]
  },
  {
   "cell_type": "code",
   "execution_count": 50,
   "metadata": {},
   "outputs": [
    {
     "data": {
      "text/plain": [
       "<Axes: >"
      ]
     },
     "execution_count": 50,
     "metadata": {},
     "output_type": "execute_result"
    },
    {
     "data": {
      "image/png": "[encoded data removed]",
      "text/plain": [
       "<Figure size 640x480 with 1 Axes>"
      ]
     },
     "metadata": {},
     "output_type": "display_data"
    }
   ],
   "source": [
    "train_df[\"rating\"].hist()"
   ]
  },
  {
   "cell_type": "code",
   "execution_count": 66,
   "metadata": {},
   "outputs": [
    {
     "data": {
      "text/plain": [
       "<Axes: >"
      ]
     },
     "execution_count": 66,
     "metadata": {},
     "output_type": "execute_result"
    },
    {
     "data": {
      "image/png": "[encoded data removed]",
      "text/plain": [
       "<Figure size 640x480 with 1 Axes>"
      ]
     },
     "metadata": {},
     "output_type": "display_data"
    }
   ],
   "source": [
    "# plot the rating hist in train_df for only the users with less than X (X will be adjustable) reviews\n",
    "train_df[train_df[\"user_id\"].isin(user_counts[user_counts < 55545].index)][\n",
    "    \"rating\"\n",
    "].hist()"
   ]
  },
  {
   "cell_type": "code",
   "execution_count": 67,
   "metadata": {},
   "outputs": [
    {
     "data": {
      "text/plain": [
       "user_id\n",
       "1       3.910462\n",
       "2       3.813296\n",
       "3       2.748508\n",
       "4       2.234422\n",
       "5       2.169215\n",
       "          ...   \n",
       "239     2.054393\n",
       "311     2.172026\n",
       "315     1.450794\n",
       "472     1.580508\n",
       "1837    2.210942\n",
       "Name: rating, Length: 123, dtype: float64"
      ]
     },
     "execution_count": 67,
     "metadata": {},
     "output_type": "execute_result"
    }
   ],
   "source": [
    "user_id_counts = train_data.groupby(\"user_id\")[\"user_id\"].transform(\"size\")\n",
    "count2mean = train_data.groupby(user_id_counts)[\"rating\"].mean()\n",
    "count2mean"
   ]
  },
  {
   "cell_type": "code",
   "execution_count": 68,
   "metadata": {},
   "outputs": [
    {
     "name": "stdout",
     "output_type": "stream",
     "text": [
      "Number of missing books in test not in train: 0\n",
      "Book counts:\n",
      "book_id\n",
      "408       257\n",
      "748       213\n",
      "522       149\n",
      "356       142\n",
      "26        142\n",
      "         ... \n",
      "247693      1\n",
      "248107      1\n",
      "245643      1\n",
      "246570      1\n",
      "246356      1\n",
      "Name: count, Length: 15712, dtype: int64\n"
     ]
    },
    {
     "data": {
      "text/plain": [
       "<Axes: >"
      ]
     },
     "execution_count": 68,
     "metadata": {},
     "output_type": "execute_result"
    },
    {
     "data": {
      "image/png": "[encoded data removed]",
      "text/plain": [
       "<Figure size 640x480 with 1 Axes>"
      ]
     },
     "metadata": {},
     "output_type": "display_data"
    }
   ],
   "source": [
    "import pandas as pd\n",
    "\n",
    "test_df = pd.read_csv(\"../data/test.csv\")\n",
    "train_data = pd.read_csv(\"../data/train.csv\")\n",
    "test_books = set(test_df[\"book_id\"].unique())\n",
    "train_books = set(train_data[\"book_id\"].unique())\n",
    "\n",
    "missing_books = test_books - train_books\n",
    "print(f\"Number of missing books in test not in train: {len(missing_books)}\")\n",
    "if len(missing_books) > 0:\n",
    "    print(\"Missing books:\", missing_books)\n",
    "\n",
    "\n",
    "# print number of occurrences of each book in the train data\n",
    "book_counts = train_data[\"book_id\"].value_counts()\n",
    "print(\"Book counts:\")\n",
    "print(book_counts)\n",
    "\n",
    "# show the occurences histogram in log scale\n",
    "book_counts.hist(bins=10, log=True)"
   ]
  },
  {
   "cell_type": "code",
   "execution_count": 24,
   "metadata": {},
   "outputs": [
    {
     "name": "stdout",
     "output_type": "stream",
     "text": [
      "Book counts sorted:\n",
      "book_id\n",
      "408       257\n",
      "748       213\n",
      "522       149\n",
      "356       142\n",
      "26        142\n",
      "         ... \n",
      "245793      1\n",
      "249072      1\n",
      "248519      1\n",
      "66651       1\n",
      "249242      1\n",
      "Name: count, Length: 15712, dtype: int64\n",
      "Top books:\n",
      "book_id\n",
      "408     257\n",
      "748     213\n",
      "522     149\n",
      "356     142\n",
      "26      142\n",
      "       ... \n",
      "5873     58\n",
      "2527     57\n",
      "2488     57\n",
      "516      56\n",
      "1051     56\n",
      "Name: count, Length: 100, dtype: int64\n",
      "Top books ratings:\n",
      "book_id\n",
      "18        2.256944\n",
      "26        3.915493\n",
      "28        2.065789\n",
      "37        1.453271\n",
      "67        1.898810\n",
      "            ...   \n",
      "5873      1.974138\n",
      "5887      1.768116\n",
      "6330      1.427536\n",
      "6933      1.406780\n",
      "243217    4.206349\n",
      "Name: rating, Length: 100, dtype: float64\n"
     ]
    }
   ],
   "source": [
    "# sort the rating of the books by the number of occurrences\n",
    "book_counts_sorted = book_counts.sort_values(ascending=False)\n",
    "print(\"Book counts sorted:\")\n",
    "print(book_counts_sorted)\n",
    "\n",
    "# show the top 10 books with the most occurrences\n",
    "top_books = book_counts_sorted.head(100)\n",
    "print(\"Top books:\")\n",
    "print(top_books)\n",
    "\n",
    "# get the each avg rating of the top books\n",
    "top_books_ratings = (\n",
    "    train_data[train_data[\"book_id\"].isin(top_books.index)]\n",
    "    .groupby(\"book_id\")[\"rating\"]\n",
    "    .mean()\n",
    ")\n",
    "print(\"Top books ratings:\")\n",
    "print(top_books_ratings)"
   ]
  }
 ],
 "metadata": {
  "kernelspec": {
   "display_name": "dis_p1",
   "language": "python",
   "name": "python3"
  },
  "language_info": {
   "codemirror_mode": {
    "name": "ipython",
    "version": 3
   },
   "file_extension": ".py",
   "mimetype": "text/x-python",
   "name": "python",
   "nbconvert_exporter": "python",
   "pygments_lexer": "ipython3",
   "version": "3.12.5"
  }
 },
 "nbformat": 4,
 "nbformat_minor": 2
}
