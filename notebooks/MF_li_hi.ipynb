{
 "cells": [
  {
   "cell_type": "code",
   "execution_count": 1,
   "metadata": {},
   "outputs": [
    {
     "name": "stdout",
     "output_type": "stream",
     "text": [
      "Using device: cuda\n"
     ]
    }
   ],
   "source": [
    "import pandas as pd\n",
    "import numpy as np\n",
    "import torch\n",
    "import torch.nn as nn\n",
    "from torch.utils.data import Dataset, DataLoader\n",
    "import torch.optim as optim\n",
    "from sklearn.model_selection import StratifiedShuffleSplit\n",
    "from tqdm import tqdm\n",
    "from sklearn.model_selection import train_test_split\n",
    "\n",
    "# [I 2024-12-13 01:18:39,043] Trial 39 finished with value: 0.8016925942757998 and parameters: {'EMBED_DIM': 64, 'LR': 3.591388314145999e-05, 'REG_LAMBDA': 0.001630666920706239, 'BATCH_SIZE': 64, 'PATIENCE': 14}. Best is trial 39 with value: 0.8016925942757998.\n",
    "\n",
    "# -----------------------\n",
    "# Hyperparameters\n",
    "# -----------------------\n",
    "EMBED_DIM = 64\n",
    "BATCH_SIZE = 64\n",
    "LR = 3.591388314145999e-05\n",
    "EPOCHS = 100\n",
    "REG_LAMBDA = 1e-1\n",
    "PATIENCE = 14  # Early stopping patience\n",
    "\n",
    "# DEVICE = torch.device(\"mps\" if torch.backends.mps.is_available() else \"cpu\")\n",
    "DEVICE = torch.device(\"cuda\" if torch.cuda.is_available() else \"cpu\")\n",
    "print(f\"Using device: {DEVICE}\")\n",
    "\n",
    "# Set seeds for reproducibility\n",
    "SEED = 42\n",
    "np.random.seed(SEED)\n",
    "torch.manual_seed(SEED)\n",
    "if DEVICE.type == \"cuda\":\n",
    "    torch.cuda.manual_seed(SEED)\n",
    "    torch.cuda.manual_seed_all(SEED)\n",
    "torch.backends.cudnn.deterministic = True\n",
    "\n",
    "# -----------------------\n",
    "# Data Loading\n",
    "# -----------------------\n",
    "train_df = pd.read_csv(\"../data/train.csv\")\n",
    "test_df = pd.read_csv(\"../data/test.csv\") \n",
    "\n",
    "unique_users = train_df.user_id.unique()\n",
    "unique_books = train_df.book_id.unique()\n",
    "\n",
    "user2idx = {u: i for i, u in enumerate(unique_users)}\n",
    "book2idx = {b: i for i, b in enumerate(unique_books)}\n",
    "\n",
    "train_df[\"user_idx\"] = train_df[\"user_id\"].map(user2idx)\n",
    "train_df[\"book_idx\"] = train_df[\"book_id\"].map(book2idx)\n",
    "\n",
    "n_users = len(user2idx)\n",
    "n_books = len(book2idx)\n",
    "\n",
    "train_df['user_idx'] = train_df['user_id'].map(user2idx)\n",
    "train_df['book_idx'] = train_df['book_id'].map(book2idx)\n",
    "\n",
    "\n",
    "# drop low interaction users from validation set\n",
    "# low interaction after combining train and test \n",
    "data = pd.concat([train_df, test_df])\n",
    "low_interaction_users = data['user_idx'].value_counts()[data['user_idx'].value_counts() < 5].index\n",
    "\n",
    "# Create validation split\n",
    "user_counts = train_df['user_id'].value_counts()\n",
    "rare_threshold = 4\n",
    "rare_users = user_counts[user_counts <= rare_threshold].index\n",
    "non_rare_users = user_counts[user_counts > rare_threshold].index\n",
    "rare_df = train_df[train_df['user_id'].isin(rare_users)]\n",
    "non_rare_df = train_df[train_df['user_id'].isin(non_rare_users)]\n",
    "train_non_rare, val_non_rare = train_test_split(\n",
    "    non_rare_df, test_size=0.1, stratify=non_rare_df['user_id'], random_state=42\n",
    ")\n",
    "rare_train, rare_val = train_test_split(\n",
    "    rare_df, test_size=0.1, random_state=42\n",
    ")\n",
    "\n",
    "\n",
    "train_data = pd.concat([train_non_rare, rare_train]).sample(frac=1, random_state=42).reset_index(drop=True)\n",
    "val_data = pd.concat([val_non_rare, rare_val]).sample(frac=1, random_state=42).reset_index(drop=True)\n",
    "\n",
    "class RatingsDataset(Dataset):\n",
    "    def __init__(self, df):\n",
    "        self.users = df[\"user_idx\"].values\n",
    "        self.books = df[\"book_idx\"].values\n",
    "        self.ratings = df[\"rating\"].values.astype(np.float32)\n",
    "\n",
    "    def __len__(self):\n",
    "        return len(self.ratings)\n",
    "\n",
    "    def __getitem__(self, idx):\n",
    "        return (\n",
    "            torch.tensor(self.users[idx], dtype=torch.long),\n",
    "            torch.tensor(self.books[idx], dtype=torch.long),\n",
    "            torch.tensor(self.ratings[idx], dtype=torch.float32),\n",
    "        )\n"
   ]
  },
  {
   "cell_type": "code",
   "execution_count": 2,
   "metadata": {},
   "outputs": [],
   "source": [
    "# -----------------------\n",
    "# Fixed Offset based on User Counts\n",
    "# -----------------------\n",
    "user_counts = (\n",
    "    train_data.groupby(\"user_idx\").size().reindex(range(n_users), fill_value=0).values\n",
    ")\n",
    "max_count = user_counts.max()\n",
    "# normalize count: f_u in [0,1]\n",
    "normalized_counts = np.log1p(user_counts) / np.log1p(max_count)\n",
    "\n",
    "# Define fixed offset: from ~3.66 at f_u=0 to ~2.10 at f_u=1\n",
    "offset_high = 3.66\n",
    "offset_low = 2.10\n",
    "# offset(u) = offset_high - (offset_high - offset_low)*f_u\n",
    "# = offset_high + (offset_low - offset_high)*f_u\n",
    "offsets = offset_high + (offset_low - offset_high) * normalized_counts\n",
    "offsets_tensor = torch.tensor(offsets, dtype=torch.float32, device=DEVICE)\n",
    "# TODO I will get the offsets directly based on the avg rating of the users with the same number of reviews"
   ]
  },
  {
   "cell_type": "code",
   "execution_count": 3,
   "metadata": {},
   "outputs": [],
   "source": [
    "user_id_counts = train_data.groupby(\"user_id\")[\"user_id\"].transform(\"size\")\n",
    "count2mean = train_data.groupby(user_id_counts)[\"rating\"].mean()\n",
    "count2mean_dict = count2mean.to_dict()\n",
    "# count2mean_dict"
   ]
  },
  {
   "cell_type": "code",
   "execution_count": 4,
   "metadata": {},
   "outputs": [],
   "source": [
    "# Define old offset high/low\n",
    "offset_high = 3.66\n",
    "offset_low = 2.10\n",
    "\n",
    "# Compute the mean rating by exact user count\n",
    "user_id_counts = train_data.groupby(\"user_id\")[\"user_id\"].transform(\"size\")\n",
    "count2mean = train_data.groupby(user_id_counts)[\"rating\"].mean()\n",
    "count2mean_dict = count2mean.to_dict()\n",
    "\n",
    "# Compute offsets now with lookup and fallback\n",
    "offsets = np.zeros_like(user_counts, dtype=np.float32)\n",
    "for i, c in enumerate(user_counts):\n",
    "    if c in count2mean_dict:\n",
    "        # Use the mean for that count minus global mean as offset\n",
    "        offsets[i] = count2mean_dict[c]\n",
    "    else:\n",
    "        # Fallback to old linear approximation based on normalized counts\n",
    "        f_u = np.log1p(c) / (np.log1p(max_count) if max_count > 0 else 1.0)\n",
    "        offsets[i] = offset_high + (offset_low - offset_high) * f_u\n",
    "\n",
    "offsets_tensor = torch.tensor(offsets, dtype=torch.float32, device=DEVICE)"
   ]
  },
  {
   "cell_type": "code",
   "execution_count": 5,
   "metadata": {},
   "outputs": [],
   "source": [
    "# -----------------------\n",
    "# Model Definition\n",
    "# -----------------------\n",
    "\n",
    "class MatrixFactorization(nn.Module):\n",
    "    def __init__(self, num_users, num_items, emb_dim=64):\n",
    "        super(MatrixFactorization, self).__init__()\n",
    "        self.user_emb = nn.Embedding(num_users, emb_dim)\n",
    "        self.item_emb = nn.Embedding(num_items, emb_dim)\n",
    "\n",
    "        self.user_bias = nn.Embedding(num_users, 1)\n",
    "        self.item_bias = nn.Embedding(num_items, 1)\n",
    "\n",
    "        self.global_bias = nn.Parameter(torch.zeros(1))\n",
    "        self.mlp1 = nn.Linear(emb_dim, emb_dim)\n",
    "        self.mlp2 = nn.Linear(emb_dim, emb_dim)\n",
    "\n",
    "        nn.init.xavier_uniform_(self.user_emb.weight)\n",
    "        nn.init.xavier_uniform_(self.item_emb.weight)\n",
    "        nn.init.zeros_(self.user_bias.weight)\n",
    "        nn.init.zeros_(self.item_bias.weight)\n",
    "\n",
    "    def forward(self, user_ids, item_ids, user_offsets):\n",
    "        U = self.user_emb(user_ids)\n",
    "        V = self.item_emb(item_ids)\n",
    "        U = self.mlp1(U) + U # add skip connection\n",
    "        V = self.mlp2(V) + V # add skip connection\n",
    "        u_b = self.user_bias(user_ids).squeeze()\n",
    "        i_b = self.item_bias(item_ids).squeeze()\n",
    "        \n",
    "        # Add the fixed offset from user_counts\n",
    "        offset = user_offsets[user_ids]\n",
    "        pred = (U * V).sum(dim=1) + u_b + i_b + self.global_bias + offset\n",
    "        # Relu \n",
    "        pred = nn.functional.relu(pred)\n",
    "        return pred\n",
    "\n",
    "def loss_fn(pred, target, model, reg_lambda, loss_type=\"L1\"):\n",
    "    if loss_type == \"L1\":\n",
    "        base_loss = nn.L1Loss()(pred, target)\n",
    "    elif loss_type == \"MSE\":\n",
    "        base_loss = nn.MSELoss()(pred, target)\n",
    "    else:\n",
    "        raise ValueError(\"Invalid loss type. Choose 'L1' or 'MSE'.\")\n",
    "    \n",
    "    # L2 regularization on embeddings\n",
    "    user_reg = model.user_emb.weight.norm(2)\n",
    "    item_reg = model.item_emb.weight.norm(2)\n",
    "    return base_loss + reg_lambda * (user_reg + item_reg)\n"
   ]
  },
  {
   "cell_type": "code",
   "execution_count": 6,
   "metadata": {},
   "outputs": [],
   "source": [
    "def train_model(model, train_loader, val_loader, loss_fn, optimizer, scheduler, epochs, patience, save_path):\n",
    "    best_val_loss = float(\"inf\")\n",
    "    epochs_no_improve = 0\n",
    "\n",
    "    for epoch in range(epochs):\n",
    "        model.train()\n",
    "        total_train_loss = 0\n",
    "        train_squared_error = 0\n",
    "        num_train_samples = 0\n",
    "\n",
    "        # Training Loop\n",
    "        for users, items, ratings in train_loader:\n",
    "            users = users.to(DEVICE)\n",
    "            items = items.to(DEVICE)\n",
    "            ratings = ratings.to(DEVICE)\n",
    "\n",
    "            optimizer.zero_grad()\n",
    "            preds = model(users, items, offsets_tensor)\n",
    "            loss = loss_fn(preds, ratings, model, REG_LAMBDA)\n",
    "            loss.backward()\n",
    "            optimizer.step()\n",
    "            total_train_loss += loss.item()\n",
    "\n",
    "            # Accumulate squared error for RMSE\n",
    "            train_squared_error += ((preds - ratings) ** 2).sum().item()\n",
    "            num_train_samples += ratings.size(0)\n",
    "\n",
    "        avg_train_loss = total_train_loss / len(train_loader)\n",
    "        train_rmse = np.sqrt(train_squared_error / num_train_samples)\n",
    "\n",
    "        # Validation Loop\n",
    "        model.eval()\n",
    "        total_val_loss = 0\n",
    "        val_squared_error = 0\n",
    "        num_val_samples = 0\n",
    "\n",
    "        with torch.no_grad():\n",
    "            for users, items, ratings in val_loader:\n",
    "                users = users.to(DEVICE)\n",
    "                items = items.to(DEVICE)\n",
    "                ratings = ratings.to(DEVICE)\n",
    "\n",
    "                preds = model(users, items, offsets_tensor)\n",
    "                val_loss = loss_fn(preds, ratings, model, 0)  # No regularization\n",
    "                total_val_loss += val_loss.item()\n",
    "\n",
    "                # Accumulate squared error for RMSE\n",
    "                val_squared_error += ((preds - ratings) ** 2).sum().item()\n",
    "                num_val_samples += ratings.size(0)\n",
    "\n",
    "        avg_val_loss = total_val_loss / len(val_loader)\n",
    "        val_rmse = np.sqrt(val_squared_error / num_val_samples)\n",
    "\n",
    "\n",
    "        # Scheduler Step\n",
    "        scheduler.step(avg_val_loss)\n",
    "\n",
    "        print(\n",
    "            f\"Epoch {epoch+1}/{epochs} - Train Loss: {avg_train_loss:.4f} - Val Loss: {avg_val_loss:.4f} - \"\n",
    "            f\"Train RMSE: {train_rmse:.4f} - Val RMSE: {val_rmse:.4f}\"\n",
    "        )\n",
    "\n",
    "        # Early Stopping\n",
    "        if avg_val_loss < best_val_loss:\n",
    "            best_val_loss = avg_val_loss\n",
    "            epochs_no_improve = 0\n",
    "            torch.save(model.state_dict(), save_path)\n",
    "        else:\n",
    "            epochs_no_improve += 1\n",
    "            if epochs_no_improve >= patience:\n",
    "                print(\"Early stopping triggered.\")\n",
    "                break\n",
    "\n",
    "    # Load best model\n",
    "    model.load_state_dict(torch.load(save_path))\n",
    "    return model\n"
   ]
  },
  {
   "cell_type": "code",
   "execution_count": 7,
   "metadata": {},
   "outputs": [
    {
     "name": "stderr",
     "output_type": "stream",
     "text": [
      "/home/stef/anaconda3/envs/dis_p1/lib/python3.12/site-packages/torch/optim/lr_scheduler.py:62: UserWarning: The verbose parameter is deprecated. Please use get_last_lr() to access the learning rate.\n",
      "  warnings.warn(\n"
     ]
    },
    {
     "name": "stdout",
     "output_type": "stream",
     "text": [
      "Epoch 1/100 - Train Loss: 1.1781 - Val Loss: 0.8106 - Train RMSE: 0.8893 - Val RMSE: 0.9010\n",
      "Epoch 2/100 - Train Loss: 0.7902 - Val Loss: 0.8084 - Train RMSE: 0.8873 - Val RMSE: 0.8998\n",
      "Epoch 3/100 - Train Loss: 0.7870 - Val Loss: 0.8060 - Train RMSE: 0.8853 - Val RMSE: 0.8985\n",
      "Epoch 4/100 - Train Loss: 0.7836 - Val Loss: 0.8038 - Train RMSE: 0.8834 - Val RMSE: 0.8972\n",
      "Epoch 5/100 - Train Loss: 0.7806 - Val Loss: 0.8015 - Train RMSE: 0.8815 - Val RMSE: 0.8960\n",
      "Epoch 6/100 - Train Loss: 0.7777 - Val Loss: 0.7993 - Train RMSE: 0.8796 - Val RMSE: 0.8947\n",
      "Epoch 7/100 - Train Loss: 0.7758 - Val Loss: 0.7971 - Train RMSE: 0.8777 - Val RMSE: 0.8935\n",
      "Epoch 8/100 - Train Loss: 0.7760 - Val Loss: 0.7943 - Train RMSE: 0.8757 - Val RMSE: 0.8919\n",
      "Epoch 9/100 - Train Loss: 0.7795 - Val Loss: 0.7891 - Train RMSE: 0.8731 - Val RMSE: 0.8890\n",
      "Epoch 10/100 - Train Loss: 0.7842 - Val Loss: 0.7756 - Train RMSE: 0.8679 - Val RMSE: 0.8814\n",
      "Epoch 11/100 - Train Loss: 0.7857 - Val Loss: 0.7447 - Train RMSE: 0.8557 - Val RMSE: 0.8637\n",
      "Epoch 12/100 - Train Loss: 0.7780 - Val Loss: 0.7162 - Train RMSE: 0.8359 - Val RMSE: 0.8470\n",
      "Epoch 13/100 - Train Loss: 0.7655 - Val Loss: 0.6946 - Train RMSE: 0.8169 - Val RMSE: 0.8346\n",
      "Epoch 14/100 - Train Loss: 0.7549 - Val Loss: 0.6852 - Train RMSE: 0.8031 - Val RMSE: 0.8290\n",
      "Epoch 15/100 - Train Loss: 0.7461 - Val Loss: 0.6759 - Train RMSE: 0.7934 - Val RMSE: 0.8232\n",
      "Epoch 16/100 - Train Loss: 0.7395 - Val Loss: 0.6725 - Train RMSE: 0.7859 - Val RMSE: 0.8210\n",
      "Epoch 17/100 - Train Loss: 0.7353 - Val Loss: 0.6692 - Train RMSE: 0.7802 - Val RMSE: 0.8188\n",
      "Epoch 18/100 - Train Loss: 0.7314 - Val Loss: 0.6652 - Train RMSE: 0.7752 - Val RMSE: 0.8166\n",
      "Epoch 19/100 - Train Loss: 0.7283 - Val Loss: 0.6656 - Train RMSE: 0.7710 - Val RMSE: 0.8169\n",
      "Epoch 20/100 - Train Loss: 0.7260 - Val Loss: 0.6617 - Train RMSE: 0.7675 - Val RMSE: 0.8147\n",
      "Epoch 21/100 - Train Loss: 0.7247 - Val Loss: 0.6623 - Train RMSE: 0.7651 - Val RMSE: 0.8150\n",
      "Epoch 22/100 - Train Loss: 0.7232 - Val Loss: 0.6588 - Train RMSE: 0.7626 - Val RMSE: 0.8123\n",
      "Epoch 23/100 - Train Loss: 0.7206 - Val Loss: 0.6592 - Train RMSE: 0.7597 - Val RMSE: 0.8132\n",
      "Epoch 24/100 - Train Loss: 0.7196 - Val Loss: 0.6601 - Train RMSE: 0.7579 - Val RMSE: 0.8134\n",
      "Epoch 25/100 - Train Loss: 0.7187 - Val Loss: 0.6613 - Train RMSE: 0.7562 - Val RMSE: 0.8147\n",
      "Epoch 26/100 - Train Loss: 0.6668 - Val Loss: 0.6499 - Train RMSE: 0.7288 - Val RMSE: 0.8069\n",
      "Epoch 27/100 - Train Loss: 0.6583 - Val Loss: 0.6480 - Train RMSE: 0.7302 - Val RMSE: 0.8059\n",
      "Epoch 28/100 - Train Loss: 0.6549 - Val Loss: 0.6487 - Train RMSE: 0.7304 - Val RMSE: 0.8063\n",
      "Epoch 29/100 - Train Loss: 0.6519 - Val Loss: 0.6519 - Train RMSE: 0.7294 - Val RMSE: 0.8078\n",
      "Epoch 30/100 - Train Loss: 0.6493 - Val Loss: 0.6532 - Train RMSE: 0.7281 - Val RMSE: 0.8088\n",
      "Epoch 31/100 - Train Loss: 0.6143 - Val Loss: 0.6463 - Train RMSE: 0.7068 - Val RMSE: 0.8048\n",
      "Epoch 32/100 - Train Loss: 0.6094 - Val Loss: 0.6455 - Train RMSE: 0.7063 - Val RMSE: 0.8042\n",
      "Epoch 33/100 - Train Loss: 0.6072 - Val Loss: 0.6452 - Train RMSE: 0.7065 - Val RMSE: 0.8040\n",
      "Epoch 34/100 - Train Loss: 0.6049 - Val Loss: 0.6448 - Train RMSE: 0.7061 - Val RMSE: 0.8039\n",
      "Epoch 35/100 - Train Loss: 0.6027 - Val Loss: 0.6456 - Train RMSE: 0.7051 - Val RMSE: 0.8044\n",
      "Epoch 36/100 - Train Loss: 0.6006 - Val Loss: 0.6453 - Train RMSE: 0.7041 - Val RMSE: 0.8041\n",
      "Epoch 37/100 - Train Loss: 0.5986 - Val Loss: 0.6437 - Train RMSE: 0.7030 - Val RMSE: 0.8033\n",
      "Epoch 38/100 - Train Loss: 0.5964 - Val Loss: 0.6435 - Train RMSE: 0.7016 - Val RMSE: 0.8032\n",
      "Epoch 39/100 - Train Loss: 0.5943 - Val Loss: 0.6437 - Train RMSE: 0.7002 - Val RMSE: 0.8032\n",
      "Epoch 40/100 - Train Loss: 0.5926 - Val Loss: 0.6440 - Train RMSE: 0.6992 - Val RMSE: 0.8033\n",
      "Epoch 41/100 - Train Loss: 0.5908 - Val Loss: 0.6453 - Train RMSE: 0.6978 - Val RMSE: 0.8042\n",
      "Epoch 42/100 - Train Loss: 0.5667 - Val Loss: 0.6432 - Train RMSE: 0.6815 - Val RMSE: 0.8027\n",
      "Epoch 43/100 - Train Loss: 0.5649 - Val Loss: 0.6426 - Train RMSE: 0.6812 - Val RMSE: 0.8024\n",
      "Epoch 44/100 - Train Loss: 0.5636 - Val Loss: 0.6426 - Train RMSE: 0.6810 - Val RMSE: 0.8024\n",
      "Epoch 45/100 - Train Loss: 0.5626 - Val Loss: 0.6429 - Train RMSE: 0.6808 - Val RMSE: 0.8026\n",
      "Epoch 46/100 - Train Loss: 0.5614 - Val Loss: 0.6426 - Train RMSE: 0.6804 - Val RMSE: 0.8024\n",
      "Epoch 47/100 - Train Loss: 0.5476 - Val Loss: 0.6424 - Train RMSE: 0.6708 - Val RMSE: 0.8023\n",
      "Epoch 48/100 - Train Loss: 0.5469 - Val Loss: 0.6423 - Train RMSE: 0.6706 - Val RMSE: 0.8022\n",
      "Epoch 49/100 - Train Loss: 0.5462 - Val Loss: 0.6423 - Train RMSE: 0.6705 - Val RMSE: 0.8022\n",
      "Epoch 50/100 - Train Loss: 0.5456 - Val Loss: 0.6422 - Train RMSE: 0.6704 - Val RMSE: 0.8021\n",
      "Epoch 51/100 - Train Loss: 0.5450 - Val Loss: 0.6422 - Train RMSE: 0.6702 - Val RMSE: 0.8022\n",
      "Epoch 52/100 - Train Loss: 0.5443 - Val Loss: 0.6421 - Train RMSE: 0.6700 - Val RMSE: 0.8021\n",
      "Epoch 53/100 - Train Loss: 0.5437 - Val Loss: 0.6422 - Train RMSE: 0.6698 - Val RMSE: 0.8022\n",
      "Epoch 54/100 - Train Loss: 0.5431 - Val Loss: 0.6419 - Train RMSE: 0.6696 - Val RMSE: 0.8020\n",
      "Epoch 55/100 - Train Loss: 0.5425 - Val Loss: 0.6420 - Train RMSE: 0.6693 - Val RMSE: 0.8021\n",
      "Epoch 56/100 - Train Loss: 0.5419 - Val Loss: 0.6421 - Train RMSE: 0.6690 - Val RMSE: 0.8022\n",
      "Epoch 57/100 - Train Loss: 0.5412 - Val Loss: 0.6421 - Train RMSE: 0.6686 - Val RMSE: 0.8021\n",
      "Epoch 58/100 - Train Loss: 0.5336 - Val Loss: 0.6421 - Train RMSE: 0.6631 - Val RMSE: 0.8021\n",
      "Epoch 59/100 - Train Loss: 0.5332 - Val Loss: 0.6420 - Train RMSE: 0.6630 - Val RMSE: 0.8021\n",
      "Epoch 60/100 - Train Loss: 0.5329 - Val Loss: 0.6419 - Train RMSE: 0.6629 - Val RMSE: 0.8020\n",
      "Epoch 61/100 - Train Loss: 0.5289 - Val Loss: 0.6419 - Train RMSE: 0.6600 - Val RMSE: 0.8020\n",
      "Epoch 62/100 - Train Loss: 0.5287 - Val Loss: 0.6419 - Train RMSE: 0.6599 - Val RMSE: 0.8020\n",
      "Epoch 63/100 - Train Loss: 0.5285 - Val Loss: 0.6419 - Train RMSE: 0.6599 - Val RMSE: 0.8020\n",
      "Epoch 64/100 - Train Loss: 0.5265 - Val Loss: 0.6419 - Train RMSE: 0.6584 - Val RMSE: 0.8020\n",
      "Epoch 65/100 - Train Loss: 0.5264 - Val Loss: 0.6419 - Train RMSE: 0.6584 - Val RMSE: 0.8020\n",
      "Epoch 66/100 - Train Loss: 0.5263 - Val Loss: 0.6419 - Train RMSE: 0.6583 - Val RMSE: 0.8020\n",
      "Epoch 67/100 - Train Loss: 0.5253 - Val Loss: 0.6419 - Train RMSE: 0.6576 - Val RMSE: 0.8020\n",
      "Epoch 68/100 - Train Loss: 0.5253 - Val Loss: 0.6419 - Train RMSE: 0.6576 - Val RMSE: 0.8020\n",
      "Epoch 69/100 - Train Loss: 0.5253 - Val Loss: 0.6419 - Train RMSE: 0.6576 - Val RMSE: 0.8020\n",
      "Epoch 70/100 - Train Loss: 0.5247 - Val Loss: 0.6419 - Train RMSE: 0.6572 - Val RMSE: 0.8020\n",
      "Epoch 71/100 - Train Loss: 0.5248 - Val Loss: 0.6419 - Train RMSE: 0.6572 - Val RMSE: 0.8020\n",
      "Epoch 72/100 - Train Loss: 0.5247 - Val Loss: 0.6419 - Train RMSE: 0.6572 - Val RMSE: 0.8020\n",
      "Epoch 73/100 - Train Loss: 0.5245 - Val Loss: 0.6419 - Train RMSE: 0.6570 - Val RMSE: 0.8020\n",
      "Epoch 74/100 - Train Loss: 0.5244 - Val Loss: 0.6419 - Train RMSE: 0.6570 - Val RMSE: 0.8020\n",
      "Epoch 75/100 - Train Loss: 0.5244 - Val Loss: 0.6419 - Train RMSE: 0.6570 - Val RMSE: 0.8020\n",
      "Epoch 76/100 - Train Loss: 0.5243 - Val Loss: 0.6419 - Train RMSE: 0.6569 - Val RMSE: 0.8020\n",
      "Epoch 77/100 - Train Loss: 0.5243 - Val Loss: 0.6419 - Train RMSE: 0.6569 - Val RMSE: 0.8020\n",
      "Epoch 78/100 - Train Loss: 0.5243 - Val Loss: 0.6419 - Train RMSE: 0.6569 - Val RMSE: 0.8020\n",
      "Epoch 79/100 - Train Loss: 0.5243 - Val Loss: 0.6419 - Train RMSE: 0.6569 - Val RMSE: 0.8020\n",
      "Epoch 80/100 - Train Loss: 0.5243 - Val Loss: 0.6419 - Train RMSE: 0.6569 - Val RMSE: 0.8020\n",
      "Epoch 81/100 - Train Loss: 0.5243 - Val Loss: 0.6419 - Train RMSE: 0.6569 - Val RMSE: 0.8020\n",
      "Epoch 82/100 - Train Loss: 0.5243 - Val Loss: 0.6419 - Train RMSE: 0.6569 - Val RMSE: 0.8020\n",
      "Epoch 83/100 - Train Loss: 0.5243 - Val Loss: 0.6419 - Train RMSE: 0.6569 - Val RMSE: 0.8020\n",
      "Epoch 84/100 - Train Loss: 0.5243 - Val Loss: 0.6419 - Train RMSE: 0.6569 - Val RMSE: 0.8020\n",
      "Epoch 85/100 - Train Loss: 0.5242 - Val Loss: 0.6418 - Train RMSE: 0.6569 - Val RMSE: 0.8020\n",
      "Epoch 86/100 - Train Loss: 0.5242 - Val Loss: 0.6418 - Train RMSE: 0.6569 - Val RMSE: 0.8020\n",
      "Epoch 87/100 - Train Loss: 0.5244 - Val Loss: 0.6418 - Train RMSE: 0.6569 - Val RMSE: 0.8020\n",
      "Epoch 88/100 - Train Loss: 0.5243 - Val Loss: 0.6418 - Train RMSE: 0.6569 - Val RMSE: 0.8020\n",
      "Epoch 89/100 - Train Loss: 0.5243 - Val Loss: 0.6418 - Train RMSE: 0.6569 - Val RMSE: 0.8020\n",
      "Epoch 90/100 - Train Loss: 0.5243 - Val Loss: 0.6418 - Train RMSE: 0.6569 - Val RMSE: 0.8020\n",
      "Epoch 91/100 - Train Loss: 0.5243 - Val Loss: 0.6418 - Train RMSE: 0.6569 - Val RMSE: 0.8019\n",
      "Epoch 92/100 - Train Loss: 0.5243 - Val Loss: 0.6418 - Train RMSE: 0.6569 - Val RMSE: 0.8019\n",
      "Epoch 93/100 - Train Loss: 0.5243 - Val Loss: 0.6418 - Train RMSE: 0.6569 - Val RMSE: 0.8019\n",
      "Epoch 94/100 - Train Loss: 0.5243 - Val Loss: 0.6418 - Train RMSE: 0.6570 - Val RMSE: 0.8019\n",
      "Epoch 95/100 - Train Loss: 0.5243 - Val Loss: 0.6418 - Train RMSE: 0.6570 - Val RMSE: 0.8019\n",
      "Epoch 96/100 - Train Loss: 0.5243 - Val Loss: 0.6418 - Train RMSE: 0.6570 - Val RMSE: 0.8019\n",
      "Epoch 97/100 - Train Loss: 0.5243 - Val Loss: 0.6418 - Train RMSE: 0.6570 - Val RMSE: 0.8019\n",
      "Epoch 98/100 - Train Loss: 0.5243 - Val Loss: 0.6418 - Train RMSE: 0.6570 - Val RMSE: 0.8019\n",
      "Epoch 99/100 - Train Loss: 0.5243 - Val Loss: 0.6418 - Train RMSE: 0.6570 - Val RMSE: 0.8019\n",
      "Epoch 100/100 - Train Loss: 0.5242 - Val Loss: 0.6418 - Train RMSE: 0.6570 - Val RMSE: 0.8019\n"
     ]
    },
    {
     "name": "stderr",
     "output_type": "stream",
     "text": [
      "/tmp/ipykernel_443173/2148372479.py:75: FutureWarning: You are using `torch.load` with `weights_only=False` (the current default value), which uses the default pickle module implicitly. It is possible to construct malicious pickle data which will execute arbitrary code during unpickling (See https://github.com/pytorch/pytorch/blob/main/SECURITY.md#untrusted-models for more details). In a future release, the default value for `weights_only` will be flipped to `True`. This limits the functions that could be executed during unpickling. Arbitrary objects will no longer be allowed to be loaded via this mode unless they are explicitly allowlisted by the user via `torch.serialization.add_safe_globals`. We recommend you start setting `weights_only=True` for any use case where you don't have full control of the loaded file. Please open an issue on GitHub for any issues related to this experimental feature.\n",
      "  model.load_state_dict(torch.load(save_path))\n"
     ]
    }
   ],
   "source": [
    "# Use all data for low-interaction model\n",
    "train_dataset = RatingsDataset(train_data)  # Entire training data\n",
    "val_dataset = RatingsDataset(val_data)  # Entire validation data\n",
    "\n",
    "train_loader = DataLoader(\n",
    "    train_dataset, batch_size=BATCH_SIZE, shuffle=True, num_workers=0\n",
    ")\n",
    "val_loader = DataLoader(\n",
    "    val_dataset, batch_size=BATCH_SIZE, shuffle=False, num_workers=0\n",
    ")\n",
    "\n",
    "model = MatrixFactorization(n_users, n_books, EMBED_DIM).to(DEVICE)\n",
    "# Define optimizer and scheduler\n",
    "optimizer = optim.Adam(model.parameters(), lr=LR)\n",
    "scheduler = optim.lr_scheduler.ReduceLROnPlateau(\n",
    "    optimizer, mode=\"min\", factor=0.5, patience=2, verbose=True\n",
    ")\n",
    "\n",
    "# Train the low-interaction model\n",
    "model = train_model(\n",
    "    model,\n",
    "    train_loader,\n",
    "    val_loader,\n",
    "    lambda pred, target, model, reg_lambda: loss_fn(pred, target, model, reg_lambda, loss_type=\"MSE\"),\n",
    "    optimizer,\n",
    "    scheduler,\n",
    "    EPOCHS,\n",
    "    PATIENCE,\n",
    "    \"model.pt\",\n",
    ")\n"
   ]
  },
  {
   "cell_type": "markdown",
   "metadata": {},
   "source": [
    "### Hyperparameter tuning"
   ]
  },
  {
   "cell_type": "code",
   "execution_count": 8,
   "metadata": {},
   "outputs": [],
   "source": [
    "# import optuna\n",
    "# import joblib\n",
    "\n",
    "# SEED = 42\n",
    "# optuna.seed = SEED\n",
    "# def objective(trial):\n",
    "#     # Hyperparameter Search Space\n",
    "#     emb_dim = trial.suggest_int(\"EMBED_DIM\", 32, 128, step=16)\n",
    "#     lr = trial.suggest_loguniform(\"LR\", 1e-5, 1e-3)\n",
    "#     reg_lambda = trial.suggest_loguniform(\"REG_LAMBDA\", 1e-5, 1e-1)\n",
    "#     patience = trial.suggest_int(\"PATIENCE\", 5, 20)\n",
    "    \n",
    "#     # Define Model, Optimizer, and Scheduler\n",
    "#     model = MatrixFactorization(n_users, n_books, emb_dim).to(DEVICE)\n",
    "#     optimizer = optim.Adam(model.parameters(), lr=lr)\n",
    "#     scheduler = optim.lr_scheduler.ReduceLROnPlateau(\n",
    "#         optimizer, mode=\"min\", factor=0.5, patience=2, verbose=False\n",
    "#     )\n",
    "    \n",
    "#     # Train Model\n",
    "#     model = train_model(\n",
    "#         model,\n",
    "#         train_loader,  # Use pre-defined loaders\n",
    "#         val_loader,    # Use pre-defined loaders\n",
    "#         lambda pred, target, model, reg_lambda: loss_fn(pred, target, model, reg_lambda, loss_type=\"MSE\"),\n",
    "#         optimizer,\n",
    "#         scheduler,\n",
    "#         EPOCHS,\n",
    "#         patience,\n",
    "#         \"model_trial.pt\",\n",
    "#     )\n",
    "    \n",
    "#     # Evaluate on Validation Set\n",
    "#     model.eval()\n",
    "#     total_val_loss = 0\n",
    "#     val_squared_error = 0\n",
    "#     num_val_samples = 0\n",
    "#     with torch.no_grad():\n",
    "#         for users, items, ratings in val_loader:\n",
    "#             users = users.to(DEVICE)\n",
    "#             items = items.to(DEVICE)\n",
    "#             ratings = ratings.to(DEVICE)\n",
    "#             preds = model(users, items, offsets_tensor)\n",
    "#             val_loss = loss_fn(preds, ratings, model, 0)  # No regularization\n",
    "#             total_val_loss += val_loss.item()\n",
    "#             val_squared_error += ((preds - ratings) ** 2).sum().item()\n",
    "#             num_val_samples += ratings.size(0)\n",
    "#     val_rmse = np.sqrt(val_squared_error / num_val_samples)\n",
    "    \n",
    "#     return val_rmse\n",
    "\n",
    "# # Create dataloaders \n",
    "\n",
    "\n",
    "# # Create Optuna Study\n",
    "# study = optuna.create_study(direction=\"minimize\")\n",
    "# study.optimize(objective, n_trials=10)\n",
    "\n",
    "# # Save the Optuna Study\n",
    "# joblib.dump(study, \"optuna_study.pkl\")\n",
    "\n",
    "# # Retrieve the Best Trial\n",
    "# best_trial = study.best_trial\n",
    "# print(\"Best hyperparameters:\", best_trial.params)\n",
    "\n",
    "# # Train the Final Model with Best Hyperparameters\n",
    "# best_params = best_trial.params\n",
    "# final_model = MatrixFactorization(n_users, n_books, best_params[\"EMBED_DIM\"]).to(DEVICE)\n",
    "# final_optimizer = optim.Adam(final_model.parameters(), lr=best_params[\"LR\"])\n",
    "# final_scheduler = optim.lr_scheduler.ReduceLROnPlateau(\n",
    "#     final_optimizer, mode=\"min\", factor=0.5, patience=2, verbose=True\n",
    "# )\n",
    "\n",
    "# final_model = train_model(\n",
    "#     final_model,\n",
    "#     train_loader,  # Use pre-defined loaders\n",
    "#     val_loader,    # Use pre-defined loaders\n",
    "#     lambda pred, target, model, reg_lambda: loss_fn(pred, target, model, best_params[\"REG_LAMBDA\"], loss_type=\"MSE\"),\n",
    "#     final_optimizer,\n",
    "#     final_scheduler,\n",
    "#     EPOCHS,\n",
    "#     best_params[\"PATIENCE\"],\n",
    "#     \"final_best_model.pt\",\n",
    "# )\n",
    "\n",
    "# # Save the Final Model\n",
    "# torch.save(final_model.state_dict(), \"final_best_model_state_dict.pt\")\n"
   ]
  },
  {
   "cell_type": "markdown",
   "metadata": {},
   "source": [
    "### Evaluate"
   ]
  },
  {
   "cell_type": "code",
   "execution_count": 9,
   "metadata": {},
   "outputs": [
    {
     "name": "stdout",
     "output_type": "stream",
     "text": [
      "Low Interaction User Model RMSE: 0.9888\n"
     ]
    }
   ],
   "source": [
    "# now see it for the low interaction users \n",
    "low_int_usr = val_data[val_data['user_idx'].isin(low_interaction_users)]\n",
    "low_int_usr_dataset = RatingsDataset(low_int_usr)\n",
    "low_int_usr_loader = DataLoader(\n",
    "    low_int_usr_dataset, batch_size=BATCH_SIZE, shuffle=False, num_workers=0\n",
    ")\n",
    "\n",
    "model.eval()\n",
    "total_val_loss = 0\n",
    "\n",
    "with torch.no_grad():\n",
    "    total_error_sq = 0\n",
    "    for users, items, ratings in low_int_usr_loader:\n",
    "        users = users.to(DEVICE)\n",
    "        items = items.to(DEVICE)\n",
    "        ratings = ratings.to(DEVICE)\n",
    "\n",
    "        preds = model(users, items, offsets_tensor)\n",
    "        val_loss = loss_fn(preds, ratings, model, 0)  # No regularization during validation\n",
    "        total_val_loss += val_loss.item()\n",
    "        total_error_sq += ((preds - ratings) ** 2).sum().item()\n",
    "\n",
    "val_rmse = np.sqrt(total_error_sq / len(low_int_usr_loader.dataset))\n",
    "print(f\"Low Interaction User Model RMSE: {val_rmse:.4f}\")"
   ]
  },
  {
   "cell_type": "code",
   "execution_count": 10,
   "metadata": {},
   "outputs": [
    {
     "name": "stdout",
     "output_type": "stream",
     "text": [
      "High Interaction User Model RMSE: 0.7584\n"
     ]
    }
   ],
   "source": [
    "# now for the high interaction users\n",
    "high_int_usr = val_data[~val_data['user_idx'].isin(low_interaction_users)]\n",
    "high_int_usr_dataset = RatingsDataset(high_int_usr)\n",
    "high_int_usr_loader = DataLoader(\n",
    "    high_int_usr_dataset, batch_size=BATCH_SIZE, shuffle=False, num_workers=0\n",
    ")\n",
    "\n",
    "model.eval()\n",
    "total_val_loss = 0\n",
    "\n",
    "with torch.no_grad():\n",
    "    for users, items, ratings in high_int_usr_loader:\n",
    "        users = users.to(DEVICE)\n",
    "        items = items.to(DEVICE)\n",
    "        ratings = ratings.to(DEVICE)\n",
    "\n",
    "        preds = model(users, items, offsets_tensor)\n",
    "        val_loss = loss_fn(preds, ratings, model, 0)  # No regularization during validation\n",
    "        total_val_loss += val_loss.item()\n",
    "\n",
    "val_rmse = np.sqrt(total_val_loss / len(high_int_usr_loader))\n",
    "print(f\"High Interaction User Model RMSE: {val_rmse:.4f}\")"
   ]
  },
  {
   "cell_type": "code",
   "execution_count": 11,
   "metadata": {},
   "outputs": [
    {
     "name": "stdout",
     "output_type": "stream",
     "text": [
      "Created submission.csv\n"
     ]
    }
   ],
   "source": [
    "# make predictions on the test set\n",
    "# Map user and book IDs to indices\n",
    "test_df['user_idx'] = test_df['user_id'].map(user2idx)\n",
    "test_df['book_idx'] = test_df['book_id'].map(book2idx)\n",
    "\n",
    "# Handle unknown users/items by assigning them to baseline indices\n",
    "test_df[\"user_idx\"] = test_df[\"user_idx\"].fillna(n_users - 1).astype(int)\n",
    "test_df[\"book_idx\"] = test_df[\"book_idx\"].fillna(n_books - 1).astype(int)\n",
    "\n",
    "# Prepare tensors for test users and items\n",
    "test_users = torch.tensor(test_df[\"user_idx\"].values, dtype=torch.long).to(DEVICE)\n",
    "test_items = torch.tensor(test_df[\"book_idx\"].values, dtype=torch.long).to(DEVICE)\n",
    "\n",
    "# Predict using low-interaction model\n",
    "model.eval()\n",
    "with torch.no_grad():\n",
    "    test_preds = model(test_users, test_items, offsets_tensor).cpu().numpy()\n",
    "\n",
    "# Clip predictions to range (1 to 5)\n",
    "test_preds = np.clip(test_preds, 1.0, 5.0)\n",
    "\n",
    "# Save predictions\n",
    "submission = pd.DataFrame({\"id\": test_df[\"id\"], \"rating\": test_preds})\n",
    "submission.to_csv(\"submission.csv\", index=False)\n",
    "print(\"Created submission.csv\")"
   ]
  },
  {
   "cell_type": "markdown",
   "metadata": {},
   "source": [
    "## Sanity Check"
   ]
  },
  {
   "cell_type": "code",
   "execution_count": null,
   "metadata": {},
   "outputs": [],
   "source": [
    "test_df['rating'] = test_preds"
   ]
  },
  {
   "cell_type": "code",
   "execution_count": 11,
   "metadata": {},
   "outputs": [
    {
     "ename": "KeyError",
     "evalue": "'rating'",
     "output_type": "error",
     "traceback": [
      "\u001b[0;31m---------------------------------------------------------------------------\u001b[0m",
      "\u001b[0;31mKeyError\u001b[0m                                  Traceback (most recent call last)",
      "File \u001b[0;32m~/anaconda3/envs/dis_p1/lib/python3.12/site-packages/pandas/core/indexes/base.py:3805\u001b[0m, in \u001b[0;36mIndex.get_loc\u001b[0;34m(self, key)\u001b[0m\n\u001b[1;32m   3804\u001b[0m \u001b[38;5;28;01mtry\u001b[39;00m:\n\u001b[0;32m-> 3805\u001b[0m     \u001b[38;5;28;01mreturn\u001b[39;00m \u001b[38;5;28;43mself\u001b[39;49m\u001b[38;5;241;43m.\u001b[39;49m\u001b[43m_engine\u001b[49m\u001b[38;5;241;43m.\u001b[39;49m\u001b[43mget_loc\u001b[49m\u001b[43m(\u001b[49m\u001b[43mcasted_key\u001b[49m\u001b[43m)\u001b[49m\n\u001b[1;32m   3806\u001b[0m \u001b[38;5;28;01mexcept\u001b[39;00m \u001b[38;5;167;01mKeyError\u001b[39;00m \u001b[38;5;28;01mas\u001b[39;00m err:\n",
      "File \u001b[0;32mindex.pyx:167\u001b[0m, in \u001b[0;36mpandas._libs.index.IndexEngine.get_loc\u001b[0;34m()\u001b[0m\n",
      "File \u001b[0;32mindex.pyx:196\u001b[0m, in \u001b[0;36mpandas._libs.index.IndexEngine.get_loc\u001b[0;34m()\u001b[0m\n",
      "File \u001b[0;32mpandas/_libs/hashtable_class_helper.pxi:7081\u001b[0m, in \u001b[0;36mpandas._libs.hashtable.PyObjectHashTable.get_item\u001b[0;34m()\u001b[0m\n",
      "File \u001b[0;32mpandas/_libs/hashtable_class_helper.pxi:7089\u001b[0m, in \u001b[0;36mpandas._libs.hashtable.PyObjectHashTable.get_item\u001b[0;34m()\u001b[0m\n",
      "\u001b[0;31mKeyError\u001b[0m: 'rating'",
      "\nThe above exception was the direct cause of the following exception:\n",
      "\u001b[0;31mKeyError\u001b[0m                                  Traceback (most recent call last)",
      "Cell \u001b[0;32mIn[11], line 8\u001b[0m\n\u001b[1;32m      5\u001b[0m test_df_filtered \u001b[38;5;241m=\u001b[39m test_df[test_df[\u001b[38;5;124m\"\u001b[39m\u001b[38;5;124muser_id\u001b[39m\u001b[38;5;124m\"\u001b[39m]\u001b[38;5;241m.\u001b[39misin(users_with_less_than_5_reviews)]\n\u001b[1;32m      7\u001b[0m \u001b[38;5;66;03m# plot the ratings on hist\u001b[39;00m\n\u001b[0;32m----> 8\u001b[0m \u001b[43mtest_df_filtered\u001b[49m\u001b[43m[\u001b[49m\u001b[38;5;124;43m\"\u001b[39;49m\u001b[38;5;124;43mrating\u001b[39;49m\u001b[38;5;124;43m\"\u001b[39;49m\u001b[43m]\u001b[49m\u001b[38;5;241m.\u001b[39mhist()\n",
      "File \u001b[0;32m~/anaconda3/envs/dis_p1/lib/python3.12/site-packages/pandas/core/frame.py:4102\u001b[0m, in \u001b[0;36mDataFrame.__getitem__\u001b[0;34m(self, key)\u001b[0m\n\u001b[1;32m   4100\u001b[0m \u001b[38;5;28;01mif\u001b[39;00m \u001b[38;5;28mself\u001b[39m\u001b[38;5;241m.\u001b[39mcolumns\u001b[38;5;241m.\u001b[39mnlevels \u001b[38;5;241m>\u001b[39m \u001b[38;5;241m1\u001b[39m:\n\u001b[1;32m   4101\u001b[0m     \u001b[38;5;28;01mreturn\u001b[39;00m \u001b[38;5;28mself\u001b[39m\u001b[38;5;241m.\u001b[39m_getitem_multilevel(key)\n\u001b[0;32m-> 4102\u001b[0m indexer \u001b[38;5;241m=\u001b[39m \u001b[38;5;28;43mself\u001b[39;49m\u001b[38;5;241;43m.\u001b[39;49m\u001b[43mcolumns\u001b[49m\u001b[38;5;241;43m.\u001b[39;49m\u001b[43mget_loc\u001b[49m\u001b[43m(\u001b[49m\u001b[43mkey\u001b[49m\u001b[43m)\u001b[49m\n\u001b[1;32m   4103\u001b[0m \u001b[38;5;28;01mif\u001b[39;00m is_integer(indexer):\n\u001b[1;32m   4104\u001b[0m     indexer \u001b[38;5;241m=\u001b[39m [indexer]\n",
      "File \u001b[0;32m~/anaconda3/envs/dis_p1/lib/python3.12/site-packages/pandas/core/indexes/base.py:3812\u001b[0m, in \u001b[0;36mIndex.get_loc\u001b[0;34m(self, key)\u001b[0m\n\u001b[1;32m   3807\u001b[0m     \u001b[38;5;28;01mif\u001b[39;00m \u001b[38;5;28misinstance\u001b[39m(casted_key, \u001b[38;5;28mslice\u001b[39m) \u001b[38;5;129;01mor\u001b[39;00m (\n\u001b[1;32m   3808\u001b[0m         \u001b[38;5;28misinstance\u001b[39m(casted_key, abc\u001b[38;5;241m.\u001b[39mIterable)\n\u001b[1;32m   3809\u001b[0m         \u001b[38;5;129;01mand\u001b[39;00m \u001b[38;5;28many\u001b[39m(\u001b[38;5;28misinstance\u001b[39m(x, \u001b[38;5;28mslice\u001b[39m) \u001b[38;5;28;01mfor\u001b[39;00m x \u001b[38;5;129;01min\u001b[39;00m casted_key)\n\u001b[1;32m   3810\u001b[0m     ):\n\u001b[1;32m   3811\u001b[0m         \u001b[38;5;28;01mraise\u001b[39;00m InvalidIndexError(key)\n\u001b[0;32m-> 3812\u001b[0m     \u001b[38;5;28;01mraise\u001b[39;00m \u001b[38;5;167;01mKeyError\u001b[39;00m(key) \u001b[38;5;28;01mfrom\u001b[39;00m \u001b[38;5;21;01merr\u001b[39;00m\n\u001b[1;32m   3813\u001b[0m \u001b[38;5;28;01mexcept\u001b[39;00m \u001b[38;5;167;01mTypeError\u001b[39;00m:\n\u001b[1;32m   3814\u001b[0m     \u001b[38;5;66;03m# If we have a listlike key, _check_indexing_error will raise\u001b[39;00m\n\u001b[1;32m   3815\u001b[0m     \u001b[38;5;66;03m#  InvalidIndexError. Otherwise we fall through and re-raise\u001b[39;00m\n\u001b[1;32m   3816\u001b[0m     \u001b[38;5;66;03m#  the TypeError.\u001b[39;00m\n\u001b[1;32m   3817\u001b[0m     \u001b[38;5;28mself\u001b[39m\u001b[38;5;241m.\u001b[39m_check_indexing_error(key)\n",
      "\u001b[0;31mKeyError\u001b[0m: 'rating'"
     ]
    }
   ],
   "source": [
    "user_counts = train_df[\"user_id\"].value_counts()\n",
    "users_with_less_than_5_reviews = user_counts[user_counts < 55].index\n",
    "\n",
    "# get the test_df rows with user_ids in users_with_less_than_5_reviews\n",
    "test_df_filtered = test_df[test_df[\"user_id\"].isin(users_with_less_than_5_reviews)]\n",
    "\n",
    "# plot the ratings on hist\n",
    "test_df_filtered[\"rating\"].hist()"
   ]
  },
  {
   "cell_type": "code",
   "execution_count": null,
   "metadata": {},
   "outputs": [
    {
     "data": {
      "text/plain": [
       "rating\n",
       "2.0    21973\n",
       "1.0    17689\n",
       "1.5    15399\n",
       "2.5    14177\n",
       "3.0     9863\n",
       "3.5     8167\n",
       "4.0     6753\n",
       "5.0     5577\n",
       "4.5      925\n",
       "Name: count, dtype: int64"
      ]
     },
     "execution_count": 49,
     "metadata": {},
     "output_type": "execute_result"
    }
   ],
   "source": [
    "train_df[\"rating\"].value_counts()"
   ]
  },
  {
   "cell_type": "code",
   "execution_count": null,
   "metadata": {},
   "outputs": [
    {
     "data": {
      "text/plain": [
       "<Axes: >"
      ]
     },
     "execution_count": 50,
     "metadata": {},
     "output_type": "execute_result"
    },
    {
     "data": {
      "image/png": "[encoded data removed]",
      "text/plain": [
       "<Figure size 640x480 with 1 Axes>"
      ]
     },
     "metadata": {},
     "output_type": "display_data"
    }
   ],
   "source": [
    "train_df[\"rating\"].hist()"
   ]
  },
  {
   "cell_type": "code",
   "execution_count": null,
   "metadata": {},
   "outputs": [
    {
     "data": {
      "text/plain": [
       "<Axes: >"
      ]
     },
     "execution_count": 66,
     "metadata": {},
     "output_type": "execute_result"
    },
    {
     "data": {
      "image/png": "[encoded data removed]",
      "text/plain": [
       "<Figure size 640x480 with 1 Axes>"
      ]
     },
     "metadata": {},
     "output_type": "display_data"
    }
   ],
   "source": [
    "# plot the rating hist in train_df for only the users with less than X (X will be adjustable) reviews\n",
    "train_df[train_df[\"user_id\"].isin(user_counts[user_counts < 55545].index)][\n",
    "    \"rating\"\n",
    "].hist()"
   ]
  },
  {
   "cell_type": "code",
   "execution_count": null,
   "metadata": {},
   "outputs": [
    {
     "data": {
      "text/plain": [
       "user_id\n",
       "1       3.910462\n",
       "2       3.813296\n",
       "3       2.748508\n",
       "4       2.234422\n",
       "5       2.169215\n",
       "          ...   \n",
       "239     2.054393\n",
       "311     2.172026\n",
       "315     1.450794\n",
       "472     1.580508\n",
       "1837    2.210942\n",
       "Name: rating, Length: 123, dtype: float64"
      ]
     },
     "execution_count": 67,
     "metadata": {},
     "output_type": "execute_result"
    }
   ],
   "source": [
    "user_id_counts = train_data.groupby(\"user_id\")[\"user_id\"].transform(\"size\")\n",
    "count2mean = train_data.groupby(user_id_counts)[\"rating\"].mean()\n",
    "count2mean"
   ]
  },
  {
   "cell_type": "code",
   "execution_count": null,
   "metadata": {},
   "outputs": [
    {
     "name": "stdout",
     "output_type": "stream",
     "text": [
      "Number of missing books in test not in train: 0\n",
      "Book counts:\n",
      "book_id\n",
      "408       257\n",
      "748       213\n",
      "522       149\n",
      "356       142\n",
      "26        142\n",
      "         ... \n",
      "247693      1\n",
      "248107      1\n",
      "245643      1\n",
      "246570      1\n",
      "246356      1\n",
      "Name: count, Length: 15712, dtype: int64\n"
     ]
    },
    {
     "data": {
      "text/plain": [
       "<Axes: >"
      ]
     },
     "execution_count": 68,
     "metadata": {},
     "output_type": "execute_result"
    },
    {
     "data": {
      "image/png": "[encoded data removed]",
      "text/plain": [
       "<Figure size 640x480 with 1 Axes>"
      ]
     },
     "metadata": {},
     "output_type": "display_data"
    }
   ],
   "source": [
    "import pandas as pd\n",
    "\n",
    "test_df = pd.read_csv(\"../data/test.csv\")\n",
    "train_data = pd.read_csv(\"../data/train.csv\")\n",
    "test_books = set(test_df[\"book_id\"].unique())\n",
    "train_books = set(train_data[\"book_id\"].unique())\n",
    "\n",
    "missing_books = test_books - train_books\n",
    "print(f\"Number of missing books in test not in train: {len(missing_books)}\")\n",
    "if len(missing_books) > 0:\n",
    "    print(\"Missing books:\", missing_books)\n",
    "\n",
    "\n",
    "# print number of occurrences of each book in the train data\n",
    "book_counts = train_data[\"book_id\"].value_counts()\n",
    "print(\"Book counts:\")\n",
    "print(book_counts)\n",
    "\n",
    "# show the occurences histogram in log scale\n",
    "book_counts.hist(bins=10, log=True)"
   ]
  },
  {
   "cell_type": "code",
   "execution_count": null,
   "metadata": {},
   "outputs": [
    {
     "name": "stdout",
     "output_type": "stream",
     "text": [
      "Book counts sorted:\n",
      "book_id\n",
      "408       257\n",
      "748       213\n",
      "522       149\n",
      "356       142\n",
      "26        142\n",
      "         ... \n",
      "245793      1\n",
      "249072      1\n",
      "248519      1\n",
      "66651       1\n",
      "249242      1\n",
      "Name: count, Length: 15712, dtype: int64\n",
      "Top books:\n",
      "book_id\n",
      "408     257\n",
      "748     213\n",
      "522     149\n",
      "356     142\n",
      "26      142\n",
      "       ... \n",
      "5873     58\n",
      "2527     57\n",
      "2488     57\n",
      "516      56\n",
      "1051     56\n",
      "Name: count, Length: 100, dtype: int64\n",
      "Top books ratings:\n",
      "book_id\n",
      "18        2.256944\n",
      "26        3.915493\n",
      "28        2.065789\n",
      "37        1.453271\n",
      "67        1.898810\n",
      "            ...   \n",
      "5873      1.974138\n",
      "5887      1.768116\n",
      "6330      1.427536\n",
      "6933      1.406780\n",
      "243217    4.206349\n",
      "Name: rating, Length: 100, dtype: float64\n"
     ]
    }
   ],
   "source": [
    "# sort the rating of the books by the number of occurrences\n",
    "book_counts_sorted = book_counts.sort_values(ascending=False)\n",
    "print(\"Book counts sorted:\")\n",
    "print(book_counts_sorted)\n",
    "\n",
    "# show the top 10 books with the most occurrences\n",
    "top_books = book_counts_sorted.head(100)\n",
    "print(\"Top books:\")\n",
    "print(top_books)\n",
    "\n",
    "# get the each avg rating of the top books\n",
    "top_books_ratings = (\n",
    "    train_data[train_data[\"book_id\"].isin(top_books.index)]\n",
    "    .groupby(\"book_id\")[\"rating\"]\n",
    "    .mean()\n",
    ")\n",
    "print(\"Top books ratings:\")\n",
    "print(top_books_ratings)"
   ]
  }
 ],
 "metadata": {
  "kernelspec": {
   "display_name": "dis_p1",
   "language": "python",
   "name": "python3"
  },
  "language_info": {
   "codemirror_mode": {
    "name": "ipython",
    "version": 3
   },
   "file_extension": ".py",
   "mimetype": "text/x-python",
   "name": "python",
   "nbconvert_exporter": "python",
   "pygments_lexer": "ipython3",
   "version": "3.12.5"
  }
 },
 "nbformat": 4,
 "nbformat_minor": 2
}
