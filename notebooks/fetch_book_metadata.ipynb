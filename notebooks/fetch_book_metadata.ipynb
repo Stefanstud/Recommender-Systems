{
 "cells": [
  {
   "cell_type": "code",
   "execution_count": 1,
   "metadata": {},
   "outputs": [
    {
     "data": {
      "text/plain": [
       "'Can work with Google Books api or Open Library api to get book information'"
      ]
     },
     "execution_count": 1,
     "metadata": {},
     "output_type": "execute_result"
    }
   ],
   "source": [
    "\"\"\"Can work with Google Books api or Open Library api to get book information\"\"\""
   ]
  },
  {
   "cell_type": "code",
   "execution_count": 3,
   "metadata": {},
   "outputs": [],
   "source": [
    "import pandas as pd\n",
    "import numpy as np"
   ]
  },
  {
   "cell_type": "code",
   "execution_count": 3,
   "metadata": {},
   "outputs": [],
   "source": [
    "books = pd.read_csv(\"../data/books_fixed.csv\")"
   ]
  },
  {
   "cell_type": "code",
   "execution_count": null,
   "metadata": {},
   "outputs": [
    {
     "name": "stderr",
     "output_type": "stream",
     "text": [
      "Fetching book data:   0%|          | 0/16599 [00:00<?, ?it/s]"
     ]
    },
    {
     "name": "stderr",
     "output_type": "stream",
     "text": [
      "Fetching book data:  51%|█████▏    | 8521/16599 [2:42:03<90:46:03, 40.45s/it]"
     ]
    },
    {
     "name": "stdout",
     "output_type": "stream",
     "text": [
      "Error with ISBN 0140324623: HTTPSConnectionPool(host='openlibrary.org', port=443): Max retries exceeded with url: /books/OL22474773M.json (Caused by ConnectTimeoutError(<urllib3.connection.HTTPSConnection object at 0x7f6f16adc230>, 'Connection to openlibrary.org timed out. (connect timeout=None)'))\n"
     ]
    },
    {
     "name": "stderr",
     "output_type": "stream",
     "text": [
      "Fetching book data:  99%|█████████▉| 16455/16599 [4:55:55<1:34:57, 39.56s/it]"
     ]
    },
    {
     "name": "stdout",
     "output_type": "stream",
     "text": [
      "Error with ISBN 0671449028: HTTPSConnectionPool(host='openlibrary.org', port=443): Max retries exceeded with url: /isbn/0671449028.json (Caused by ConnectTimeoutError(<urllib3.connection.HTTPSConnection object at 0x7f6f16b14290>, 'Connection to openlibrary.org timed out. (connect timeout=None)'))\n"
     ]
    },
    {
     "name": "stderr",
     "output_type": "stream",
     "text": [
      "Fetching book data: 100%|██████████| 16599/16599 [4:58:10<00:00,  1.08s/it]  \n"
     ]
    },
    {
     "name": "stdout",
     "output_type": "stream",
     "text": [
      "Extended dataset created and saved.\n"
     ]
    }
   ],
   "source": [
    "# import pandas as pd\n",
    "# from requests import Session\n",
    "# from requests_ratelimiter import LimiterAdapter\n",
    "# from tqdm import tqdm\n",
    "\n",
    "\n",
    "# def fetch_author_name(session, author_key):\n",
    "#     author_url = f\"https://openlibrary.org{author_key}.json\"\n",
    "#     response = session.get(author_url)\n",
    "#     if response.status_code == 200:\n",
    "#         author_data = response.json()\n",
    "#         return author_data.get(\"name\")\n",
    "#     return None\n",
    "\n",
    "\n",
    "# def fetch_book_data():\n",
    "#     session = Session()\n",
    "#     adapter = LimiterAdapter(per_second=5)\n",
    "#     session.mount(\"https://openlibrary.org/\", adapter)\n",
    "\n",
    "#     books_df = pd.read_csv(\"../data/books_fixed.csv\")\n",
    "\n",
    "#     extended_data = []\n",
    "#     for isbn in tqdm(books_df[\"ISBN\"], desc=\"Fetching book data\"):\n",
    "#         try:\n",
    "#             response = session.get(f\"https://openlibrary.org/isbn/{isbn}.json\")\n",
    "#             if response.status_code == 200:\n",
    "#                 book_data = response.json()\n",
    "\n",
    "#                 authors = [\n",
    "#                     fetch_author_name(session, author.get(\"key\"))\n",
    "#                     for author in book_data.get(\"authors\", [])\n",
    "#                 ]\n",
    "\n",
    "#                 features = {\n",
    "#                     \"ISBN\": isbn,\n",
    "#                     \"number_of_pages\": book_data.get(\"number_of_pages\"),\n",
    "#                     \"genres\": \",\".join(book_data.get(\"genres\", [])),\n",
    "#                     \"publish_date\": book_data.get(\"publish_date\"),\n",
    "#                     \"authors\": \",\".join(\n",
    "#                         filter(None, authors)\n",
    "#                     ),  # Join only non-None authors\n",
    "#                     \"publishers\": \",\".join(book_data.get(\"publishers\", [])),\n",
    "#                     \"languages\": \",\".join(\n",
    "#                         [\n",
    "#                             language.get(\"key\", \"\").replace(\"/languages/\", \"\")\n",
    "#                             for language in book_data.get(\"languages\", [])\n",
    "#                         ]\n",
    "#                     ),\n",
    "#                     \"subjects\": \",\".join(book_data.get(\"subjects\", [])),\n",
    "#                 }\n",
    "#                 extended_data.append(features)\n",
    "#             else:\n",
    "#                 extended_data.append({\"ISBN\": isbn})\n",
    "#         except Exception as e:\n",
    "#             print(f\"Error with ISBN {isbn}: {e}\")\n",
    "#             extended_data.append({\"ISBN\": isbn})\n",
    "\n",
    "#     extended_df = pd.DataFrame(extended_data)\n",
    "#     books_df = books_df.merge(extended_df, on=\"ISBN\", how=\"left\")\n",
    "#     books_df.to_csv(\"../data/extended_books_openlibrary.csv\", index=False)\n",
    "#     print(\"Extended dataset created and saved.\")\n",
    "\n",
    "#     session.close()\n",
    "\n",
    "\n",
    "# fetch_book_data()"
   ]
  },
  {
   "cell_type": "code",
   "execution_count": null,
   "metadata": {},
   "outputs": [
    {
     "name": "stderr",
     "output_type": "stream",
     "text": [
      "Fetching book data:   0%|          | 0/8494 [00:00<?, ?it/s]"
     ]
    },
    {
     "name": "stderr",
     "output_type": "stream",
     "text": [
      "Fetching book data: 100%|██████████| 8494/8494 [4:23:29<00:00,  1.86s/it]  "
     ]
    },
    {
     "name": "stdout",
     "output_type": "stream",
     "text": [
      "Extended dataset created and saved with Google Books API.\n"
     ]
    },
    {
     "name": "stderr",
     "output_type": "stream",
     "text": [
      "\n"
     ]
    }
   ],
   "source": [
    "# \"\"\"Google Books API\"\"\"\n",
    "\n",
    "# import pandas as pd\n",
    "# from requests import Session\n",
    "# from tqdm import tqdm\n",
    "# import time\n",
    "# import os\n",
    "\n",
    "\n",
    "# def fetch_book_data_google():\n",
    "#     session = Session()\n",
    "#     books_df = pd.read_csv(\"../data/books_fixed2.csv\")\n",
    "\n",
    "#     extended_books_path = \"../data/extended_books_google2.csv\"\n",
    "\n",
    "#     if os.path.exists(extended_books_path):\n",
    "#         extended_books_df = pd.read_csv(extended_books_path)\n",
    "#         fetched_isbns = set(extended_books_df[\"ISBN\"].dropna())\n",
    "#     else:\n",
    "#         extended_books_df = pd.DataFrame()\n",
    "#         fetched_isbns = set()\n",
    "\n",
    "#     new_isbns = books_df[~books_df[\"ISBN\"].isin(fetched_isbns)][\"ISBN\"]\n",
    "\n",
    "#     extended_data = []\n",
    "#     for isbn in tqdm(new_isbns, desc=\"Fetching book data\"):\n",
    "#         time.sleep(1.5)\n",
    "#         try:\n",
    "#             response = session.get(\n",
    "#                 f\"https://www.googleapis.com/books/v1/volumes?q=isbn:{isbn}\"\n",
    "#             )\n",
    "#             if response.status_code == 200:\n",
    "#                 results = response.json()\n",
    "#                 if results[\"totalItems\"] > 0:\n",
    "#                     book_data = results[\"items\"][0][\"volumeInfo\"]\n",
    "\n",
    "#                     # Extract relevant information\n",
    "#                     features = {\n",
    "#                         \"ISBN\": isbn,\n",
    "#                         \"title\": book_data.get(\"title\"),\n",
    "#                         \"subtitle\": book_data.get(\"subtitle\"),\n",
    "#                         \"authors\": \",\".join(book_data.get(\"authors\", [])),\n",
    "#                         \"publisher\": book_data.get(\"publisher\"),\n",
    "#                         \"publishedDate\": book_data.get(\"publishedDate\"),\n",
    "#                         \"description\": book_data.get(\"description\"),\n",
    "#                         \"pageCount\": book_data.get(\"pageCount\"),\n",
    "#                         \"maturityRating\": book_data.get(\"maturityRating\"),\n",
    "#                         \"language\": book_data.get(\"language\"),\n",
    "#                         \"categories\": \",\".join(book_data.get(\"categories\", [])),\n",
    "#                         \"ratingsCount\": book_data.get(\"ratingsCount\"),\n",
    "#                         \"averageRating\": book_data.get(\"averageRating\"),\n",
    "#                         \"textSnippet\": book_data.get(\"searchInfo\", {}).get(\n",
    "#                             \"textSnippet\"\n",
    "#                         ),\n",
    "#                     }\n",
    "#                     extended_data.append(features)\n",
    "#                 else:\n",
    "#                     extended_data.append({\"ISBN\": isbn})\n",
    "#             else:\n",
    "#                 print(f\"Failed to fetch data for ISBN {isbn}\")\n",
    "#                 extended_data.append({\"ISBN\": isbn})\n",
    "#         except Exception as e:\n",
    "#             print(f\"Error with ISBN {isbn}: {e}\")\n",
    "#             extended_data.append({\"ISBN\": isbn})\n",
    "\n",
    "#     new_extended_df = pd.DataFrame(extended_data)\n",
    "\n",
    "#     if not extended_books_df.empty:\n",
    "#         combined_df = pd.concat([extended_books_df, new_extended_df], ignore_index=True)\n",
    "#     else:\n",
    "#         combined_df = new_extended_df\n",
    "\n",
    "#     combined_df.to_csv(extended_books_path, index=False)\n",
    "#     print(\"Extended dataset created and saved with Google Books API.\")\n",
    "\n",
    "#     session.close()\n",
    "\n",
    "\n",
    "# fetch_book_data_google()"
   ]
  }
 ],
 "metadata": {
  "kernelspec": {
   "display_name": "dis_p1",
   "language": "python",
   "name": "python3"
  },
  "language_info": {
   "codemirror_mode": {
    "name": "ipython",
    "version": 3
   },
   "file_extension": ".py",
   "mimetype": "text/x-python",
   "name": "python",
   "nbconvert_exporter": "python",
   "pygments_lexer": "ipython3",
   "version": "3.12.5"
  }
 },
 "nbformat": 4,
 "nbformat_minor": 2
}
