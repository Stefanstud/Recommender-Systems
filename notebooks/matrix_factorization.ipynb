{
 "cells": [
  {
   "cell_type": "code",
   "execution_count": 1,
   "metadata": {},
   "outputs": [],
   "source": [
    "import pandas as pd\n",
    "import numpy as np\n",
    "import torch\n",
    "import torch.nn as nn\n",
    "from torch.utils.data import Dataset, DataLoader\n",
    "import torch.optim as optim\n",
    "from sklearn.model_selection import StratifiedShuffleSplit\n",
    "from tqdm import tqdm\n",
    "from transformers import get_cosine_schedule_with_warmup"
   ]
  },
  {
   "cell_type": "code",
   "execution_count": null,
   "metadata": {},
   "outputs": [
    {
     "name": "stdout",
     "output_type": "stream",
     "text": [
      "Using device: mps\n",
      "Training samples: [14850 33058 23165 ... 45495  9326 88037]\n",
      "Validation samples: [60520 57559 83510 ... 17408 50550 45676]\n"
     ]
    }
   ],
   "source": [
    "# -----------------------\n",
    "# Hyperparameters\n",
    "# -----------------------\n",
    "EMBED_DIM = 64\n",
    "BATCH_SIZE = 128  # per request\n",
    "LR = 3e-4  # reduced learning rate for batch size 1\n",
    "EPOCHS = 100\n",
    "DEVICE = torch.device(\"mps\" if torch.backends.mps.is_available() else \"cpu\")\n",
    "print(f\"Using device: {DEVICE}\")\n",
    "\n",
    "# fix the seed for reproducibility\n",
    "SEED = 42\n",
    "np.random.seed(SEED)\n",
    "torch.manual_seed(SEED)\n",
    "torch.cuda.manual_seed(SEED)\n",
    "torch.cuda.manual_seed_all(SEED)\n",
    "torch.backends.cudnn.deterministic = True\n",
    "\n",
    "# -----------------------\n",
    "# Data Loading and Preprocessing\n",
    "# -----------------------\n",
    "\n",
    "# Load training data\n",
    "train_df = pd.read_csv(\"../data/train.csv\")\n",
    "\n",
    "# We may need to ensure user_ids and book_ids are mapped to contiguous indices\n",
    "# to be used as indices for embeddings. Let's create such mappings.\n",
    "unique_users = train_df.user_id.unique()\n",
    "unique_books = train_df.book_id.unique()\n",
    "\n",
    "user2idx = {u: i for i, u in enumerate(unique_users)}\n",
    "book2idx = {b: i for i, b in enumerate(unique_books)}\n",
    "\n",
    "train_df[\"user_idx\"] = train_df[\"user_id\"].map(user2idx)\n",
    "train_df[\"book_idx\"] = train_df[\"book_id\"].map(book2idx)\n",
    "\n",
    "n_users = len(user2idx)\n",
    "n_books = len(book2idx)\n",
    "\n",
    "# -----------------------\n",
    "# Create Validation Split\n",
    "# -----------------------\n",
    "# We will stratify by rating since it is a categorical-like label (1.0 to 5.0 in increments of 0.5).\n",
    "# Convert rating to a string or leave as is; stratification requires discrete classes.\n",
    "# Ratings are already effectively discrete steps of 0.5. We'll treat them as categories.\n",
    "y = train_df[\"rating\"].values\n",
    "\n",
    "splitter = StratifiedShuffleSplit(n_splits=1, test_size=0.1, random_state=42)\n",
    "train_idx, val_idx = next(splitter.split(train_df, y))\n",
    "\n",
    "print(f\"Training samples: {train_idx}\")\n",
    "print(f\"Validation samples: {val_idx}\")\n",
    "\n",
    "# check for any overlap\n",
    "assert len(set(train_idx) & set(val_idx)) == 0\n",
    "\n",
    "train_data = train_df.iloc[train_idx].reset_index(drop=True)\n",
    "val_data = train_df.iloc[val_idx].reset_index(drop=True)\n",
    "\n",
    "# Check for NAs (unknown users/books) - if exists, handle them:\n",
    "# if test_df[\"user_idx\"].isnull().any():\n",
    "#     # If new user not in train, assign random index or handle specially.\n",
    "#     # For simplicity, assign a \"new_user_idx\" with new embedding or use average rating.\n",
    "#     # Here we just fill them with a known user (e.g., 0) - but better handle gracefully in a real scenario.\n",
    "#     test_df[\"user_idx\"].fillna(0, inplace=True)\n",
    "#     test_df[\"user_idx\"] = test_df[\"user_idx\"].astype(int)\n",
    "\n",
    "# if test_df[\"book_idx\"].isnull().any():\n",
    "#     # Similarly, handle unknown books:\n",
    "#     test_df[\"book_idx\"].fillna(0, inplace=True)\n",
    "#     test_df[\"book_idx\"] = test_df[\"book_idx\"].astype(int)"
   ]
  },
  {
   "cell_type": "code",
   "execution_count": 3,
   "metadata": {},
   "outputs": [
    {
     "data": {
      "text/plain": [
       "user_id\n",
       "3785     1841\n",
       "28251     465\n",
       "43652     314\n",
       "5180      302\n",
       "27445     241\n",
       "         ... \n",
       "92717       1\n",
       "87309       1\n",
       "80311       1\n",
       "91709       1\n",
       "92985       1\n",
       "Name: count, Length: 17775, dtype: int64"
      ]
     },
     "execution_count": 3,
     "metadata": {},
     "output_type": "execute_result"
    }
   ],
   "source": [
    "train_data[\"user_id\"].value_counts()"
   ]
  },
  {
   "cell_type": "code",
   "execution_count": 4,
   "metadata": {},
   "outputs": [
    {
     "data": {
      "text/plain": [
       "user_id\n",
       "3785     200\n",
       "28251     59\n",
       "5180      43\n",
       "43652     36\n",
       "30022     30\n",
       "        ... \n",
       "92004      1\n",
       "90237      1\n",
       "84706      1\n",
       "45609      1\n",
       "51726      1\n",
       "Name: count, Length: 5140, dtype: int64"
      ]
     },
     "execution_count": 4,
     "metadata": {},
     "output_type": "execute_result"
    }
   ],
   "source": [
    "# distribution of ratings in train and val\n",
    "val_data[\"user_id\"].value_counts()"
   ]
  },
  {
   "cell_type": "code",
   "execution_count": 5,
   "metadata": {},
   "outputs": [],
   "source": [
    "class RatingsDataset(Dataset):\n",
    "    def __init__(self, df):\n",
    "        self.users = df[\"user_idx\"].values\n",
    "        self.books = df[\"book_idx\"].values\n",
    "        self.ratings = df[\"rating\"].values.astype(np.float32)\n",
    "\n",
    "    def __len__(self):\n",
    "        return len(self.ratings)\n",
    "\n",
    "    def __getitem__(self, idx):\n",
    "        return (\n",
    "            torch.tensor(self.users[idx], dtype=torch.long),\n",
    "            torch.tensor(self.books[idx], dtype=torch.long),\n",
    "            torch.tensor(self.ratings[idx], dtype=torch.float32),\n",
    "        )\n",
    "\n",
    "\n",
    "train_dataset = RatingsDataset(train_data)\n",
    "val_dataset = RatingsDataset(val_data)\n",
    "\n",
    "train_loader = DataLoader(train_dataset, batch_size=BATCH_SIZE, shuffle=True)\n",
    "val_loader = DataLoader(val_dataset, batch_size=BATCH_SIZE, shuffle=False)\n",
    "\n",
    "\n",
    "# -----------------------\n",
    "# Model Definition\n",
    "# -----------------------\n",
    "class MatrixFactorization(nn.Module):\n",
    "    def __init__(self, num_users, num_items, emb_dim=64):\n",
    "        super(MatrixFactorization, self).__init__()\n",
    "        self.user_emb = nn.Embedding(num_users, emb_dim)\n",
    "        self.item_emb = nn.Embedding(num_items, emb_dim)\n",
    "\n",
    "        # Optional biases\n",
    "        self.user_bias = nn.Embedding(num_users, 1)\n",
    "        self.item_bias = nn.Embedding(num_items, 1)\n",
    "\n",
    "        # Initialize embeddings\n",
    "        nn.init.normal_(self.user_emb.weight, std=0.01)\n",
    "        nn.init.normal_(self.item_emb.weight, std=0.01)\n",
    "        nn.init.zeros_(self.user_bias.weight)\n",
    "        nn.init.zeros_(self.item_bias.weight)\n",
    "\n",
    "        # A global bias for all predictions\n",
    "        self.global_bias = nn.Parameter(torch.zeros(1))\n",
    "\n",
    "    def forward(self, user_ids, item_ids):\n",
    "        U = self.user_emb(user_ids)\n",
    "        V = self.item_emb(item_ids)\n",
    "        u_b = self.user_bias(user_ids).squeeze()\n",
    "        i_b = self.item_bias(item_ids).squeeze()\n",
    "\n",
    "        # Dot product plus bias\n",
    "        # user_regul = torch.norm(U, p=2)\n",
    "        # item_regul = torch.norm(V, p=2)\n",
    "        pred = (U * V).sum(dim=1) + u_b + i_b + self.global_bias\n",
    "        return pred"
   ]
  },
  {
   "cell_type": "code",
   "execution_count": 6,
   "metadata": {},
   "outputs": [],
   "source": [
    "def loss_fn(pred, target, model, reg_lambda):\n",
    "    mse_loss = nn.MSELoss()(pred, target)\n",
    "    user_reg = model.user_emb.weight.norm(2)\n",
    "    item_reg = model.item_emb.weight.norm(2)\n",
    "    reg_loss = reg_lambda * (user_reg + item_reg)\n",
    "    return mse_loss + reg_loss"
   ]
  },
  {
   "cell_type": "code",
   "execution_count": 7,
   "metadata": {},
   "outputs": [
    {
     "name": "stderr",
     "output_type": "stream",
     "text": [
      "/Users/saidgurbuz/miniconda3/lib/python3.11/site-packages/torch/optim/lr_scheduler.py:60: UserWarning: The verbose parameter is deprecated. Please use get_last_lr() to access the learning rate.\n",
      "  warnings.warn(\n"
     ]
    },
    {
     "name": "stdout",
     "output_type": "stream",
     "text": [
      "Current learning rate:  0.0003\n"
     ]
    },
    {
     "name": "stderr",
     "output_type": "stream",
     "text": [
      "100%|██████████| 707/707 [00:03<00:00, 181.61it/s]\n",
      "100%|██████████| 79/79 [00:00<00:00, 524.55it/s]\n"
     ]
    },
    {
     "name": "stdout",
     "output_type": "stream",
     "text": [
      "Epoch 1/100, Train Loss: 6.3106, Val Loss: 5.6600\n",
      "RMSE Train: 2.5121, RMSE Val: 2.3791\n",
      "Current learning rate:  0.0003\n"
     ]
    },
    {
     "name": "stderr",
     "output_type": "stream",
     "text": [
      "100%|██████████| 707/707 [00:03<00:00, 190.11it/s]\n",
      "100%|██████████| 79/79 [00:00<00:00, 592.05it/s]\n"
     ]
    },
    {
     "name": "stdout",
     "output_type": "stream",
     "text": [
      "Epoch 2/100, Train Loss: 5.1556, Val Loss: 4.7000\n",
      "RMSE Train: 2.2706, RMSE Val: 2.1679\n",
      "Current learning rate:  0.0003\n"
     ]
    },
    {
     "name": "stderr",
     "output_type": "stream",
     "text": [
      "100%|██████████| 707/707 [00:03<00:00, 191.71it/s]\n",
      "100%|██████████| 79/79 [00:00<00:00, 573.22it/s]\n"
     ]
    },
    {
     "name": "stdout",
     "output_type": "stream",
     "text": [
      "Epoch 3/100, Train Loss: 4.2666, Val Loss: 3.9026\n",
      "RMSE Train: 2.0656, RMSE Val: 1.9755\n",
      "Current learning rate:  0.0003\n"
     ]
    },
    {
     "name": "stderr",
     "output_type": "stream",
     "text": [
      "100%|██████████| 707/707 [00:03<00:00, 196.17it/s]\n",
      "100%|██████████| 79/79 [00:00<00:00, 649.74it/s]\n"
     ]
    },
    {
     "name": "stdout",
     "output_type": "stream",
     "text": [
      "Epoch 4/100, Train Loss: 3.5328, Val Loss: 3.2483\n",
      "RMSE Train: 1.8796, RMSE Val: 1.8023\n",
      "Current learning rate:  0.0003\n"
     ]
    },
    {
     "name": "stderr",
     "output_type": "stream",
     "text": [
      "100%|██████████| 707/707 [00:03<00:00, 197.60it/s]\n",
      "100%|██████████| 79/79 [00:00<00:00, 617.68it/s]\n"
     ]
    },
    {
     "name": "stdout",
     "output_type": "stream",
     "text": [
      "Epoch 5/100, Train Loss: 2.9347, Val Loss: 2.7189\n",
      "RMSE Train: 1.7131, RMSE Val: 1.6489\n",
      "Current learning rate:  0.0003\n"
     ]
    },
    {
     "name": "stderr",
     "output_type": "stream",
     "text": [
      "100%|██████████| 707/707 [00:03<00:00, 193.99it/s]\n",
      "100%|██████████| 79/79 [00:00<00:00, 630.87it/s]\n"
     ]
    },
    {
     "name": "stdout",
     "output_type": "stream",
     "text": [
      "Epoch 6/100, Train Loss: 2.4557, Val Loss: 2.2990\n",
      "RMSE Train: 1.5671, RMSE Val: 1.5162\n",
      "Current learning rate:  0.0003\n"
     ]
    },
    {
     "name": "stderr",
     "output_type": "stream",
     "text": [
      "100%|██████████| 707/707 [00:03<00:00, 194.81it/s]\n",
      "100%|██████████| 79/79 [00:00<00:00, 617.34it/s]\n"
     ]
    },
    {
     "name": "stdout",
     "output_type": "stream",
     "text": [
      "Epoch 7/100, Train Loss: 2.0796, Val Loss: 1.9730\n",
      "RMSE Train: 1.4421, RMSE Val: 1.4046\n",
      "Current learning rate:  0.0003\n"
     ]
    },
    {
     "name": "stderr",
     "output_type": "stream",
     "text": [
      "100%|██████████| 707/707 [00:03<00:00, 197.89it/s]\n",
      "100%|██████████| 79/79 [00:00<00:00, 596.43it/s]\n"
     ]
    },
    {
     "name": "stdout",
     "output_type": "stream",
     "text": [
      "Epoch 8/100, Train Loss: 1.7905, Val Loss: 1.7262\n",
      "RMSE Train: 1.3381, RMSE Val: 1.3138\n",
      "Current learning rate:  0.0003\n"
     ]
    },
    {
     "name": "stderr",
     "output_type": "stream",
     "text": [
      "100%|██████████| 707/707 [00:03<00:00, 195.04it/s]\n",
      "100%|██████████| 79/79 [00:00<00:00, 625.46it/s]\n"
     ]
    },
    {
     "name": "stdout",
     "output_type": "stream",
     "text": [
      "Epoch 9/100, Train Loss: 1.5739, Val Loss: 1.5439\n",
      "RMSE Train: 1.2546, RMSE Val: 1.2425\n",
      "Current learning rate:  0.0003\n"
     ]
    },
    {
     "name": "stderr",
     "output_type": "stream",
     "text": [
      "100%|██████████| 707/707 [00:03<00:00, 198.77it/s]\n",
      "100%|██████████| 79/79 [00:00<00:00, 634.52it/s]\n"
     ]
    },
    {
     "name": "stdout",
     "output_type": "stream",
     "text": [
      "Epoch 10/100, Train Loss: 1.4146, Val Loss: 1.4127\n",
      "RMSE Train: 1.1894, RMSE Val: 1.1886\n",
      "Current learning rate:  0.0003\n"
     ]
    },
    {
     "name": "stderr",
     "output_type": "stream",
     "text": [
      "100%|██████████| 707/707 [00:03<00:00, 196.59it/s]\n",
      "100%|██████████| 79/79 [00:00<00:00, 603.93it/s]\n"
     ]
    },
    {
     "name": "stdout",
     "output_type": "stream",
     "text": [
      "Epoch 11/100, Train Loss: 1.2999, Val Loss: 1.3197\n",
      "RMSE Train: 1.1401, RMSE Val: 1.1488\n",
      "Current learning rate:  0.0003\n"
     ]
    },
    {
     "name": "stderr",
     "output_type": "stream",
     "text": [
      "100%|██████████| 707/707 [00:03<00:00, 196.29it/s]\n",
      "100%|██████████| 79/79 [00:00<00:00, 604.10it/s]\n"
     ]
    },
    {
     "name": "stdout",
     "output_type": "stream",
     "text": [
      "Epoch 12/100, Train Loss: 1.2175, Val Loss: 1.2545\n",
      "RMSE Train: 1.1034, RMSE Val: 1.1201\n",
      "Current learning rate:  0.0003\n"
     ]
    },
    {
     "name": "stderr",
     "output_type": "stream",
     "text": [
      "100%|██████████| 707/707 [00:03<00:00, 192.70it/s]\n",
      "100%|██████████| 79/79 [00:00<00:00, 631.74it/s]\n"
     ]
    },
    {
     "name": "stdout",
     "output_type": "stream",
     "text": [
      "Epoch 13/100, Train Loss: 1.1573, Val Loss: 1.2075\n",
      "RMSE Train: 1.0758, RMSE Val: 1.0989\n",
      "Current learning rate:  0.0003\n"
     ]
    },
    {
     "name": "stderr",
     "output_type": "stream",
     "text": [
      "100%|██████████| 707/707 [00:03<00:00, 191.33it/s]\n",
      "100%|██████████| 79/79 [00:00<00:00, 595.06it/s]\n"
     ]
    },
    {
     "name": "stdout",
     "output_type": "stream",
     "text": [
      "Epoch 14/100, Train Loss: 1.1112, Val Loss: 1.1714\n",
      "RMSE Train: 1.0541, RMSE Val: 1.0823\n",
      "Current learning rate:  0.0003\n"
     ]
    },
    {
     "name": "stderr",
     "output_type": "stream",
     "text": [
      "100%|██████████| 707/707 [00:03<00:00, 195.14it/s]\n",
      "100%|██████████| 79/79 [00:00<00:00, 628.03it/s]\n"
     ]
    },
    {
     "name": "stdout",
     "output_type": "stream",
     "text": [
      "Epoch 15/100, Train Loss: 1.0727, Val Loss: 1.1415\n",
      "RMSE Train: 1.0357, RMSE Val: 1.0684\n",
      "Current learning rate:  0.0003\n"
     ]
    },
    {
     "name": "stderr",
     "output_type": "stream",
     "text": [
      "100%|██████████| 707/707 [00:03<00:00, 201.89it/s]\n",
      "100%|██████████| 79/79 [00:00<00:00, 625.17it/s]\n"
     ]
    },
    {
     "name": "stdout",
     "output_type": "stream",
     "text": [
      "Epoch 16/100, Train Loss: 1.0384, Val Loss: 1.1152\n",
      "RMSE Train: 1.0190, RMSE Val: 1.0560\n",
      "Current learning rate:  0.0003\n"
     ]
    },
    {
     "name": "stderr",
     "output_type": "stream",
     "text": [
      "100%|██████████| 707/707 [00:03<00:00, 192.24it/s]\n",
      "100%|██████████| 79/79 [00:00<00:00, 615.79it/s]\n"
     ]
    },
    {
     "name": "stdout",
     "output_type": "stream",
     "text": [
      "Epoch 17/100, Train Loss: 1.0067, Val Loss: 1.0909\n",
      "RMSE Train: 1.0033, RMSE Val: 1.0445\n",
      "Current learning rate:  0.0003\n"
     ]
    },
    {
     "name": "stderr",
     "output_type": "stream",
     "text": [
      "100%|██████████| 707/707 [00:03<00:00, 200.20it/s]\n",
      "100%|██████████| 79/79 [00:00<00:00, 621.73it/s]\n"
     ]
    },
    {
     "name": "stdout",
     "output_type": "stream",
     "text": [
      "Epoch 18/100, Train Loss: 0.9771, Val Loss: 1.0686\n",
      "RMSE Train: 0.9885, RMSE Val: 1.0337\n",
      "Current learning rate:  0.0003\n"
     ]
    },
    {
     "name": "stderr",
     "output_type": "stream",
     "text": [
      "100%|██████████| 707/707 [00:03<00:00, 196.28it/s]\n",
      "100%|██████████| 79/79 [00:00<00:00, 618.45it/s]\n"
     ]
    },
    {
     "name": "stdout",
     "output_type": "stream",
     "text": [
      "Epoch 19/100, Train Loss: 0.9493, Val Loss: 1.0478\n",
      "RMSE Train: 0.9743, RMSE Val: 1.0236\n",
      "Current learning rate:  0.0003\n"
     ]
    },
    {
     "name": "stderr",
     "output_type": "stream",
     "text": [
      "100%|██████████| 707/707 [00:03<00:00, 196.94it/s]\n",
      "100%|██████████| 79/79 [00:00<00:00, 617.44it/s]\n"
     ]
    },
    {
     "name": "stdout",
     "output_type": "stream",
     "text": [
      "Epoch 20/100, Train Loss: 0.9232, Val Loss: 1.0284\n",
      "RMSE Train: 0.9608, RMSE Val: 1.0141\n",
      "Current learning rate:  0.0003\n"
     ]
    },
    {
     "name": "stderr",
     "output_type": "stream",
     "text": [
      "100%|██████████| 707/707 [00:03<00:00, 197.19it/s]\n",
      "100%|██████████| 79/79 [00:00<00:00, 524.62it/s]\n"
     ]
    },
    {
     "name": "stdout",
     "output_type": "stream",
     "text": [
      "Epoch 21/100, Train Loss: 0.8987, Val Loss: 1.0101\n",
      "RMSE Train: 0.9480, RMSE Val: 1.0050\n",
      "Current learning rate:  0.0003\n"
     ]
    },
    {
     "name": "stderr",
     "output_type": "stream",
     "text": [
      "100%|██████████| 707/707 [00:03<00:00, 195.84it/s]\n",
      "100%|██████████| 79/79 [00:00<00:00, 617.23it/s]\n"
     ]
    },
    {
     "name": "stdout",
     "output_type": "stream",
     "text": [
      "Epoch 22/100, Train Loss: 0.8755, Val Loss: 0.9930\n",
      "RMSE Train: 0.9357, RMSE Val: 0.9965\n",
      "Current learning rate:  0.0003\n"
     ]
    },
    {
     "name": "stderr",
     "output_type": "stream",
     "text": [
      "100%|██████████| 707/707 [00:03<00:00, 195.70it/s]\n",
      "100%|██████████| 79/79 [00:00<00:00, 611.14it/s]\n"
     ]
    },
    {
     "name": "stdout",
     "output_type": "stream",
     "text": [
      "Epoch 23/100, Train Loss: 0.8535, Val Loss: 0.9773\n",
      "RMSE Train: 0.9239, RMSE Val: 0.9886\n",
      "Current learning rate:  0.0003\n"
     ]
    },
    {
     "name": "stderr",
     "output_type": "stream",
     "text": [
      "100%|██████████| 707/707 [00:03<00:00, 200.74it/s]\n",
      "100%|██████████| 79/79 [00:00<00:00, 623.76it/s]\n"
     ]
    },
    {
     "name": "stdout",
     "output_type": "stream",
     "text": [
      "Epoch 24/100, Train Loss: 0.8329, Val Loss: 0.9622\n",
      "RMSE Train: 0.9127, RMSE Val: 0.9809\n",
      "Current learning rate:  0.0003\n"
     ]
    },
    {
     "name": "stderr",
     "output_type": "stream",
     "text": [
      "100%|██████████| 707/707 [00:03<00:00, 194.56it/s]\n",
      "100%|██████████| 79/79 [00:00<00:00, 582.56it/s]\n"
     ]
    },
    {
     "name": "stdout",
     "output_type": "stream",
     "text": [
      "Epoch 25/100, Train Loss: 0.8134, Val Loss: 0.9481\n",
      "RMSE Train: 0.9019, RMSE Val: 0.9737\n",
      "Current learning rate:  0.0003\n"
     ]
    },
    {
     "name": "stderr",
     "output_type": "stream",
     "text": [
      "100%|██████████| 707/707 [00:03<00:00, 192.23it/s]\n",
      "100%|██████████| 79/79 [00:00<00:00, 584.84it/s]\n"
     ]
    },
    {
     "name": "stdout",
     "output_type": "stream",
     "text": [
      "Epoch 26/100, Train Loss: 0.7949, Val Loss: 0.9351\n",
      "RMSE Train: 0.8916, RMSE Val: 0.9670\n",
      "Current learning rate:  0.0003\n"
     ]
    },
    {
     "name": "stderr",
     "output_type": "stream",
     "text": [
      "100%|██████████| 707/707 [00:03<00:00, 191.82it/s]\n",
      "100%|██████████| 79/79 [00:00<00:00, 610.84it/s]\n"
     ]
    },
    {
     "name": "stdout",
     "output_type": "stream",
     "text": [
      "Epoch 27/100, Train Loss: 0.7775, Val Loss: 0.9227\n",
      "RMSE Train: 0.8818, RMSE Val: 0.9606\n",
      "Current learning rate:  0.0003\n"
     ]
    },
    {
     "name": "stderr",
     "output_type": "stream",
     "text": [
      "100%|██████████| 707/707 [00:03<00:00, 210.46it/s]\n",
      "100%|██████████| 79/79 [00:00<00:00, 612.02it/s]\n"
     ]
    },
    {
     "name": "stdout",
     "output_type": "stream",
     "text": [
      "Epoch 28/100, Train Loss: 0.7609, Val Loss: 0.9111\n",
      "RMSE Train: 0.8723, RMSE Val: 0.9545\n",
      "Current learning rate:  0.0003\n"
     ]
    },
    {
     "name": "stderr",
     "output_type": "stream",
     "text": [
      "100%|██████████| 707/707 [00:03<00:00, 188.15it/s]\n",
      "100%|██████████| 79/79 [00:00<00:00, 607.33it/s]\n"
     ]
    },
    {
     "name": "stdout",
     "output_type": "stream",
     "text": [
      "Epoch 29/100, Train Loss: 0.7452, Val Loss: 0.9004\n",
      "RMSE Train: 0.8632, RMSE Val: 0.9489\n",
      "Current learning rate:  0.0003\n"
     ]
    },
    {
     "name": "stderr",
     "output_type": "stream",
     "text": [
      "100%|██████████| 707/707 [00:03<00:00, 199.61it/s]\n",
      "100%|██████████| 79/79 [00:00<00:00, 609.60it/s]\n"
     ]
    },
    {
     "name": "stdout",
     "output_type": "stream",
     "text": [
      "Epoch 30/100, Train Loss: 0.7304, Val Loss: 0.8901\n",
      "RMSE Train: 0.8546, RMSE Val: 0.9434\n",
      "Current learning rate:  0.0003\n"
     ]
    },
    {
     "name": "stderr",
     "output_type": "stream",
     "text": [
      "100%|██████████| 707/707 [00:03<00:00, 189.27it/s]\n",
      "100%|██████████| 79/79 [00:00<00:00, 520.07it/s]\n"
     ]
    },
    {
     "name": "stdout",
     "output_type": "stream",
     "text": [
      "Epoch 31/100, Train Loss: 0.7162, Val Loss: 0.8805\n",
      "RMSE Train: 0.8463, RMSE Val: 0.9384\n",
      "Current learning rate:  0.0003\n"
     ]
    },
    {
     "name": "stderr",
     "output_type": "stream",
     "text": [
      "100%|██████████| 707/707 [00:03<00:00, 194.40it/s]\n",
      "100%|██████████| 79/79 [00:00<00:00, 530.45it/s]\n"
     ]
    },
    {
     "name": "stdout",
     "output_type": "stream",
     "text": [
      "Epoch 32/100, Train Loss: 0.7029, Val Loss: 0.8713\n",
      "RMSE Train: 0.8384, RMSE Val: 0.9334\n",
      "Current learning rate:  0.0003\n"
     ]
    },
    {
     "name": "stderr",
     "output_type": "stream",
     "text": [
      "100%|██████████| 707/707 [00:03<00:00, 194.95it/s]\n",
      "100%|██████████| 79/79 [00:00<00:00, 550.75it/s]\n"
     ]
    },
    {
     "name": "stdout",
     "output_type": "stream",
     "text": [
      "Epoch 33/100, Train Loss: 0.6901, Val Loss: 0.8629\n",
      "RMSE Train: 0.8307, RMSE Val: 0.9289\n",
      "Current learning rate:  0.0003\n"
     ]
    },
    {
     "name": "stderr",
     "output_type": "stream",
     "text": [
      "100%|██████████| 707/707 [00:03<00:00, 195.26it/s]\n",
      "100%|██████████| 79/79 [00:00<00:00, 571.16it/s]\n"
     ]
    },
    {
     "name": "stdout",
     "output_type": "stream",
     "text": [
      "Epoch 34/100, Train Loss: 0.6780, Val Loss: 0.8551\n",
      "RMSE Train: 0.8234, RMSE Val: 0.9247\n",
      "Current learning rate:  0.0003\n"
     ]
    },
    {
     "name": "stderr",
     "output_type": "stream",
     "text": [
      "100%|██████████| 707/707 [00:03<00:00, 195.04it/s]\n",
      "100%|██████████| 79/79 [00:00<00:00, 591.33it/s]\n"
     ]
    },
    {
     "name": "stdout",
     "output_type": "stream",
     "text": [
      "Epoch 35/100, Train Loss: 0.6665, Val Loss: 0.8474\n",
      "RMSE Train: 0.8164, RMSE Val: 0.9206\n",
      "Current learning rate:  0.0003\n"
     ]
    },
    {
     "name": "stderr",
     "output_type": "stream",
     "text": [
      "100%|██████████| 707/707 [00:03<00:00, 196.20it/s]\n",
      "100%|██████████| 79/79 [00:00<00:00, 578.78it/s]\n"
     ]
    },
    {
     "name": "stdout",
     "output_type": "stream",
     "text": [
      "Epoch 36/100, Train Loss: 0.6556, Val Loss: 0.8402\n",
      "RMSE Train: 0.8097, RMSE Val: 0.9166\n",
      "Current learning rate:  0.0003\n"
     ]
    },
    {
     "name": "stderr",
     "output_type": "stream",
     "text": [
      "100%|██████████| 707/707 [00:03<00:00, 197.10it/s]\n",
      "100%|██████████| 79/79 [00:00<00:00, 575.51it/s]\n"
     ]
    },
    {
     "name": "stdout",
     "output_type": "stream",
     "text": [
      "Epoch 37/100, Train Loss: 0.6451, Val Loss: 0.8335\n",
      "RMSE Train: 0.8032, RMSE Val: 0.9130\n",
      "Current learning rate:  0.0003\n"
     ]
    },
    {
     "name": "stderr",
     "output_type": "stream",
     "text": [
      "100%|██████████| 707/707 [00:03<00:00, 197.16it/s]\n",
      "100%|██████████| 79/79 [00:00<00:00, 565.46it/s]\n"
     ]
    },
    {
     "name": "stdout",
     "output_type": "stream",
     "text": [
      "Epoch 38/100, Train Loss: 0.6352, Val Loss: 0.8275\n",
      "RMSE Train: 0.7970, RMSE Val: 0.9097\n",
      "Current learning rate:  0.0003\n"
     ]
    },
    {
     "name": "stderr",
     "output_type": "stream",
     "text": [
      "100%|██████████| 707/707 [00:03<00:00, 195.46it/s]\n",
      "100%|██████████| 79/79 [00:00<00:00, 561.64it/s]\n"
     ]
    },
    {
     "name": "stdout",
     "output_type": "stream",
     "text": [
      "Epoch 39/100, Train Loss: 0.6258, Val Loss: 0.8218\n",
      "RMSE Train: 0.7911, RMSE Val: 0.9066\n",
      "Current learning rate:  0.0003\n"
     ]
    },
    {
     "name": "stderr",
     "output_type": "stream",
     "text": [
      "100%|██████████| 707/707 [00:03<00:00, 193.88it/s]\n",
      "100%|██████████| 79/79 [00:00<00:00, 576.20it/s]\n"
     ]
    },
    {
     "name": "stdout",
     "output_type": "stream",
     "text": [
      "Epoch 40/100, Train Loss: 0.6168, Val Loss: 0.8161\n",
      "RMSE Train: 0.7853, RMSE Val: 0.9034\n",
      "Current learning rate:  0.0003\n"
     ]
    },
    {
     "name": "stderr",
     "output_type": "stream",
     "text": [
      "100%|██████████| 707/707 [00:03<00:00, 193.91it/s]\n",
      "100%|██████████| 79/79 [00:00<00:00, 564.43it/s]\n"
     ]
    },
    {
     "name": "stdout",
     "output_type": "stream",
     "text": [
      "Epoch 41/100, Train Loss: 0.6081, Val Loss: 0.8111\n",
      "RMSE Train: 0.7798, RMSE Val: 0.9006\n",
      "Current learning rate:  0.0003\n"
     ]
    },
    {
     "name": "stderr",
     "output_type": "stream",
     "text": [
      "100%|██████████| 707/707 [00:03<00:00, 196.29it/s]\n",
      "100%|██████████| 79/79 [00:00<00:00, 578.47it/s]\n"
     ]
    },
    {
     "name": "stdout",
     "output_type": "stream",
     "text": [
      "Epoch 42/100, Train Loss: 0.5998, Val Loss: 0.8062\n",
      "RMSE Train: 0.7745, RMSE Val: 0.8979\n",
      "Current learning rate:  0.0003\n"
     ]
    },
    {
     "name": "stderr",
     "output_type": "stream",
     "text": [
      "100%|██████████| 707/707 [00:03<00:00, 194.76it/s]\n",
      "100%|██████████| 79/79 [00:00<00:00, 573.21it/s]\n"
     ]
    },
    {
     "name": "stdout",
     "output_type": "stream",
     "text": [
      "Epoch 43/100, Train Loss: 0.5920, Val Loss: 0.8015\n",
      "RMSE Train: 0.7694, RMSE Val: 0.8953\n",
      "Current learning rate:  0.0003\n"
     ]
    },
    {
     "name": "stderr",
     "output_type": "stream",
     "text": [
      "100%|██████████| 707/707 [00:03<00:00, 192.89it/s]\n",
      "100%|██████████| 79/79 [00:00<00:00, 578.57it/s]\n"
     ]
    },
    {
     "name": "stdout",
     "output_type": "stream",
     "text": [
      "Epoch 44/100, Train Loss: 0.5844, Val Loss: 0.7972\n",
      "RMSE Train: 0.7645, RMSE Val: 0.8929\n",
      "Current learning rate:  0.0003\n"
     ]
    },
    {
     "name": "stderr",
     "output_type": "stream",
     "text": [
      "100%|██████████| 707/707 [00:03<00:00, 197.61it/s]\n",
      "100%|██████████| 79/79 [00:00<00:00, 570.29it/s]\n"
     ]
    },
    {
     "name": "stdout",
     "output_type": "stream",
     "text": [
      "Epoch 45/100, Train Loss: 0.5771, Val Loss: 0.7932\n",
      "RMSE Train: 0.7597, RMSE Val: 0.8906\n",
      "Current learning rate:  0.0003\n"
     ]
    },
    {
     "name": "stderr",
     "output_type": "stream",
     "text": [
      "100%|██████████| 707/707 [00:03<00:00, 196.84it/s]\n",
      "100%|██████████| 79/79 [00:00<00:00, 577.14it/s]\n"
     ]
    },
    {
     "name": "stdout",
     "output_type": "stream",
     "text": [
      "Epoch 46/100, Train Loss: 0.5702, Val Loss: 0.7897\n",
      "RMSE Train: 0.7551, RMSE Val: 0.8886\n",
      "Current learning rate:  0.0003\n"
     ]
    },
    {
     "name": "stderr",
     "output_type": "stream",
     "text": [
      "100%|██████████| 707/707 [00:03<00:00, 194.07it/s]\n",
      "100%|██████████| 79/79 [00:00<00:00, 578.60it/s]\n"
     ]
    },
    {
     "name": "stdout",
     "output_type": "stream",
     "text": [
      "Epoch 47/100, Train Loss: 0.5635, Val Loss: 0.7858\n",
      "RMSE Train: 0.7507, RMSE Val: 0.8865\n",
      "Current learning rate:  0.0003\n"
     ]
    },
    {
     "name": "stderr",
     "output_type": "stream",
     "text": [
      "100%|██████████| 707/707 [00:03<00:00, 197.36it/s]\n",
      "100%|██████████| 79/79 [00:00<00:00, 581.65it/s]\n"
     ]
    },
    {
     "name": "stdout",
     "output_type": "stream",
     "text": [
      "Epoch 48/100, Train Loss: 0.5572, Val Loss: 0.7823\n",
      "RMSE Train: 0.7465, RMSE Val: 0.8845\n",
      "Current learning rate:  0.0003\n"
     ]
    },
    {
     "name": "stderr",
     "output_type": "stream",
     "text": [
      "100%|██████████| 707/707 [00:03<00:00, 193.88it/s]\n",
      "100%|██████████| 79/79 [00:00<00:00, 576.31it/s]\n"
     ]
    },
    {
     "name": "stdout",
     "output_type": "stream",
     "text": [
      "Epoch 49/100, Train Loss: 0.5511, Val Loss: 0.7795\n",
      "RMSE Train: 0.7424, RMSE Val: 0.8829\n",
      "Current learning rate:  0.0003\n"
     ]
    },
    {
     "name": "stderr",
     "output_type": "stream",
     "text": [
      "100%|██████████| 707/707 [00:03<00:00, 201.98it/s]\n",
      "100%|██████████| 79/79 [00:00<00:00, 571.10it/s]\n"
     ]
    },
    {
     "name": "stdout",
     "output_type": "stream",
     "text": [
      "Epoch 50/100, Train Loss: 0.5452, Val Loss: 0.7767\n",
      "RMSE Train: 0.7384, RMSE Val: 0.8813\n",
      "Current learning rate:  0.0003\n"
     ]
    },
    {
     "name": "stderr",
     "output_type": "stream",
     "text": [
      "100%|██████████| 707/707 [00:03<00:00, 198.03it/s]\n",
      "100%|██████████| 79/79 [00:00<00:00, 568.28it/s]\n"
     ]
    },
    {
     "name": "stdout",
     "output_type": "stream",
     "text": [
      "Epoch 51/100, Train Loss: 0.5395, Val Loss: 0.7737\n",
      "RMSE Train: 0.7345, RMSE Val: 0.8796\n",
      "Current learning rate:  0.0003\n"
     ]
    },
    {
     "name": "stderr",
     "output_type": "stream",
     "text": [
      "100%|██████████| 707/707 [00:03<00:00, 197.24it/s]\n",
      "100%|██████████| 79/79 [00:00<00:00, 567.54it/s]\n"
     ]
    },
    {
     "name": "stdout",
     "output_type": "stream",
     "text": [
      "Epoch 52/100, Train Loss: 0.5341, Val Loss: 0.7714\n",
      "RMSE Train: 0.7308, RMSE Val: 0.8783\n",
      "Current learning rate:  0.0003\n"
     ]
    },
    {
     "name": "stderr",
     "output_type": "stream",
     "text": [
      "100%|██████████| 707/707 [00:03<00:00, 200.18it/s]\n",
      "100%|██████████| 79/79 [00:00<00:00, 572.83it/s]\n"
     ]
    },
    {
     "name": "stdout",
     "output_type": "stream",
     "text": [
      "Epoch 53/100, Train Loss: 0.5289, Val Loss: 0.7690\n",
      "RMSE Train: 0.7272, RMSE Val: 0.8769\n",
      "Current learning rate:  0.0003\n"
     ]
    },
    {
     "name": "stderr",
     "output_type": "stream",
     "text": [
      "100%|██████████| 707/707 [00:03<00:00, 196.60it/s]\n",
      "100%|██████████| 79/79 [00:00<00:00, 575.53it/s]\n"
     ]
    },
    {
     "name": "stdout",
     "output_type": "stream",
     "text": [
      "Epoch 54/100, Train Loss: 0.5239, Val Loss: 0.7664\n",
      "RMSE Train: 0.7238, RMSE Val: 0.8755\n",
      "Current learning rate:  0.0003\n"
     ]
    },
    {
     "name": "stderr",
     "output_type": "stream",
     "text": [
      "100%|██████████| 707/707 [00:03<00:00, 194.23it/s]\n",
      "100%|██████████| 79/79 [00:00<00:00, 552.37it/s]\n"
     ]
    },
    {
     "name": "stdout",
     "output_type": "stream",
     "text": [
      "Epoch 55/100, Train Loss: 0.5191, Val Loss: 0.7643\n",
      "RMSE Train: 0.7205, RMSE Val: 0.8743\n",
      "Current learning rate:  0.0003\n"
     ]
    },
    {
     "name": "stderr",
     "output_type": "stream",
     "text": [
      "100%|██████████| 707/707 [00:03<00:00, 189.42it/s]\n",
      "100%|██████████| 79/79 [00:00<00:00, 562.94it/s]\n"
     ]
    },
    {
     "name": "stdout",
     "output_type": "stream",
     "text": [
      "Epoch 56/100, Train Loss: 0.5144, Val Loss: 0.7622\n",
      "RMSE Train: 0.7172, RMSE Val: 0.8730\n",
      "Current learning rate:  0.0003\n"
     ]
    },
    {
     "name": "stderr",
     "output_type": "stream",
     "text": [
      "100%|██████████| 707/707 [00:03<00:00, 190.09it/s]\n",
      "100%|██████████| 79/79 [00:00<00:00, 561.55it/s]\n"
     ]
    },
    {
     "name": "stdout",
     "output_type": "stream",
     "text": [
      "Epoch 57/100, Train Loss: 0.5099, Val Loss: 0.7606\n",
      "RMSE Train: 0.7140, RMSE Val: 0.8721\n",
      "Current learning rate:  0.0003\n"
     ]
    },
    {
     "name": "stderr",
     "output_type": "stream",
     "text": [
      "100%|██████████| 707/707 [00:03<00:00, 195.00it/s]\n",
      "100%|██████████| 79/79 [00:00<00:00, 525.21it/s]\n"
     ]
    },
    {
     "name": "stdout",
     "output_type": "stream",
     "text": [
      "Epoch 58/100, Train Loss: 0.5056, Val Loss: 0.7586\n",
      "RMSE Train: 0.7110, RMSE Val: 0.8710\n",
      "Current learning rate:  0.0003\n"
     ]
    },
    {
     "name": "stderr",
     "output_type": "stream",
     "text": [
      "100%|██████████| 707/707 [00:03<00:00, 199.20it/s]\n",
      "100%|██████████| 79/79 [00:00<00:00, 580.27it/s]\n"
     ]
    },
    {
     "name": "stdout",
     "output_type": "stream",
     "text": [
      "Epoch 59/100, Train Loss: 0.5013, Val Loss: 0.7569\n",
      "RMSE Train: 0.7081, RMSE Val: 0.8700\n",
      "Current learning rate:  0.0003\n"
     ]
    },
    {
     "name": "stderr",
     "output_type": "stream",
     "text": [
      "100%|██████████| 707/707 [00:03<00:00, 192.72it/s]\n",
      "100%|██████████| 79/79 [00:00<00:00, 590.80it/s]\n"
     ]
    },
    {
     "name": "stdout",
     "output_type": "stream",
     "text": [
      "Epoch 60/100, Train Loss: 0.4974, Val Loss: 0.7557\n",
      "RMSE Train: 0.7053, RMSE Val: 0.8693\n",
      "Current learning rate:  0.0003\n"
     ]
    },
    {
     "name": "stderr",
     "output_type": "stream",
     "text": [
      "100%|██████████| 707/707 [00:03<00:00, 187.66it/s]\n",
      "100%|██████████| 79/79 [00:00<00:00, 488.12it/s]\n"
     ]
    },
    {
     "name": "stdout",
     "output_type": "stream",
     "text": [
      "Epoch 61/100, Train Loss: 0.4935, Val Loss: 0.7541\n",
      "RMSE Train: 0.7025, RMSE Val: 0.8684\n",
      "Current learning rate:  0.0003\n"
     ]
    },
    {
     "name": "stderr",
     "output_type": "stream",
     "text": [
      "100%|██████████| 707/707 [00:03<00:00, 190.60it/s]\n",
      "100%|██████████| 79/79 [00:00<00:00, 551.73it/s]\n"
     ]
    },
    {
     "name": "stdout",
     "output_type": "stream",
     "text": [
      "Epoch 62/100, Train Loss: 0.4897, Val Loss: 0.7528\n",
      "RMSE Train: 0.6998, RMSE Val: 0.8676\n",
      "Current learning rate:  0.0003\n"
     ]
    },
    {
     "name": "stderr",
     "output_type": "stream",
     "text": [
      "100%|██████████| 707/707 [00:03<00:00, 185.33it/s]\n",
      "100%|██████████| 79/79 [00:00<00:00, 560.67it/s]\n"
     ]
    },
    {
     "name": "stdout",
     "output_type": "stream",
     "text": [
      "Epoch 63/100, Train Loss: 0.4861, Val Loss: 0.7514\n",
      "RMSE Train: 0.6972, RMSE Val: 0.8669\n",
      "Current learning rate:  0.0003\n"
     ]
    },
    {
     "name": "stderr",
     "output_type": "stream",
     "text": [
      "100%|██████████| 707/707 [00:03<00:00, 187.42it/s]\n",
      "100%|██████████| 79/79 [00:00<00:00, 533.04it/s]\n"
     ]
    },
    {
     "name": "stdout",
     "output_type": "stream",
     "text": [
      "Epoch 64/100, Train Loss: 0.4826, Val Loss: 0.7500\n",
      "RMSE Train: 0.6947, RMSE Val: 0.8660\n",
      "Current learning rate:  0.0003\n"
     ]
    },
    {
     "name": "stderr",
     "output_type": "stream",
     "text": [
      "100%|██████████| 707/707 [00:03<00:00, 188.26it/s]\n",
      "100%|██████████| 79/79 [00:00<00:00, 561.99it/s]\n"
     ]
    },
    {
     "name": "stdout",
     "output_type": "stream",
     "text": [
      "Epoch 65/100, Train Loss: 0.4792, Val Loss: 0.7490\n",
      "RMSE Train: 0.6922, RMSE Val: 0.8654\n",
      "Current learning rate:  0.0003\n"
     ]
    },
    {
     "name": "stderr",
     "output_type": "stream",
     "text": [
      "100%|██████████| 707/707 [00:03<00:00, 184.55it/s]\n",
      "100%|██████████| 79/79 [00:00<00:00, 572.22it/s]\n"
     ]
    },
    {
     "name": "stdout",
     "output_type": "stream",
     "text": [
      "Epoch 66/100, Train Loss: 0.4760, Val Loss: 0.7480\n",
      "RMSE Train: 0.6899, RMSE Val: 0.8649\n",
      "Current learning rate:  0.0003\n"
     ]
    },
    {
     "name": "stderr",
     "output_type": "stream",
     "text": [
      "100%|██████████| 707/707 [00:03<00:00, 185.84it/s]\n",
      "100%|██████████| 79/79 [00:00<00:00, 567.01it/s]\n"
     ]
    },
    {
     "name": "stdout",
     "output_type": "stream",
     "text": [
      "Epoch 67/100, Train Loss: 0.4728, Val Loss: 0.7470\n",
      "RMSE Train: 0.6876, RMSE Val: 0.8643\n",
      "Current learning rate:  0.0003\n"
     ]
    },
    {
     "name": "stderr",
     "output_type": "stream",
     "text": [
      "100%|██████████| 707/707 [00:03<00:00, 183.72it/s]\n",
      "100%|██████████| 79/79 [00:00<00:00, 570.23it/s]\n"
     ]
    },
    {
     "name": "stdout",
     "output_type": "stream",
     "text": [
      "Epoch 68/100, Train Loss: 0.4697, Val Loss: 0.7462\n",
      "RMSE Train: 0.6854, RMSE Val: 0.8638\n",
      "Current learning rate:  0.0003\n"
     ]
    },
    {
     "name": "stderr",
     "output_type": "stream",
     "text": [
      "100%|██████████| 707/707 [00:03<00:00, 189.31it/s]\n",
      "100%|██████████| 79/79 [00:00<00:00, 571.72it/s]\n"
     ]
    },
    {
     "name": "stdout",
     "output_type": "stream",
     "text": [
      "Epoch 69/100, Train Loss: 0.4668, Val Loss: 0.7453\n",
      "RMSE Train: 0.6833, RMSE Val: 0.8633\n",
      "Current learning rate:  0.0003\n"
     ]
    },
    {
     "name": "stderr",
     "output_type": "stream",
     "text": [
      "100%|██████████| 707/707 [00:03<00:00, 188.94it/s]\n",
      "100%|██████████| 79/79 [00:00<00:00, 576.91it/s]\n"
     ]
    },
    {
     "name": "stdout",
     "output_type": "stream",
     "text": [
      "Epoch 70/100, Train Loss: 0.4639, Val Loss: 0.7445\n",
      "RMSE Train: 0.6811, RMSE Val: 0.8628\n",
      "Current learning rate:  0.0003\n"
     ]
    },
    {
     "name": "stderr",
     "output_type": "stream",
     "text": [
      "100%|██████████| 707/707 [00:03<00:00, 187.84it/s]\n",
      "100%|██████████| 79/79 [00:00<00:00, 575.17it/s]\n"
     ]
    },
    {
     "name": "stdout",
     "output_type": "stream",
     "text": [
      "Epoch 71/100, Train Loss: 0.4612, Val Loss: 0.7442\n",
      "RMSE Train: 0.6791, RMSE Val: 0.8627\n",
      "Current learning rate:  0.0003\n"
     ]
    },
    {
     "name": "stderr",
     "output_type": "stream",
     "text": [
      "100%|██████████| 707/707 [00:03<00:00, 188.17it/s]\n",
      "100%|██████████| 79/79 [00:00<00:00, 572.71it/s]\n"
     ]
    },
    {
     "name": "stdout",
     "output_type": "stream",
     "text": [
      "Epoch 72/100, Train Loss: 0.4585, Val Loss: 0.7429\n",
      "RMSE Train: 0.6772, RMSE Val: 0.8619\n",
      "Current learning rate:  0.0003\n"
     ]
    },
    {
     "name": "stderr",
     "output_type": "stream",
     "text": [
      "100%|██████████| 707/707 [00:03<00:00, 188.01it/s]\n",
      "100%|██████████| 79/79 [00:00<00:00, 572.25it/s]\n"
     ]
    },
    {
     "name": "stdout",
     "output_type": "stream",
     "text": [
      "Epoch 73/100, Train Loss: 0.4559, Val Loss: 0.7424\n",
      "RMSE Train: 0.6752, RMSE Val: 0.8616\n",
      "Current learning rate:  0.0003\n"
     ]
    },
    {
     "name": "stderr",
     "output_type": "stream",
     "text": [
      "100%|██████████| 707/707 [00:03<00:00, 186.65it/s]\n",
      "100%|██████████| 79/79 [00:00<00:00, 579.82it/s]\n"
     ]
    },
    {
     "name": "stdout",
     "output_type": "stream",
     "text": [
      "Epoch 74/100, Train Loss: 0.4534, Val Loss: 0.7422\n",
      "RMSE Train: 0.6734, RMSE Val: 0.8615\n",
      "Current learning rate:  0.0003\n"
     ]
    },
    {
     "name": "stderr",
     "output_type": "stream",
     "text": [
      "100%|██████████| 707/707 [00:03<00:00, 189.03it/s]\n",
      "100%|██████████| 79/79 [00:00<00:00, 566.75it/s]\n"
     ]
    },
    {
     "name": "stdout",
     "output_type": "stream",
     "text": [
      "Epoch 75/100, Train Loss: 0.4510, Val Loss: 0.7415\n",
      "RMSE Train: 0.6715, RMSE Val: 0.8611\n",
      "Current learning rate:  0.0003\n"
     ]
    },
    {
     "name": "stderr",
     "output_type": "stream",
     "text": [
      "100%|██████████| 707/707 [00:03<00:00, 188.86it/s]\n",
      "100%|██████████| 79/79 [00:00<00:00, 579.31it/s]\n"
     ]
    },
    {
     "name": "stdout",
     "output_type": "stream",
     "text": [
      "Epoch 76/100, Train Loss: 0.4486, Val Loss: 0.7412\n",
      "RMSE Train: 0.6698, RMSE Val: 0.8609\n",
      "Current learning rate:  0.0003\n"
     ]
    },
    {
     "name": "stderr",
     "output_type": "stream",
     "text": [
      "100%|██████████| 707/707 [00:03<00:00, 190.67it/s]\n",
      "100%|██████████| 79/79 [00:00<00:00, 579.31it/s]\n"
     ]
    },
    {
     "name": "stdout",
     "output_type": "stream",
     "text": [
      "Epoch 77/100, Train Loss: 0.4463, Val Loss: 0.7410\n",
      "RMSE Train: 0.6681, RMSE Val: 0.8608\n",
      "Current learning rate:  0.0003\n"
     ]
    },
    {
     "name": "stderr",
     "output_type": "stream",
     "text": [
      "100%|██████████| 707/707 [00:03<00:00, 188.22it/s]\n",
      "100%|██████████| 79/79 [00:00<00:00, 576.63it/s]\n"
     ]
    },
    {
     "name": "stdout",
     "output_type": "stream",
     "text": [
      "Epoch 78/100, Train Loss: 0.4441, Val Loss: 0.7401\n",
      "RMSE Train: 0.6664, RMSE Val: 0.8603\n",
      "Current learning rate:  0.0003\n"
     ]
    },
    {
     "name": "stderr",
     "output_type": "stream",
     "text": [
      "100%|██████████| 707/707 [00:03<00:00, 192.53it/s]\n",
      "100%|██████████| 79/79 [00:00<00:00, 581.48it/s]\n"
     ]
    },
    {
     "name": "stdout",
     "output_type": "stream",
     "text": [
      "Epoch 79/100, Train Loss: 0.4419, Val Loss: 0.7402\n",
      "RMSE Train: 0.6648, RMSE Val: 0.8603\n",
      "Current learning rate:  0.0003\n"
     ]
    },
    {
     "name": "stderr",
     "output_type": "stream",
     "text": [
      "100%|██████████| 707/707 [00:03<00:00, 189.88it/s]\n",
      "100%|██████████| 79/79 [00:00<00:00, 588.08it/s]\n"
     ]
    },
    {
     "name": "stdout",
     "output_type": "stream",
     "text": [
      "Epoch 80/100, Train Loss: 0.4399, Val Loss: 0.7395\n",
      "RMSE Train: 0.6632, RMSE Val: 0.8599\n",
      "Current learning rate:  0.0003\n"
     ]
    },
    {
     "name": "stderr",
     "output_type": "stream",
     "text": [
      "100%|██████████| 707/707 [00:03<00:00, 182.47it/s]\n",
      "100%|██████████| 79/79 [00:00<00:00, 463.74it/s]\n"
     ]
    },
    {
     "name": "stdout",
     "output_type": "stream",
     "text": [
      "Epoch 81/100, Train Loss: 0.4378, Val Loss: 0.7393\n",
      "RMSE Train: 0.6617, RMSE Val: 0.8598\n",
      "Current learning rate:  0.0003\n"
     ]
    },
    {
     "name": "stderr",
     "output_type": "stream",
     "text": [
      "100%|██████████| 707/707 [00:03<00:00, 179.70it/s]\n",
      "100%|██████████| 79/79 [00:00<00:00, 407.46it/s]\n"
     ]
    },
    {
     "name": "stdout",
     "output_type": "stream",
     "text": [
      "Epoch 82/100, Train Loss: 0.4359, Val Loss: 0.7393\n",
      "RMSE Train: 0.6602, RMSE Val: 0.8598\n",
      "Current learning rate:  0.0003\n"
     ]
    },
    {
     "name": "stderr",
     "output_type": "stream",
     "text": [
      "100%|██████████| 707/707 [00:03<00:00, 181.92it/s]\n",
      "100%|██████████| 79/79 [00:00<00:00, 577.27it/s]\n"
     ]
    },
    {
     "name": "stdout",
     "output_type": "stream",
     "text": [
      "Epoch 83/100, Train Loss: 0.4339, Val Loss: 0.7394\n",
      "RMSE Train: 0.6587, RMSE Val: 0.8599\n",
      "Current learning rate:  0.0003\n"
     ]
    },
    {
     "name": "stderr",
     "output_type": "stream",
     "text": [
      "100%|██████████| 707/707 [00:03<00:00, 182.15it/s]\n",
      "100%|██████████| 79/79 [00:00<00:00, 582.28it/s]\n"
     ]
    },
    {
     "name": "stdout",
     "output_type": "stream",
     "text": [
      "Epoch 84/100, Train Loss: 0.4320, Val Loss: 0.7388\n",
      "RMSE Train: 0.6573, RMSE Val: 0.8595\n",
      "Current learning rate:  0.0003\n"
     ]
    },
    {
     "name": "stderr",
     "output_type": "stream",
     "text": [
      "100%|██████████| 707/707 [00:03<00:00, 188.03it/s]\n",
      "100%|██████████| 79/79 [00:00<00:00, 564.09it/s]\n"
     ]
    },
    {
     "name": "stdout",
     "output_type": "stream",
     "text": [
      "Epoch 85/100, Train Loss: 0.4302, Val Loss: 0.7387\n",
      "RMSE Train: 0.6559, RMSE Val: 0.8595\n",
      "Current learning rate:  0.0003\n"
     ]
    },
    {
     "name": "stderr",
     "output_type": "stream",
     "text": [
      "100%|██████████| 707/707 [00:03<00:00, 186.76it/s]\n",
      "100%|██████████| 79/79 [00:00<00:00, 578.20it/s]\n"
     ]
    },
    {
     "name": "stdout",
     "output_type": "stream",
     "text": [
      "Epoch 86/100, Train Loss: 0.4285, Val Loss: 0.7386\n",
      "RMSE Train: 0.6546, RMSE Val: 0.8594\n",
      "Current learning rate:  0.0003\n"
     ]
    },
    {
     "name": "stderr",
     "output_type": "stream",
     "text": [
      "100%|██████████| 707/707 [00:03<00:00, 185.60it/s]\n",
      "100%|██████████| 79/79 [00:00<00:00, 587.57it/s]\n"
     ]
    },
    {
     "name": "stdout",
     "output_type": "stream",
     "text": [
      "Epoch 87/100, Train Loss: 0.4267, Val Loss: 0.7384\n",
      "RMSE Train: 0.6533, RMSE Val: 0.8593\n",
      "Current learning rate:  0.0003\n"
     ]
    },
    {
     "name": "stderr",
     "output_type": "stream",
     "text": [
      "100%|██████████| 707/707 [00:03<00:00, 202.88it/s]\n",
      "100%|██████████| 79/79 [00:00<00:00, 595.41it/s]\n"
     ]
    },
    {
     "name": "stdout",
     "output_type": "stream",
     "text": [
      "Epoch 88/100, Train Loss: 0.4251, Val Loss: 0.7389\n",
      "RMSE Train: 0.6520, RMSE Val: 0.8596\n",
      "Current learning rate:  0.0003\n"
     ]
    },
    {
     "name": "stderr",
     "output_type": "stream",
     "text": [
      "100%|██████████| 707/707 [00:03<00:00, 190.19it/s]\n",
      "100%|██████████| 79/79 [00:00<00:00, 579.70it/s]\n"
     ]
    },
    {
     "name": "stdout",
     "output_type": "stream",
     "text": [
      "Epoch 89/100, Train Loss: 0.4234, Val Loss: 0.7386\n",
      "RMSE Train: 0.6507, RMSE Val: 0.8594\n",
      "Current learning rate:  0.0003\n"
     ]
    },
    {
     "name": "stderr",
     "output_type": "stream",
     "text": [
      "100%|██████████| 707/707 [00:03<00:00, 192.44it/s]\n",
      "100%|██████████| 79/79 [00:00<00:00, 579.98it/s]\n"
     ]
    },
    {
     "name": "stdout",
     "output_type": "stream",
     "text": [
      "Epoch 90/100, Train Loss: 0.4219, Val Loss: 0.7386\n",
      "RMSE Train: 0.6495, RMSE Val: 0.8594\n",
      "Current learning rate:  0.00015\n"
     ]
    },
    {
     "name": "stderr",
     "output_type": "stream",
     "text": [
      "100%|██████████| 707/707 [00:03<00:00, 188.37it/s]\n",
      "100%|██████████| 79/79 [00:00<00:00, 497.27it/s]\n"
     ]
    },
    {
     "name": "stdout",
     "output_type": "stream",
     "text": [
      "Epoch 91/100, Train Loss: 0.4182, Val Loss: 0.7385\n",
      "RMSE Train: 0.6467, RMSE Val: 0.8593\n",
      "Current learning rate:  0.00015\n"
     ]
    },
    {
     "name": "stderr",
     "output_type": "stream",
     "text": [
      "100%|██████████| 707/707 [00:03<00:00, 181.81it/s]\n",
      "100%|██████████| 79/79 [00:00<00:00, 581.24it/s]\n"
     ]
    },
    {
     "name": "stdout",
     "output_type": "stream",
     "text": [
      "Epoch 92/100, Train Loss: 0.4175, Val Loss: 0.7385\n",
      "RMSE Train: 0.6461, RMSE Val: 0.8593\n",
      "Current learning rate:  0.00015\n"
     ]
    },
    {
     "name": "stderr",
     "output_type": "stream",
     "text": [
      "100%|██████████| 707/707 [00:03<00:00, 187.22it/s]\n",
      "100%|██████████| 79/79 [00:00<00:00, 569.66it/s]\n"
     ]
    },
    {
     "name": "stdout",
     "output_type": "stream",
     "text": [
      "Epoch 93/100, Train Loss: 0.4167, Val Loss: 0.7386\n",
      "RMSE Train: 0.6455, RMSE Val: 0.8594\n",
      "Current learning rate:  7.5e-05\n"
     ]
    },
    {
     "name": "stderr",
     "output_type": "stream",
     "text": [
      "100%|██████████| 707/707 [00:03<00:00, 188.85it/s]\n",
      "100%|██████████| 79/79 [00:00<00:00, 588.60it/s]\n"
     ]
    },
    {
     "name": "stdout",
     "output_type": "stream",
     "text": [
      "Epoch 94/100, Train Loss: 0.4149, Val Loss: 0.7386\n",
      "RMSE Train: 0.6441, RMSE Val: 0.8594\n",
      "Current learning rate:  7.5e-05\n"
     ]
    },
    {
     "name": "stderr",
     "output_type": "stream",
     "text": [
      "100%|██████████| 707/707 [00:03<00:00, 189.50it/s]\n",
      "100%|██████████| 79/79 [00:00<00:00, 580.77it/s]\n"
     ]
    },
    {
     "name": "stdout",
     "output_type": "stream",
     "text": [
      "Epoch 95/100, Train Loss: 0.4145, Val Loss: 0.7385\n",
      "RMSE Train: 0.6438, RMSE Val: 0.8594\n",
      "Current learning rate:  7.5e-05\n"
     ]
    },
    {
     "name": "stderr",
     "output_type": "stream",
     "text": [
      "100%|██████████| 707/707 [00:03<00:00, 189.92it/s]\n",
      "100%|██████████| 79/79 [00:00<00:00, 585.62it/s]\n"
     ]
    },
    {
     "name": "stdout",
     "output_type": "stream",
     "text": [
      "Epoch 96/100, Train Loss: 0.4142, Val Loss: 0.7386\n",
      "RMSE Train: 0.6436, RMSE Val: 0.8594\n",
      "Current learning rate:  3.75e-05\n"
     ]
    },
    {
     "name": "stderr",
     "output_type": "stream",
     "text": [
      "100%|██████████| 707/707 [00:03<00:00, 189.81it/s]\n",
      "100%|██████████| 79/79 [00:00<00:00, 553.02it/s]\n"
     ]
    },
    {
     "name": "stdout",
     "output_type": "stream",
     "text": [
      "Epoch 97/100, Train Loss: 0.4133, Val Loss: 0.7386\n",
      "RMSE Train: 0.6429, RMSE Val: 0.8594\n",
      "Current learning rate:  3.75e-05\n"
     ]
    },
    {
     "name": "stderr",
     "output_type": "stream",
     "text": [
      "100%|██████████| 707/707 [00:03<00:00, 188.32it/s]\n",
      "100%|██████████| 79/79 [00:00<00:00, 590.69it/s]\n"
     ]
    },
    {
     "name": "stdout",
     "output_type": "stream",
     "text": [
      "Epoch 98/100, Train Loss: 0.4131, Val Loss: 0.7386\n",
      "RMSE Train: 0.6427, RMSE Val: 0.8594\n",
      "Current learning rate:  3.75e-05\n"
     ]
    },
    {
     "name": "stderr",
     "output_type": "stream",
     "text": [
      "100%|██████████| 707/707 [00:03<00:00, 188.84it/s]\n",
      "100%|██████████| 79/79 [00:00<00:00, 576.07it/s]\n"
     ]
    },
    {
     "name": "stdout",
     "output_type": "stream",
     "text": [
      "Epoch 99/100, Train Loss: 0.4129, Val Loss: 0.7386\n",
      "RMSE Train: 0.6426, RMSE Val: 0.8594\n",
      "Current learning rate:  1.875e-05\n"
     ]
    },
    {
     "name": "stderr",
     "output_type": "stream",
     "text": [
      "100%|██████████| 707/707 [00:03<00:00, 188.14it/s]\n",
      "100%|██████████| 79/79 [00:00<00:00, 584.27it/s]\n",
      "/var/folders/3w/x7g6gh3s1y1gry1przjtc12c0000gn/T/ipykernel_63475/2555662092.py:80: FutureWarning: You are using `torch.load` with `weights_only=False` (the current default value), which uses the default pickle module implicitly. It is possible to construct malicious pickle data which will execute arbitrary code during unpickling (See https://github.com/pytorch/pytorch/blob/main/SECURITY.md#untrusted-models for more details). In a future release, the default value for `weights_only` will be flipped to `True`. This limits the functions that could be executed during unpickling. Arbitrary objects will no longer be allowed to be loaded via this mode unless they are explicitly allowlisted by the user via `torch.serialization.add_safe_globals`. We recommend you start setting `weights_only=True` for any use case where you don't have full control of the loaded file. Please open an issue on GitHub for any issues related to this experimental feature.\n",
      "  model.load_state_dict(torch.load(\"best_model.pt\"))\n"
     ]
    },
    {
     "name": "stdout",
     "output_type": "stream",
     "text": [
      "Epoch 100/100, Train Loss: 0.4124, Val Loss: 0.7386\n",
      "RMSE Train: 0.6422, RMSE Val: 0.8594\n",
      "Created submission.csv\n"
     ]
    }
   ],
   "source": [
    "model = MatrixFactorization(n_users, n_books, EMBED_DIM).to(DEVICE)\n",
    "criterion = nn.MSELoss()\n",
    "# add learning rate scheduler\n",
    "\n",
    "\n",
    "optimizer = optim.Adam(model.parameters(), lr=LR)\n",
    "\n",
    "total_steps = len(train_loader) * EPOCHS\n",
    "warmup_steps = int(total_steps * 0.1)\n",
    "\n",
    "# scheduler = optim.lr_scheduler.CosineAnnealingLR(\n",
    "#     optimizer, T_max=total_steps, eta_min=1e-6, num_warmup_steps=warmup_steps\n",
    "# )\n",
    "\n",
    "# scheduler = get_cosine_schedule_with_warmup(\n",
    "#     optimizer,\n",
    "#     num_warmup_steps=warmup_steps,\n",
    "#     num_training_steps=total_steps,\n",
    "# )\n",
    "\n",
    "scheduler = optim.lr_scheduler.ReduceLROnPlateau(\n",
    "    optimizer, mode=\"min\", factor=0.5, patience=2, verbose=True\n",
    ")\n",
    "\n",
    "\n",
    "regul_lambda = 1e-1\n",
    "\n",
    "best_val_loss = float(\"inf\")\n",
    "for epoch in range(EPOCHS):\n",
    "    model.train()\n",
    "    total_train_loss = 0\n",
    "    for param_group in optimizer.param_groups:\n",
    "        print(\"Current learning rate: \", param_group[\"lr\"])\n",
    "    for users, items, ratings in tqdm(train_loader, total=len(train_loader)):\n",
    "        # print the learning rate\n",
    "        users = users.to(DEVICE)\n",
    "        items = items.to(DEVICE)\n",
    "        ratings = ratings.to(DEVICE)\n",
    "\n",
    "        optimizer.zero_grad()\n",
    "        preds = model(users, items)\n",
    "        loss = loss_fn(preds, ratings, model, regul_lambda)\n",
    "        loss.backward()\n",
    "        optimizer.step()\n",
    "\n",
    "        total_train_loss += loss.item()\n",
    "\n",
    "    avg_train_loss = total_train_loss / len(train_loader)\n",
    "\n",
    "    # Validation\n",
    "    model.eval()\n",
    "    total_val_loss = 0\n",
    "    with torch.no_grad():\n",
    "        for users, items, ratings in tqdm(val_loader, total=len(val_loader)):\n",
    "            users = users.to(DEVICE)\n",
    "            items = items.to(DEVICE)\n",
    "            ratings = ratings.to(DEVICE)\n",
    "\n",
    "            preds = model(users, items)\n",
    "            loss = criterion(preds, ratings)\n",
    "            total_val_loss += loss.item()\n",
    "    avg_val_loss = total_val_loss / len(val_loader)\n",
    "\n",
    "    scheduler.step(avg_val_loss)\n",
    "\n",
    "    print(\n",
    "        f\"Epoch {epoch+1}/{EPOCHS}, Train Loss: {avg_train_loss:.4f}, Val Loss: {avg_val_loss:.4f}\"\n",
    "    )\n",
    "    # print rsme for both train and val\n",
    "    print(\n",
    "        f\"RMSE Train: {np.sqrt(avg_train_loss):.4f}, RMSE Val: {np.sqrt(avg_val_loss):.4f}\"\n",
    "    )\n",
    "\n",
    "    # Save best model\n",
    "    if avg_val_loss < best_val_loss:\n",
    "        best_val_loss = avg_val_loss\n",
    "        torch.save(model.state_dict(), \"best_model.pt\")\n",
    "\n",
    "# Load the best model before inference\n",
    "model.load_state_dict(torch.load(\"best_model.pt\"))\n",
    "\n",
    "# -----------------------\n",
    "# Test Prediction\n",
    "# -----------------------\n",
    "test_df = pd.read_csv(\"../data/test.csv\")\n",
    "\n",
    "# Map test user/book to indices\n",
    "test_df[\"user_idx\"] = test_df[\"user_id\"].map(user2idx).fillna(0).astype(int)\n",
    "test_df[\"book_idx\"] = test_df[\"book_id\"].map(book2idx).fillna(0).astype(int)\n",
    "\n",
    "model.eval()\n",
    "test_users = torch.tensor(test_df[\"user_idx\"].values, dtype=torch.long).to(DEVICE)\n",
    "test_items = torch.tensor(test_df[\"book_idx\"].values, dtype=torch.long).to(DEVICE)\n",
    "with torch.no_grad():\n",
    "    test_preds = model(test_users, test_items).cpu().numpy()\n",
    "\n",
    "test_preds = np.clip(test_preds, 1.0, 5.0)\n",
    "\n",
    "submission = pd.DataFrame({\"id\": test_df[\"id\"], \"rating\": test_preds})\n",
    "submission.to_csv(\"submission.csv\", index=False)\n",
    "print(\"Created submission.csv\")"
   ]
  },
  {
   "cell_type": "code",
   "execution_count": 8,
   "metadata": {},
   "outputs": [
    {
     "name": "stdout",
     "output_type": "stream",
     "text": [
      "Created submission.csv\n"
     ]
    },
    {
     "name": "stderr",
     "output_type": "stream",
     "text": [
      "/var/folders/3w/x7g6gh3s1y1gry1przjtc12c0000gn/T/ipykernel_63475/3997065446.py:2: FutureWarning: You are using `torch.load` with `weights_only=False` (the current default value), which uses the default pickle module implicitly. It is possible to construct malicious pickle data which will execute arbitrary code during unpickling (See https://github.com/pytorch/pytorch/blob/main/SECURITY.md#untrusted-models for more details). In a future release, the default value for `weights_only` will be flipped to `True`. This limits the functions that could be executed during unpickling. Arbitrary objects will no longer be allowed to be loaded via this mode unless they are explicitly allowlisted by the user via `torch.serialization.add_safe_globals`. We recommend you start setting `weights_only=True` for any use case where you don't have full control of the loaded file. Please open an issue on GitHub for any issues related to this experimental feature.\n",
      "  model.load_state_dict(torch.load(\"best_model.pt\"))\n"
     ]
    }
   ],
   "source": [
    "# Load the best model before inference\n",
    "model.load_state_dict(torch.load(\"best_model.pt\"))\n",
    "\n",
    "# -----------------------\n",
    "# Test Prediction\n",
    "# -----------------------\n",
    "test_df = pd.read_csv(\"../data/test.csv\")\n",
    "\n",
    "# Map test user/book to indices\n",
    "test_df[\"user_idx\"] = test_df[\"user_id\"].map(user2idx).fillna(0).astype(int)\n",
    "test_df[\"book_idx\"] = test_df[\"book_id\"].map(book2idx).fillna(0).astype(int)\n",
    "\n",
    "model.eval()\n",
    "test_users = torch.tensor(test_df[\"user_idx\"].values, dtype=torch.long).to(DEVICE)\n",
    "test_items = torch.tensor(test_df[\"book_idx\"].values, dtype=torch.long).to(DEVICE)\n",
    "with torch.no_grad():\n",
    "    test_preds = model(test_users, test_items).cpu().numpy()\n",
    "\n",
    "test_preds = np.clip(test_preds, 1.0, 5.0)\n",
    "\n",
    "submission = pd.DataFrame({\"id\": test_df[\"id\"], \"rating\": test_preds})\n",
    "submission.to_csv(\"submission.csv\", index=False)\n",
    "print(\"Created submission.csv\")"
   ]
  },
  {
   "cell_type": "code",
   "execution_count": 9,
   "metadata": {},
   "outputs": [],
   "source": [
    "with torch.no_grad():\n",
    "    test_preds = model(test_users, test_items).cpu().numpy()"
   ]
  },
  {
   "cell_type": "code",
   "execution_count": 10,
   "metadata": {},
   "outputs": [
    {
     "name": "stderr",
     "output_type": "stream",
     "text": [
      "  0%|          | 0/79 [00:00<?, ?it/s]"
     ]
    },
    {
     "name": "stdout",
     "output_type": "stream",
     "text": [
      "tensor([2.0543, 2.9551, 3.4903, 1.8483, 1.6360, 2.0643, 3.8210, 2.0165, 1.7724,\n",
      "        3.1837, 4.2414, 2.0405, 2.1744, 1.4613, 1.6319, 3.5297, 3.4007, 2.8954,\n",
      "        2.4866, 1.6898, 2.1585, 1.4402, 2.7205, 3.5234, 1.8596, 2.6355, 3.4895,\n",
      "        2.5656, 2.4922, 1.7234, 2.2424, 2.1147, 2.1040, 2.9382, 2.5620, 1.5521,\n",
      "        2.5602, 2.9352, 1.8838, 2.5445, 1.4649, 2.0656, 3.4143, 3.7296, 3.2071,\n",
      "        2.3100, 2.1794, 2.3917, 1.7804, 2.2318, 3.0523, 2.0923, 2.0183, 2.4946,\n",
      "        4.4212, 1.3076, 3.7770, 3.3789, 3.2016, 1.7819, 1.9801, 2.2338, 2.0845,\n",
      "        1.9194, 1.1660, 3.2080, 1.3164, 2.1437, 2.9984, 2.4302, 2.2948, 1.7942,\n",
      "        2.5761, 2.5649, 3.4949, 1.6488, 2.9917, 1.7114, 1.4886, 1.5252, 3.1991,\n",
      "        2.8141, 1.5899, 2.7818, 1.8650, 3.4227, 1.6317, 3.8404, 1.7439, 2.5098,\n",
      "        1.0622, 2.1018, 2.4484, 3.5102, 1.8533, 1.1975, 2.3893, 2.1114, 1.7501,\n",
      "        3.1841, 1.2970, 1.5769, 3.2395, 2.8440, 1.4566, 2.2203, 2.5210, 2.5208,\n",
      "        2.0858, 0.7063, 3.4449, 0.9264, 2.6962, 1.9983, 1.9708, 1.4672, 2.5894,\n",
      "        1.8955, 1.6147, 3.3377, 1.6658, 2.7175, 1.4517, 1.2844, 2.2745, 1.0414,\n",
      "        2.0499, 1.8666], device='mps:0')\n"
     ]
    },
    {
     "name": "stderr",
     "output_type": "stream",
     "text": [
      "\n"
     ]
    }
   ],
   "source": [
    "# Validation\n",
    "model.eval()\n",
    "total_val_loss = 0\n",
    "with torch.no_grad():\n",
    "    for users, items, ratings in tqdm(val_loader, total=len(val_loader)):\n",
    "        users = users.to(DEVICE)\n",
    "        items = items.to(DEVICE)\n",
    "        ratings = ratings.to(DEVICE)\n",
    "\n",
    "        preds = model(users, items)\n",
    "        print(preds)\n",
    "        break"
   ]
  },
  {
   "cell_type": "code",
   "execution_count": 11,
   "metadata": {},
   "outputs": [
    {
     "name": "stderr",
     "output_type": "stream",
     "text": [
      "/var/folders/3w/x7g6gh3s1y1gry1przjtc12c0000gn/T/ipykernel_63475/1940456524.py:5: FutureWarning: You are using `torch.load` with `weights_only=False` (the current default value), which uses the default pickle module implicitly. It is possible to construct malicious pickle data which will execute arbitrary code during unpickling (See https://github.com/pytorch/pytorch/blob/main/SECURITY.md#untrusted-models for more details). In a future release, the default value for `weights_only` will be flipped to `True`. This limits the functions that could be executed during unpickling. Arbitrary objects will no longer be allowed to be loaded via this mode unless they are explicitly allowlisted by the user via `torch.serialization.add_safe_globals`. We recommend you start setting `weights_only=True` for any use case where you don't have full control of the loaded file. Please open an issue on GitHub for any issues related to this experimental feature.\n",
      "  model.load_state_dict(torch.load(\"best_model.pt\"))\n"
     ]
    }
   ],
   "source": [
    "# initialize the model\n",
    "model = MatrixFactorization(n_users, n_books, EMBED_DIM).to(DEVICE)\n",
    "\n",
    "# load the model\n",
    "model.load_state_dict(torch.load(\"best_model.pt\"))\n",
    "\n",
    "# predict on test data\n",
    "test_df = pd.read_csv(\"../data/test.csv\")\n",
    "test_df[\"user_idx\"] = test_df[\"user_id\"].map(user2idx).fillna(0).astype(int)\n",
    "test_df[\"book_idx\"] = test_df[\"book_id\"].map(book2idx).fillna(0).astype(int)\n",
    "\n",
    "model.eval()\n",
    "test_users = torch.tensor(test_df[\"user_idx\"].values, dtype=torch.long).to(DEVICE)\n",
    "test_items = torch.tensor(test_df[\"book_idx\"].values, dtype=torch.long).to(DEVICE)\n",
    "\n",
    "with torch.no_grad():\n",
    "    test_preds = model(test_users, test_items).cpu().numpy()"
   ]
  },
  {
   "cell_type": "code",
   "execution_count": 12,
   "metadata": {},
   "outputs": [],
   "source": [
    "test_df[\"rating\"] = np.clip(test_preds, 1.0, 5.0)"
   ]
  },
  {
   "cell_type": "code",
   "execution_count": 13,
   "metadata": {},
   "outputs": [
    {
     "data": {
      "text/plain": [
       "<Axes: >"
      ]
     },
     "execution_count": 13,
     "metadata": {},
     "output_type": "execute_result"
    },
    {
     "data": {
      "image/png": "[encoded data removed]",
      "text/plain": [
       "<Figure size 640x480 with 1 Axes>"
      ]
     },
     "metadata": {},
     "output_type": "display_data"
    }
   ],
   "source": [
    "# get the user_ids from train set with less than 5 reviews\n",
    "user_counts = train_df[\"user_id\"].value_counts()\n",
    "users_with_less_than_5_reviews = user_counts[user_counts > 2].index\n",
    "\n",
    "# get the test_df rows with user_ids in users_with_less_than_5_reviews\n",
    "test_df_filtered = test_df[test_df[\"user_id\"].isin(users_with_less_than_5_reviews)]\n",
    "\n",
    "# plot the ratings on hist\n",
    "test_df_filtered[\"rating\"].hist()"
   ]
  }
 ],
 "metadata": {
  "kernelspec": {
   "display_name": "base",
   "language": "python",
   "name": "python3"
  },
  "language_info": {
   "codemirror_mode": {
    "name": "ipython",
    "version": 3
   },
   "file_extension": ".py",
   "mimetype": "text/x-python",
   "name": "python",
   "nbconvert_exporter": "python",
   "pygments_lexer": "ipython3",
   "version": "3.11.6"
  }
 },
 "nbformat": 4,
 "nbformat_minor": 2
}
