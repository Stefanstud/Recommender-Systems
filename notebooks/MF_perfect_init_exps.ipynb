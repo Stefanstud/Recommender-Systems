{
 "cells": [
  {
   "cell_type": "code",
   "execution_count": null,
   "metadata": {},
   "outputs": [
    {
     "name": "stdout",
     "output_type": "stream",
     "text": [
      "Using device: mps\n"
     ]
    }
   ],
   "source": [
    "import pandas as pd\n",
    "import numpy as np\n",
    "import torch\n",
    "import torch.nn as nn\n",
    "from torch.utils.data import Dataset, DataLoader\n",
    "import torch.optim as optim\n",
    "from sklearn.model_selection import StratifiedShuffleSplit\n",
    "from tqdm import tqdm\n",
    "\n",
    "# -----------------------\n",
    "# Hyperparameters\n",
    "# -----------------------\n",
    "EMBED_DIM = 64\n",
    "BATCH_SIZE = 8\n",
    "LR = 3e-4\n",
    "EPOCHS = 100\n",
    "REG_LAMBDA = 3e-2\n",
    "PATIENCE = 5  # Early stopping patience\n",
    "DEVICE = torch.device(\"mps\" if torch.backends.mps.is_available() else \"cpu\")\n",
    "print(f\"Using device: {DEVICE}\")\n",
    "\n",
    "# Set seeds for reproducibility\n",
    "SEED = 42\n",
    "np.random.seed(SEED)\n",
    "torch.manual_seed(SEED)\n",
    "if DEVICE.type == \"cuda\":\n",
    "    torch.cuda.manual_seed(SEED)\n",
    "    torch.cuda.manual_seed_all(SEED)\n",
    "torch.backends.cudnn.deterministic = True\n",
    "\n",
    "# -----------------------\n",
    "# Data Loading\n",
    "# -----------------------\n",
    "train_df = pd.read_csv(\"../data/train.csv\")\n",
    "\n",
    "unique_users = train_df.user_id.unique()\n",
    "unique_books = train_df.book_id.unique()\n",
    "\n",
    "user2idx = {u: i for i, u in enumerate(unique_users)}\n",
    "book2idx = {b: i for i, b in enumerate(unique_books)}\n",
    "\n",
    "train_df[\"user_idx\"] = train_df[\"user_id\"].map(user2idx)\n",
    "train_df[\"book_idx\"] = train_df[\"book_id\"].map(book2idx)\n",
    "\n",
    "n_users = len(user2idx)\n",
    "n_books = len(book2idx)\n",
    "\n",
    "y = train_df[\"rating\"].values\n",
    "splitter = StratifiedShuffleSplit(n_splits=1, test_size=0.1, random_state=SEED)\n",
    "train_idx, val_idx = next(splitter.split(train_df, y))\n",
    "\n",
    "train_data = train_df.iloc[train_idx].reset_index(drop=True)\n",
    "val_data = train_df.iloc[val_idx].reset_index(drop=True)\n",
    "\n",
    "\n",
    "class RatingsDataset(Dataset):\n",
    "    def __init__(self, df):\n",
    "        self.users = df[\"user_idx\"].values\n",
    "        self.books = df[\"book_idx\"].values\n",
    "        self.ratings = df[\"rating\"].values.astype(np.float32)\n",
    "\n",
    "    def __len__(self):\n",
    "        return len(self.ratings)\n",
    "\n",
    "    def __getitem__(self, idx):\n",
    "        return (\n",
    "            torch.tensor(self.users[idx], dtype=torch.long),\n",
    "            torch.tensor(self.books[idx], dtype=torch.long),\n",
    "            torch.tensor(self.ratings[idx], dtype=torch.float32),\n",
    "        )\n",
    "\n",
    "\n",
    "train_dataset = RatingsDataset(train_data)\n",
    "val_dataset = RatingsDataset(val_data)\n",
    "\n",
    "train_loader = DataLoader(\n",
    "    train_dataset, batch_size=BATCH_SIZE, shuffle=True, num_workers=0\n",
    ")\n",
    "val_loader = DataLoader(\n",
    "    val_dataset, batch_size=BATCH_SIZE, shuffle=False, num_workers=0\n",
    ")\n",
    "\n",
    "# -----------------------\n",
    "# Fixed Offset based on User Counts\n",
    "# -----------------------\n",
    "user_counts = (\n",
    "    train_data.groupby(\"user_idx\").size().reindex(range(n_users), fill_value=0).values\n",
    ")\n",
    "max_count = user_counts.max()"
   ]
  },
  {
   "cell_type": "code",
   "execution_count": 2,
   "metadata": {},
   "outputs": [],
   "source": [
    "fallback_enabled = True\n",
    "user_id_counts = train_data.groupby(\"user_id\")[\"user_id\"].transform(\"size\")\n",
    "count2mean = train_data.groupby(user_id_counts)[\"rating\"].mean()\n",
    "count2mean_dict = count2mean.to_dict()\n",
    "\n",
    "offset_high = 3.95\n",
    "offset_low = 2.10\n",
    "\n",
    "N = 5\n",
    "half_window = (N - 1) // 2\n",
    "\n",
    "\n",
    "# We can use a simple weighting scheme. For example, weights that decrease linearly with distance from c:\n",
    "# weight(distance) = 1 / (1 + distance)\n",
    "# Alternatively, a Gaussian kernel could be used. Here we use a simple inverse distance approach.\n",
    "def weight_func(dist):\n",
    "    return 1.0 / (1.0 + dist)\n",
    "\n",
    "\n",
    "offsets = np.zeros_like(user_counts, dtype=np.float32)\n",
    "for i, c in enumerate(user_counts):\n",
    "    if c < 3:\n",
    "        # If user has less than 3 reviews, use exact mean for that user\n",
    "        offsets[i] = count2mean_dict.get(c, 3.95)\n",
    "        continue\n",
    "    # Gather means from [c - half_window, c + half_window]\n",
    "    start = max(c - half_window, 1)\n",
    "    end = c + half_window\n",
    "\n",
    "    sum_weighted = 0.0\n",
    "    sum_weights = 0.0\n",
    "\n",
    "    for cc in range(start, end + 1):\n",
    "        if cc in count2mean_dict:\n",
    "            dist = abs(cc - c)\n",
    "            w = weight_func(dist)\n",
    "            sum_weighted += count2mean_dict[cc] * w\n",
    "            sum_weights += w\n",
    "\n",
    "    if sum_weights > 0:\n",
    "        # Compute the smoothed mean\n",
    "        mean_for_c = sum_weighted / sum_weights\n",
    "        offsets[i] = mean_for_c\n",
    "    else:\n",
    "        # Fallback to old interpolation if we cannot find any counts in the window\n",
    "        if fallback_enabled:\n",
    "            f_u = np.log1p(c) / (np.log1p(max_count) if max_count > 0 else 1.0)\n",
    "            offsets[i] = offset_high + (offset_low - offset_high) * f_u\n",
    "        else:\n",
    "            # If no fallback, just use global_mean as baseline offset (0)\n",
    "            offsets[i] = 0.0\n",
    "\n",
    "offsets_tensor = torch.tensor(offsets, dtype=torch.float32, device=DEVICE)"
   ]
  },
  {
   "cell_type": "code",
   "execution_count": 4,
   "metadata": {},
   "outputs": [
    {
     "name": "stderr",
     "output_type": "stream",
     "text": [
      "/Users/saidgurbuz/miniconda3/lib/python3.11/site-packages/torch/optim/lr_scheduler.py:60: UserWarning: The verbose parameter is deprecated. Please use get_last_lr() to access the learning rate.\n",
      "  warnings.warn(\n"
     ]
    },
    {
     "name": "stdout",
     "output_type": "stream",
     "text": [
      "Current learning rate:  0.0003\n"
     ]
    },
    {
     "name": "stderr",
     "output_type": "stream",
     "text": [
      "100%|██████████| 11309/11309 [00:58<00:00, 192.81it/s]\n"
     ]
    },
    {
     "name": "stdout",
     "output_type": "stream",
     "text": [
      "Epoch 1/100, Train Loss: 0.7846, Val Loss: 0.7936\n",
      "RMSE Train: 0.8858, RMSE Val: 0.8908\n",
      "Current learning rate:  0.0003\n"
     ]
    },
    {
     "name": "stderr",
     "output_type": "stream",
     "text": [
      "100%|██████████| 11309/11309 [00:57<00:00, 196.47it/s]\n"
     ]
    },
    {
     "name": "stdout",
     "output_type": "stream",
     "text": [
      "Epoch 2/100, Train Loss: 0.7324, Val Loss: 0.7650\n",
      "RMSE Train: 0.8558, RMSE Val: 0.8746\n",
      "Current learning rate:  0.0003\n"
     ]
    },
    {
     "name": "stderr",
     "output_type": "stream",
     "text": [
      "100%|██████████| 11309/11309 [00:57<00:00, 195.93it/s]\n"
     ]
    },
    {
     "name": "stdout",
     "output_type": "stream",
     "text": [
      "Epoch 3/100, Train Loss: 0.6928, Val Loss: 0.7431\n",
      "RMSE Train: 0.8323, RMSE Val: 0.8620\n",
      "Current learning rate:  0.0003\n"
     ]
    },
    {
     "name": "stderr",
     "output_type": "stream",
     "text": [
      "100%|██████████| 11309/11309 [00:59<00:00, 191.09it/s]\n"
     ]
    },
    {
     "name": "stdout",
     "output_type": "stream",
     "text": [
      "Epoch 4/100, Train Loss: 0.6616, Val Loss: 0.7287\n",
      "RMSE Train: 0.8134, RMSE Val: 0.8537\n",
      "Current learning rate:  0.0003\n"
     ]
    },
    {
     "name": "stderr",
     "output_type": "stream",
     "text": [
      "100%|██████████| 11309/11309 [01:00<00:00, 188.07it/s]\n"
     ]
    },
    {
     "name": "stdout",
     "output_type": "stream",
     "text": [
      "Epoch 5/100, Train Loss: 0.6365, Val Loss: 0.7165\n",
      "RMSE Train: 0.7978, RMSE Val: 0.8465\n",
      "Current learning rate:  0.0003\n"
     ]
    },
    {
     "name": "stderr",
     "output_type": "stream",
     "text": [
      "100%|██████████| 11309/11309 [00:59<00:00, 188.84it/s]\n"
     ]
    },
    {
     "name": "stdout",
     "output_type": "stream",
     "text": [
      "Epoch 6/100, Train Loss: 0.6158, Val Loss: 0.7070\n",
      "RMSE Train: 0.7847, RMSE Val: 0.8408\n",
      "Current learning rate:  0.0003\n"
     ]
    },
    {
     "name": "stderr",
     "output_type": "stream",
     "text": [
      "100%|██████████| 11309/11309 [00:59<00:00, 190.00it/s]\n"
     ]
    },
    {
     "name": "stdout",
     "output_type": "stream",
     "text": [
      "Epoch 7/100, Train Loss: 0.5986, Val Loss: 0.7000\n",
      "RMSE Train: 0.7737, RMSE Val: 0.8367\n",
      "Current learning rate:  0.0003\n"
     ]
    },
    {
     "name": "stderr",
     "output_type": "stream",
     "text": [
      "100%|██████████| 11309/11309 [00:57<00:00, 195.56it/s]\n"
     ]
    },
    {
     "name": "stdout",
     "output_type": "stream",
     "text": [
      "Epoch 8/100, Train Loss: 0.5839, Val Loss: 0.6949\n",
      "RMSE Train: 0.7641, RMSE Val: 0.8336\n",
      "Current learning rate:  0.0003\n"
     ]
    },
    {
     "name": "stderr",
     "output_type": "stream",
     "text": [
      "100%|██████████| 11309/11309 [00:57<00:00, 195.16it/s]\n"
     ]
    },
    {
     "name": "stdout",
     "output_type": "stream",
     "text": [
      "Epoch 9/100, Train Loss: 0.5711, Val Loss: 0.6907\n",
      "RMSE Train: 0.7557, RMSE Val: 0.8311\n",
      "Current learning rate:  0.0003\n"
     ]
    },
    {
     "name": "stderr",
     "output_type": "stream",
     "text": [
      "100%|██████████| 11309/11309 [00:58<00:00, 194.73it/s]\n"
     ]
    },
    {
     "name": "stdout",
     "output_type": "stream",
     "text": [
      "Epoch 10/100, Train Loss: 0.5599, Val Loss: 0.6864\n",
      "RMSE Train: 0.7482, RMSE Val: 0.8285\n",
      "Current learning rate:  0.0003\n"
     ]
    },
    {
     "name": "stderr",
     "output_type": "stream",
     "text": [
      "100%|██████████| 11309/11309 [00:58<00:00, 194.39it/s]\n"
     ]
    },
    {
     "name": "stdout",
     "output_type": "stream",
     "text": [
      "Epoch 11/100, Train Loss: 0.5499, Val Loss: 0.6846\n",
      "RMSE Train: 0.7416, RMSE Val: 0.8274\n",
      "Current learning rate:  0.0003\n"
     ]
    },
    {
     "name": "stderr",
     "output_type": "stream",
     "text": [
      "100%|██████████| 11309/11309 [00:59<00:00, 189.28it/s]\n"
     ]
    },
    {
     "name": "stdout",
     "output_type": "stream",
     "text": [
      "Epoch 12/100, Train Loss: 0.5409, Val Loss: 0.6822\n",
      "RMSE Train: 0.7355, RMSE Val: 0.8260\n",
      "Current learning rate:  0.0003\n"
     ]
    },
    {
     "name": "stderr",
     "output_type": "stream",
     "text": [
      "100%|██████████| 11309/11309 [01:00<00:00, 187.23it/s]\n"
     ]
    },
    {
     "name": "stdout",
     "output_type": "stream",
     "text": [
      "Epoch 13/100, Train Loss: 0.5329, Val Loss: 0.6811\n",
      "RMSE Train: 0.7300, RMSE Val: 0.8253\n",
      "Current learning rate:  0.0003\n"
     ]
    },
    {
     "name": "stderr",
     "output_type": "stream",
     "text": [
      "100%|██████████| 11309/11309 [01:00<00:00, 186.60it/s]\n"
     ]
    },
    {
     "name": "stdout",
     "output_type": "stream",
     "text": [
      "Epoch 14/100, Train Loss: 0.5256, Val Loss: 0.6790\n",
      "RMSE Train: 0.7250, RMSE Val: 0.8240\n",
      "Current learning rate:  0.0003\n"
     ]
    },
    {
     "name": "stderr",
     "output_type": "stream",
     "text": [
      "100%|██████████| 11309/11309 [01:00<00:00, 188.19it/s]\n"
     ]
    },
    {
     "name": "stdout",
     "output_type": "stream",
     "text": [
      "Epoch 15/100, Train Loss: 0.5188, Val Loss: 0.6790\n",
      "RMSE Train: 0.7203, RMSE Val: 0.8240\n",
      "Current learning rate:  0.0003\n"
     ]
    },
    {
     "name": "stderr",
     "output_type": "stream",
     "text": [
      "100%|██████████| 11309/11309 [00:59<00:00, 191.08it/s]\n"
     ]
    },
    {
     "name": "stdout",
     "output_type": "stream",
     "text": [
      "Epoch 16/100, Train Loss: 0.5126, Val Loss: 0.6783\n",
      "RMSE Train: 0.7160, RMSE Val: 0.8236\n",
      "Current learning rate:  0.0003\n"
     ]
    },
    {
     "name": "stderr",
     "output_type": "stream",
     "text": [
      "100%|██████████| 11309/11309 [00:59<00:00, 190.70it/s]\n"
     ]
    },
    {
     "name": "stdout",
     "output_type": "stream",
     "text": [
      "Epoch 17/100, Train Loss: 0.5069, Val Loss: 0.6782\n",
      "RMSE Train: 0.7120, RMSE Val: 0.8235\n",
      "Current learning rate:  0.0003\n"
     ]
    },
    {
     "name": "stderr",
     "output_type": "stream",
     "text": [
      "100%|██████████| 11309/11309 [00:59<00:00, 190.97it/s]\n"
     ]
    },
    {
     "name": "stdout",
     "output_type": "stream",
     "text": [
      "Epoch 18/100, Train Loss: 0.5016, Val Loss: 0.6770\n",
      "RMSE Train: 0.7083, RMSE Val: 0.8228\n",
      "Current learning rate:  0.0003\n"
     ]
    },
    {
     "name": "stderr",
     "output_type": "stream",
     "text": [
      "100%|██████████| 11309/11309 [00:59<00:00, 190.57it/s]\n"
     ]
    },
    {
     "name": "stdout",
     "output_type": "stream",
     "text": [
      "Epoch 19/100, Train Loss: 0.4968, Val Loss: 0.6770\n",
      "RMSE Train: 0.7048, RMSE Val: 0.8228\n",
      "Current learning rate:  0.0003\n"
     ]
    },
    {
     "name": "stderr",
     "output_type": "stream",
     "text": [
      "100%|██████████| 11309/11309 [01:00<00:00, 185.87it/s]\n"
     ]
    },
    {
     "name": "stdout",
     "output_type": "stream",
     "text": [
      "Epoch 20/100, Train Loss: 0.4921, Val Loss: 0.6779\n",
      "RMSE Train: 0.7015, RMSE Val: 0.8233\n",
      "Current learning rate:  0.0003\n"
     ]
    },
    {
     "name": "stderr",
     "output_type": "stream",
     "text": [
      "100%|██████████| 11309/11309 [00:59<00:00, 191.62it/s]\n"
     ]
    },
    {
     "name": "stdout",
     "output_type": "stream",
     "text": [
      "Epoch 21/100, Train Loss: 0.4878, Val Loss: 0.6771\n",
      "RMSE Train: 0.6984, RMSE Val: 0.8228\n",
      "Current learning rate:  0.00015\n"
     ]
    },
    {
     "name": "stderr",
     "output_type": "stream",
     "text": [
      "100%|██████████| 11309/11309 [00:58<00:00, 193.24it/s]\n"
     ]
    },
    {
     "name": "stdout",
     "output_type": "stream",
     "text": [
      "Epoch 22/100, Train Loss: 0.4809, Val Loss: 0.6774\n",
      "RMSE Train: 0.6934, RMSE Val: 0.8231\n",
      "Current learning rate:  0.00015\n"
     ]
    },
    {
     "name": "stderr",
     "output_type": "stream",
     "text": [
      "100%|██████████| 11309/11309 [00:58<00:00, 194.03it/s]\n"
     ]
    },
    {
     "name": "stdout",
     "output_type": "stream",
     "text": [
      "Epoch 23/100, Train Loss: 0.4789, Val Loss: 0.6779\n",
      "RMSE Train: 0.6920, RMSE Val: 0.8234\n",
      "Current learning rate:  0.00015\n"
     ]
    },
    {
     "name": "stderr",
     "output_type": "stream",
     "text": [
      "100%|██████████| 11309/11309 [00:58<00:00, 193.17it/s]\n"
     ]
    },
    {
     "name": "stdout",
     "output_type": "stream",
     "text": [
      "Epoch 24/100, Train Loss: 0.4770, Val Loss: 0.6775\n",
      "RMSE Train: 0.6906, RMSE Val: 0.8231\n",
      "Early stopping triggered due to no improvement in validation loss.\n",
      "Created submission.csv\n"
     ]
    },
    {
     "name": "stderr",
     "output_type": "stream",
     "text": [
      "/var/folders/3w/x7g6gh3s1y1gry1przjtc12c0000gn/T/ipykernel_28324/1117068810.py:107: FutureWarning: You are using `torch.load` with `weights_only=False` (the current default value), which uses the default pickle module implicitly. It is possible to construct malicious pickle data which will execute arbitrary code during unpickling (See https://github.com/pytorch/pytorch/blob/main/SECURITY.md#untrusted-models for more details). In a future release, the default value for `weights_only` will be flipped to `True`. This limits the functions that could be executed during unpickling. Arbitrary objects will no longer be allowed to be loaded via this mode unless they are explicitly allowlisted by the user via `torch.serialization.add_safe_globals`. We recommend you start setting `weights_only=True` for any use case where you don't have full control of the loaded file. Please open an issue on GitHub for any issues related to this experimental feature.\n",
      "  model.load_state_dict(torch.load(\"best_model_fixed_offset.pt\"))\n"
     ]
    }
   ],
   "source": [
    "# -----------------------\n",
    "# Model Definition\n",
    "# -----------------------\n",
    "class MatrixFactorization(nn.Module):\n",
    "    def __init__(self, num_users, num_items, emb_dim=64):\n",
    "        super(MatrixFactorization, self).__init__()\n",
    "        self.user_emb = nn.Embedding(num_users, emb_dim)\n",
    "        self.item_emb = nn.Embedding(num_items, emb_dim)\n",
    "\n",
    "        self.user_bias = nn.Embedding(num_users, 1)\n",
    "        self.item_bias = nn.Embedding(num_items, 1)\n",
    "\n",
    "        nn.init.normal_(self.user_emb.weight, std=0.01)\n",
    "        nn.init.normal_(self.item_emb.weight, std=0.01)\n",
    "        nn.init.zeros_(self.user_bias.weight)\n",
    "        nn.init.zeros_(self.item_bias.weight)\n",
    "\n",
    "        self.global_bias = nn.Parameter(torch.zeros(1))\n",
    "\n",
    "    def forward(self, user_ids, item_ids, user_offsets):\n",
    "        U = self.user_emb(user_ids)\n",
    "        V = self.item_emb(item_ids)\n",
    "        u_b = self.user_bias(user_ids).squeeze()\n",
    "        i_b = self.item_bias(item_ids).squeeze()\n",
    "\n",
    "        # Add the fixed offset from user_counts\n",
    "        offset = user_offsets[user_ids]\n",
    "\n",
    "        pred = (U * V).sum(dim=1) + u_b + i_b + self.global_bias + offset\n",
    "        return pred\n",
    "\n",
    "\n",
    "def loss_fn(pred, target, model, reg_lambda):\n",
    "    mse_loss = nn.MSELoss()(pred, target)\n",
    "    # L2 regularization on embeddings\n",
    "    user_reg = model.user_emb.weight.norm(2)\n",
    "    item_reg = model.item_emb.weight.norm(2)\n",
    "    return mse_loss + reg_lambda * (user_reg + item_reg)\n",
    "\n",
    "\n",
    "model = MatrixFactorization(n_users, n_books, EMBED_DIM).to(DEVICE)\n",
    "optimizer = optim.Adam(model.parameters(), lr=LR)\n",
    "scheduler = optim.lr_scheduler.ReduceLROnPlateau(\n",
    "    optimizer, mode=\"min\", factor=0.5, patience=2, verbose=True\n",
    ")\n",
    "\n",
    "best_val_loss = float(\"inf\")\n",
    "epochs_no_improve = 0\n",
    "\n",
    "for epoch in range(EPOCHS):\n",
    "    model.train()\n",
    "    total_train_loss = 0\n",
    "    for param_group in optimizer.param_groups:\n",
    "        print(\"Current learning rate: \", param_group[\"lr\"])\n",
    "    for users, items, ratings in tqdm(train_loader, total=len(train_loader)):\n",
    "        users = users.to(DEVICE)\n",
    "        items = items.to(DEVICE)\n",
    "        ratings = ratings.to(DEVICE)\n",
    "\n",
    "        optimizer.zero_grad()\n",
    "        preds = model(users, items, offsets_tensor)\n",
    "        loss = loss_fn(preds, ratings, model, REG_LAMBDA)\n",
    "        loss.backward()\n",
    "        # Optionally add gradient clipping if needed:\n",
    "        torch.nn.utils.clip_grad_norm_(model.parameters(), max_norm=5.0)\n",
    "        optimizer.step()\n",
    "\n",
    "        total_train_loss += loss.item()\n",
    "\n",
    "    avg_train_loss = total_train_loss / len(train_loader)\n",
    "\n",
    "    # Validation\n",
    "    model.eval()\n",
    "    total_val_loss = 0\n",
    "    with torch.no_grad():\n",
    "        for users, items, ratings in val_loader:\n",
    "            users = users.to(DEVICE)\n",
    "            items = items.to(DEVICE)\n",
    "            ratings = ratings.to(DEVICE)\n",
    "\n",
    "            preds = model(users, items, offsets_tensor)\n",
    "            val_loss = nn.MSELoss()(preds, ratings)\n",
    "            total_val_loss += val_loss.item()\n",
    "\n",
    "    avg_val_loss = total_val_loss / len(val_loader)\n",
    "    scheduler.step(avg_val_loss)\n",
    "\n",
    "    rmse_train = np.sqrt(avg_train_loss)\n",
    "    rmse_val = np.sqrt(avg_val_loss)\n",
    "    print(\n",
    "        f\"Epoch {epoch+1}/{EPOCHS}, Train Loss: {avg_train_loss:.4f}, Val Loss: {avg_val_loss:.4f}\"\n",
    "    )\n",
    "    print(f\"RMSE Train: {rmse_train:.4f}, RMSE Val: {rmse_val:.4f}\")\n",
    "\n",
    "    # Early stopping check\n",
    "    if avg_val_loss < best_val_loss:\n",
    "        best_val_loss = avg_val_loss\n",
    "        epochs_no_improve = 0\n",
    "        torch.save(model.state_dict(), \"best_model_fixed_offset.pt\")\n",
    "    else:\n",
    "        epochs_no_improve += 1\n",
    "        if epochs_no_improve >= PATIENCE:\n",
    "            print(\"Early stopping triggered due to no improvement in validation loss.\")\n",
    "            break\n",
    "\n",
    "# Load best model\n",
    "model.load_state_dict(torch.load(\"best_model_fixed_offset.pt\"))\n",
    "\n",
    "# -----------------------\n",
    "# Test Prediction\n",
    "# -----------------------\n",
    "test_df = pd.read_csv(\"../data/test.csv\")\n",
    "test_df[\"user_idx\"] = test_df[\"user_id\"].map(user2idx)\n",
    "test_df[\"book_idx\"] = test_df[\"book_id\"].map(book2idx)\n",
    "\n",
    "# Handle unknown users/items gracefully:\n",
    "# If unknown user, assign user_idx as a known baseline user or just clamp offset\n",
    "test_df[\"user_idx\"] = test_df[\"user_idx\"].apply(\n",
    "    lambda x: x if x in range(n_users) else n_users - 1\n",
    ")\n",
    "test_df[\"book_idx\"] = test_df[\"book_idx\"].apply(\n",
    "    lambda x: x if x in range(n_books) else n_books - 1\n",
    ")\n",
    "\n",
    "test_df[\"user_idx\"] = test_df[\"user_idx\"].fillna(n_users - 1).astype(int)\n",
    "test_df[\"book_idx\"] = test_df[\"book_idx\"].fillna(n_books - 1).astype(int)\n",
    "\n",
    "model.eval()\n",
    "test_users = torch.tensor(test_df[\"user_idx\"].values, dtype=torch.long).to(DEVICE)\n",
    "test_items = torch.tensor(test_df[\"book_idx\"].values, dtype=torch.long).to(DEVICE)\n",
    "\n",
    "with torch.no_grad():\n",
    "    test_preds = model(test_users, test_items, offsets_tensor).cpu().numpy()\n",
    "\n",
    "test_preds = np.clip(test_preds, 1.0, 5.0)\n",
    "submission = pd.DataFrame({\"id\": test_df[\"id\"], \"rating\": test_preds})\n",
    "submission.to_csv(\"submission.csv\", index=False)\n",
    "print(\"Created submission.csv\")"
   ]
  },
  {
   "cell_type": "code",
   "execution_count": 5,
   "metadata": {},
   "outputs": [
    {
     "data": {
      "text/plain": [
       "<Axes: >"
      ]
     },
     "execution_count": 5,
     "metadata": {},
     "output_type": "execute_result"
    },
    {
     "data": {
      "image/png": "[encoded data removed]",
      "text/plain": [
       "<Figure size 640x480 with 1 Axes>"
      ]
     },
     "metadata": {},
     "output_type": "display_data"
    }
   ],
   "source": [
    "test_df[\"rating\"] = test_preds\n",
    "user_counts = train_df[\"user_id\"].value_counts()\n",
    "users_with_less_than_5_reviews = user_counts[user_counts < 8].index\n",
    "\n",
    "# get the test_df rows with user_ids in users_with_less_than_5_reviews\n",
    "test_df_filtered = test_df[test_df[\"user_id\"].isin(users_with_less_than_5_reviews)]\n",
    "\n",
    "# plot the ratings on hist\n",
    "test_df_filtered[\"rating\"].hist()"
   ]
  },
  {
   "cell_type": "code",
   "execution_count": 6,
   "metadata": {},
   "outputs": [
    {
     "data": {
      "text/plain": [
       "rating\n",
       "2.0    21973\n",
       "1.0    17689\n",
       "1.5    15399\n",
       "2.5    14177\n",
       "3.0     9863\n",
       "3.5     8167\n",
       "4.0     6753\n",
       "5.0     5577\n",
       "4.5      925\n",
       "Name: count, dtype: int64"
      ]
     },
     "execution_count": 6,
     "metadata": {},
     "output_type": "execute_result"
    }
   ],
   "source": [
    "train_df[\"rating\"].value_counts()"
   ]
  },
  {
   "cell_type": "code",
   "execution_count": 7,
   "metadata": {},
   "outputs": [
    {
     "data": {
      "text/plain": [
       "<Axes: >"
      ]
     },
     "execution_count": 7,
     "metadata": {},
     "output_type": "execute_result"
    },
    {
     "data": {
      "image/png": "[encoded data removed]",
      "text/plain": [
       "<Figure size 640x480 with 1 Axes>"
      ]
     },
     "metadata": {},
     "output_type": "display_data"
    }
   ],
   "source": [
    "train_df[\"rating\"].hist()"
   ]
  },
  {
   "cell_type": "code",
   "execution_count": 8,
   "metadata": {},
   "outputs": [
    {
     "data": {
      "text/plain": [
       "<Axes: >"
      ]
     },
     "execution_count": 8,
     "metadata": {},
     "output_type": "execute_result"
    },
    {
     "data": {
      "image/png": "[encoded data removed]",
      "text/plain": [
       "<Figure size 640x480 with 1 Axes>"
      ]
     },
     "metadata": {},
     "output_type": "display_data"
    }
   ],
   "source": [
    "# plot the rating hist in train_df for only the users with less than X (X will be adjustable) reviews\n",
    "train_df[train_df[\"user_id\"].isin(user_counts[user_counts < 7].index)][\"rating\"].hist()"
   ]
  },
  {
   "cell_type": "code",
   "execution_count": 9,
   "metadata": {},
   "outputs": [
    {
     "data": {
      "text/plain": [
       "6        6\n",
       "7        3\n",
       "9        6\n",
       "16       1\n",
       "19       6\n",
       "        ..\n",
       "90456    3\n",
       "90459    1\n",
       "90463    1\n",
       "90465    1\n",
       "90469    2\n",
       "Name: user_id, Length: 25170, dtype: int64"
      ]
     },
     "execution_count": 9,
     "metadata": {},
     "output_type": "execute_result"
    }
   ],
   "source": [
    "user_id_counts[user_id_counts < 7]"
   ]
  },
  {
   "cell_type": "code",
   "execution_count": 10,
   "metadata": {},
   "outputs": [
    {
     "data": {
      "text/plain": [
       "user_id\n",
       "1     3.909283\n",
       "2     3.776454\n",
       "3     2.691737\n",
       "4     2.150903\n",
       "5     2.165625\n",
       "6     2.188201\n",
       "7     2.213869\n",
       "8     2.202817\n",
       "9     2.119596\n",
       "10    2.134821\n",
       "Name: rating, dtype: float64"
      ]
     },
     "execution_count": 10,
     "metadata": {},
     "output_type": "execute_result"
    }
   ],
   "source": [
    "user_id_counts = train_data.groupby(\"user_id\")[\"user_id\"].transform(\"size\")\n",
    "count2mean = train_data.groupby(user_id_counts)[\"rating\"].mean()\n",
    "count2mean.head(10)"
   ]
  },
  {
   "cell_type": "code",
   "execution_count": 11,
   "metadata": {},
   "outputs": [
    {
     "data": {
      "text/html": [
       "<div>\n",
       "<style scoped>\n",
       "    .dataframe tbody tr th:only-of-type {\n",
       "        vertical-align: middle;\n",
       "    }\n",
       "\n",
       "    .dataframe tbody tr th {\n",
       "        vertical-align: top;\n",
       "    }\n",
       "\n",
       "    .dataframe thead th {\n",
       "        text-align: right;\n",
       "    }\n",
       "</style>\n",
       "<table border=\"1\" class=\"dataframe\">\n",
       "  <thead>\n",
       "    <tr style=\"text-align: right;\">\n",
       "      <th></th>\n",
       "      <th>user_id</th>\n",
       "      <th>count</th>\n",
       "      <th>avg_rating</th>\n",
       "    </tr>\n",
       "  </thead>\n",
       "  <tbody>\n",
       "    <tr>\n",
       "      <th>0</th>\n",
       "      <td>3785</td>\n",
       "      <td>2041</td>\n",
       "      <td>1.409091</td>\n",
       "    </tr>\n",
       "    <tr>\n",
       "      <th>1</th>\n",
       "      <td>28251</td>\n",
       "      <td>524</td>\n",
       "      <td>1.800000</td>\n",
       "    </tr>\n",
       "    <tr>\n",
       "      <th>2</th>\n",
       "      <td>43652</td>\n",
       "      <td>350</td>\n",
       "      <td>1.428571</td>\n",
       "    </tr>\n",
       "    <tr>\n",
       "      <th>3</th>\n",
       "      <td>5180</td>\n",
       "      <td>345</td>\n",
       "      <td>2.500000</td>\n",
       "    </tr>\n",
       "    <tr>\n",
       "      <th>4</th>\n",
       "      <td>27445</td>\n",
       "      <td>266</td>\n",
       "      <td>2.681818</td>\n",
       "    </tr>\n",
       "    <tr>\n",
       "      <th>5</th>\n",
       "      <td>32734</td>\n",
       "      <td>263</td>\n",
       "      <td>1.000000</td>\n",
       "    </tr>\n",
       "    <tr>\n",
       "      <th>6</th>\n",
       "      <td>30022</td>\n",
       "      <td>236</td>\n",
       "      <td>1.833333</td>\n",
       "    </tr>\n",
       "    <tr>\n",
       "      <th>7</th>\n",
       "      <td>35368</td>\n",
       "      <td>203</td>\n",
       "      <td>3.333333</td>\n",
       "    </tr>\n",
       "    <tr>\n",
       "      <th>8</th>\n",
       "      <td>44828</td>\n",
       "      <td>203</td>\n",
       "      <td>1.687500</td>\n",
       "    </tr>\n",
       "    <tr>\n",
       "      <th>9</th>\n",
       "      <td>10717</td>\n",
       "      <td>201</td>\n",
       "      <td>2.125000</td>\n",
       "    </tr>\n",
       "    <tr>\n",
       "      <th>10</th>\n",
       "      <td>17636</td>\n",
       "      <td>188</td>\n",
       "      <td>1.000000</td>\n",
       "    </tr>\n",
       "    <tr>\n",
       "      <th>11</th>\n",
       "      <td>57666</td>\n",
       "      <td>187</td>\n",
       "      <td>2.428571</td>\n",
       "    </tr>\n",
       "    <tr>\n",
       "      <th>12</th>\n",
       "      <td>66142</td>\n",
       "      <td>186</td>\n",
       "      <td>2.222222</td>\n",
       "    </tr>\n",
       "    <tr>\n",
       "      <th>13</th>\n",
       "      <td>38503</td>\n",
       "      <td>176</td>\n",
       "      <td>3.400000</td>\n",
       "    </tr>\n",
       "    <tr>\n",
       "      <th>14</th>\n",
       "      <td>48405</td>\n",
       "      <td>164</td>\n",
       "      <td>2.071429</td>\n",
       "    </tr>\n",
       "    <tr>\n",
       "      <th>15</th>\n",
       "      <td>7135</td>\n",
       "      <td>148</td>\n",
       "      <td>1.333333</td>\n",
       "    </tr>\n",
       "    <tr>\n",
       "      <th>16</th>\n",
       "      <td>2659</td>\n",
       "      <td>144</td>\n",
       "      <td>2.625000</td>\n",
       "    </tr>\n",
       "    <tr>\n",
       "      <th>17</th>\n",
       "      <td>72507</td>\n",
       "      <td>141</td>\n",
       "      <td>2.545455</td>\n",
       "    </tr>\n",
       "    <tr>\n",
       "      <th>18</th>\n",
       "      <td>25752</td>\n",
       "      <td>139</td>\n",
       "      <td>1.555556</td>\n",
       "    </tr>\n",
       "    <tr>\n",
       "      <th>19</th>\n",
       "      <td>22760</td>\n",
       "      <td>134</td>\n",
       "      <td>3.000000</td>\n",
       "    </tr>\n",
       "    <tr>\n",
       "      <th>20</th>\n",
       "      <td>45973</td>\n",
       "      <td>134</td>\n",
       "      <td>2.354167</td>\n",
       "    </tr>\n",
       "    <tr>\n",
       "      <th>21</th>\n",
       "      <td>4270</td>\n",
       "      <td>133</td>\n",
       "      <td>1.958333</td>\n",
       "    </tr>\n",
       "    <tr>\n",
       "      <th>22</th>\n",
       "      <td>50191</td>\n",
       "      <td>132</td>\n",
       "      <td>2.472222</td>\n",
       "    </tr>\n",
       "    <tr>\n",
       "      <th>23</th>\n",
       "      <td>9325</td>\n",
       "      <td>131</td>\n",
       "      <td>2.468750</td>\n",
       "    </tr>\n",
       "    <tr>\n",
       "      <th>24</th>\n",
       "      <td>28970</td>\n",
       "      <td>131</td>\n",
       "      <td>3.545455</td>\n",
       "    </tr>\n",
       "    <tr>\n",
       "      <th>25</th>\n",
       "      <td>20064</td>\n",
       "      <td>125</td>\n",
       "      <td>1.833333</td>\n",
       "    </tr>\n",
       "    <tr>\n",
       "      <th>26</th>\n",
       "      <td>70038</td>\n",
       "      <td>121</td>\n",
       "      <td>2.800000</td>\n",
       "    </tr>\n",
       "    <tr>\n",
       "      <th>27</th>\n",
       "      <td>21975</td>\n",
       "      <td>120</td>\n",
       "      <td>1.700000</td>\n",
       "    </tr>\n",
       "    <tr>\n",
       "      <th>28</th>\n",
       "      <td>72856</td>\n",
       "      <td>116</td>\n",
       "      <td>2.272727</td>\n",
       "    </tr>\n",
       "    <tr>\n",
       "      <th>29</th>\n",
       "      <td>2423</td>\n",
       "      <td>114</td>\n",
       "      <td>2.526316</td>\n",
       "    </tr>\n",
       "    <tr>\n",
       "      <th>30</th>\n",
       "      <td>13694</td>\n",
       "      <td>113</td>\n",
       "      <td>1.437500</td>\n",
       "    </tr>\n",
       "    <tr>\n",
       "      <th>31</th>\n",
       "      <td>66069</td>\n",
       "      <td>112</td>\n",
       "      <td>1.750000</td>\n",
       "    </tr>\n",
       "    <tr>\n",
       "      <th>32</th>\n",
       "      <td>63391</td>\n",
       "      <td>111</td>\n",
       "      <td>2.038462</td>\n",
       "    </tr>\n",
       "    <tr>\n",
       "      <th>33</th>\n",
       "      <td>50199</td>\n",
       "      <td>110</td>\n",
       "      <td>2.047619</td>\n",
       "    </tr>\n",
       "    <tr>\n",
       "      <th>34</th>\n",
       "      <td>31750</td>\n",
       "      <td>109</td>\n",
       "      <td>1.944444</td>\n",
       "    </tr>\n",
       "    <tr>\n",
       "      <th>35</th>\n",
       "      <td>30888</td>\n",
       "      <td>109</td>\n",
       "      <td>1.700000</td>\n",
       "    </tr>\n",
       "    <tr>\n",
       "      <th>36</th>\n",
       "      <td>40001</td>\n",
       "      <td>108</td>\n",
       "      <td>2.363636</td>\n",
       "    </tr>\n",
       "    <tr>\n",
       "      <th>37</th>\n",
       "      <td>53549</td>\n",
       "      <td>108</td>\n",
       "      <td>2.166667</td>\n",
       "    </tr>\n",
       "    <tr>\n",
       "      <th>38</th>\n",
       "      <td>76829</td>\n",
       "      <td>108</td>\n",
       "      <td>1.840909</td>\n",
       "    </tr>\n",
       "    <tr>\n",
       "      <th>39</th>\n",
       "      <td>6300</td>\n",
       "      <td>106</td>\n",
       "      <td>2.166667</td>\n",
       "    </tr>\n",
       "    <tr>\n",
       "      <th>40</th>\n",
       "      <td>11331</td>\n",
       "      <td>105</td>\n",
       "      <td>2.750000</td>\n",
       "    </tr>\n",
       "    <tr>\n",
       "      <th>41</th>\n",
       "      <td>22081</td>\n",
       "      <td>105</td>\n",
       "      <td>1.200000</td>\n",
       "    </tr>\n",
       "    <tr>\n",
       "      <th>42</th>\n",
       "      <td>74792</td>\n",
       "      <td>103</td>\n",
       "      <td>2.000000</td>\n",
       "    </tr>\n",
       "    <tr>\n",
       "      <th>43</th>\n",
       "      <td>55730</td>\n",
       "      <td>102</td>\n",
       "      <td>1.888889</td>\n",
       "    </tr>\n",
       "    <tr>\n",
       "      <th>44</th>\n",
       "      <td>73746</td>\n",
       "      <td>100</td>\n",
       "      <td>1.366667</td>\n",
       "    </tr>\n",
       "    <tr>\n",
       "      <th>45</th>\n",
       "      <td>52322</td>\n",
       "      <td>97</td>\n",
       "      <td>2.166667</td>\n",
       "    </tr>\n",
       "    <tr>\n",
       "      <th>46</th>\n",
       "      <td>12806</td>\n",
       "      <td>97</td>\n",
       "      <td>2.562500</td>\n",
       "    </tr>\n",
       "    <tr>\n",
       "      <th>47</th>\n",
       "      <td>65328</td>\n",
       "      <td>96</td>\n",
       "      <td>1.916667</td>\n",
       "    </tr>\n",
       "    <tr>\n",
       "      <th>48</th>\n",
       "      <td>32043</td>\n",
       "      <td>96</td>\n",
       "      <td>2.666667</td>\n",
       "    </tr>\n",
       "    <tr>\n",
       "      <th>49</th>\n",
       "      <td>44312</td>\n",
       "      <td>96</td>\n",
       "      <td>1.750000</td>\n",
       "    </tr>\n",
       "  </tbody>\n",
       "</table>\n",
       "</div>"
      ],
      "text/plain": [
       "    user_id  count  avg_rating\n",
       "0      3785   2041    1.409091\n",
       "1     28251    524    1.800000\n",
       "2     43652    350    1.428571\n",
       "3      5180    345    2.500000\n",
       "4     27445    266    2.681818\n",
       "5     32734    263    1.000000\n",
       "6     30022    236    1.833333\n",
       "7     35368    203    3.333333\n",
       "8     44828    203    1.687500\n",
       "9     10717    201    2.125000\n",
       "10    17636    188    1.000000\n",
       "11    57666    187    2.428571\n",
       "12    66142    186    2.222222\n",
       "13    38503    176    3.400000\n",
       "14    48405    164    2.071429\n",
       "15     7135    148    1.333333\n",
       "16     2659    144    2.625000\n",
       "17    72507    141    2.545455\n",
       "18    25752    139    1.555556\n",
       "19    22760    134    3.000000\n",
       "20    45973    134    2.354167\n",
       "21     4270    133    1.958333\n",
       "22    50191    132    2.472222\n",
       "23     9325    131    2.468750\n",
       "24    28970    131    3.545455\n",
       "25    20064    125    1.833333\n",
       "26    70038    121    2.800000\n",
       "27    21975    120    1.700000\n",
       "28    72856    116    2.272727\n",
       "29     2423    114    2.526316\n",
       "30    13694    113    1.437500\n",
       "31    66069    112    1.750000\n",
       "32    63391    111    2.038462\n",
       "33    50199    110    2.047619\n",
       "34    31750    109    1.944444\n",
       "35    30888    109    1.700000\n",
       "36    40001    108    2.363636\n",
       "37    53549    108    2.166667\n",
       "38    76829    108    1.840909\n",
       "39     6300    106    2.166667\n",
       "40    11331    105    2.750000\n",
       "41    22081    105    1.200000\n",
       "42    74792    103    2.000000\n",
       "43    55730    102    1.888889\n",
       "44    73746    100    1.366667\n",
       "45    52322     97    2.166667\n",
       "46    12806     97    2.562500\n",
       "47    65328     96    1.916667\n",
       "48    32043     96    2.666667\n",
       "49    44312     96    1.750000"
      ]
     },
     "execution_count": 11,
     "metadata": {},
     "output_type": "execute_result"
    }
   ],
   "source": [
    "train_user_counts = train_df[\"user_id\"].value_counts()\n",
    "# get the avg rating for each user and add it as column to the train_user_counts\n",
    "train_user_counts = train_user_counts.to_frame().reset_index()\n",
    "train_user_counts.columns = [\"user_id\", \"count\"]\n",
    "train_user_counts[\"avg_rating\"] = train_df.groupby(\"user_id\")[\"rating\"].mean().values\n",
    "train_user_counts.head(50)"
   ]
  },
  {
   "cell_type": "code",
   "execution_count": 12,
   "metadata": {},
   "outputs": [
    {
     "data": {
      "text/plain": [
       "<Axes: >"
      ]
     },
     "execution_count": 12,
     "metadata": {},
     "output_type": "execute_result"
    },
    {
     "data": {
      "image/png": "[encoded data removed]",
      "text/plain": [
       "<Figure size 640x480 with 1 Axes>"
      ]
     },
     "metadata": {},
     "output_type": "display_data"
    }
   ],
   "source": [
    "# print get the filtered train_df that only contains the users with less than 5 reviews\n",
    "user_counts = train_df[\"user_id\"].value_counts()\n",
    "users_with_less_than_5_reviews = user_counts[user_counts < 7].index\n",
    "train_df_filtered = train_df[train_df[\"user_id\"].isin(users_with_less_than_5_reviews)]\n",
    "train_df_filtered[\"rating\"].hist()"
   ]
  },
  {
   "cell_type": "code",
   "execution_count": 13,
   "metadata": {},
   "outputs": [
    {
     "data": {
      "text/plain": [
       "{1: 3.910843051722603,\n",
       " 2: 3.9035714285714285,\n",
       " 3: 2.9459582198001817,\n",
       " 4: 2.2192708333333333,\n",
       " 5: 2.1670850767085077,\n",
       " 6: 2.174944071588367,\n",
       " 7: 2.1969583644976316,\n",
       " 8: 2.1988357843137254,\n",
       " 9: 2.168769716088328,\n",
       " 10: 2.1346938775510202,\n",
       " 11: 2.073515769944341,\n",
       " 12: 2.090990990990991,\n",
       " 13: 2.158480074142725,\n",
       " 14: 2.0308807733619765,\n",
       " 15: 2.0517333333333334,\n",
       " 16: 2.0907738095238093,\n",
       " 17: 2.0932486631016043,\n",
       " 18: 2.030583613916947,\n",
       " 19: 1.9805335255948089,\n",
       " 20: 2.0349315068493152,\n",
       " 21: 2.0597326649958227,\n",
       " 22: 2.1066115702479338,\n",
       " 23: 2.0855689176688252,\n",
       " 24: 2.0527482269503547,\n",
       " 25: 2.091891891891892,\n",
       " 26: 2.0788084464555054,\n",
       " 27: 2.0443583118001722,\n",
       " 28: 2.089923469387755,\n",
       " 29: 2.1117908787541713,\n",
       " 30: 1.9,\n",
       " 31: 2.0683870967741935,\n",
       " 32: 2.0747767857142856,\n",
       " 33: 2.033459595959596,\n",
       " 34: 2.1400560224089635,\n",
       " 35: 2.0551020408163265,\n",
       " 36: 2.154589371980676,\n",
       " 37: 1.9282744282744282,\n",
       " 38: 1.9312865497076024,\n",
       " 39: 2.082532051282051,\n",
       " 40: 1.96875,\n",
       " 41: 2.125703564727955,\n",
       " 42: 2.207936507936508,\n",
       " 43: 2.280730897009967,\n",
       " 44: 2.002435064935065,\n",
       " 45: 1.911904761904762,\n",
       " 46: 2.1168478260869565,\n",
       " 47: 2.2390070921985816,\n",
       " 48: 2.2291666666666665,\n",
       " 49: 1.9602040816326531,\n",
       " 50: 2.1136363636363638,\n",
       " 51: 1.8292483660130718,\n",
       " 52: 1.7142857142857142,\n",
       " 53: 2.0754716981132075,\n",
       " 54: 2.1203703703703702,\n",
       " 55: 2.1717171717171717,\n",
       " 56: 2.002232142857143,\n",
       " 57: 2.087719298245614,\n",
       " 58: 1.9155172413793105,\n",
       " 59: 2.1366525423728815,\n",
       " 60: 2.005952380952381,\n",
       " 61: 1.7991803278688525,\n",
       " 62: 1.846774193548387,\n",
       " 63: 1.5555555555555556,\n",
       " 64: 1.7953125,\n",
       " 65: 2.0576923076923075,\n",
       " 66: 1.9212121212121211,\n",
       " 67: 2.070362473347548,\n",
       " 68: 1.7058823529411764,\n",
       " 69: 1.9971014492753623,\n",
       " 70: 2.4047619047619047,\n",
       " 71: 1.9330985915492958,\n",
       " 72: 1.8333333333333333,\n",
       " 73: 2.3767123287671232,\n",
       " 74: 1.4527027027027026,\n",
       " 75: 2.3033333333333332,\n",
       " 76: 2.25,\n",
       " 77: 2.0116883116883115,\n",
       " 78: 1.8012820512820513,\n",
       " 79: 2.0316455696202533,\n",
       " 80: 1.8203125,\n",
       " 81: 1.8045267489711934,\n",
       " 82: 2.0060975609756095,\n",
       " 83: 1.9503012048192772,\n",
       " 84: 2.0699404761904763,\n",
       " 85: 2.0588235294117645,\n",
       " 86: 1.9844961240310077,\n",
       " 87: 2.0727969348659006,\n",
       " 88: 1.7727272727272727,\n",
       " 89: 2.466292134831461,\n",
       " 90: 1.9305555555555556,\n",
       " 91: 1.1373626373626373,\n",
       " 92: 1.4103260869565217,\n",
       " 93: 1.2096774193548387,\n",
       " 96: 2.01171875,\n",
       " 97: 2.5128865979381443,\n",
       " 100: 2.255,\n",
       " 102: 1.7794117647058822,\n",
       " 103: 1.7815533980582525,\n",
       " 105: 1.8428571428571427,\n",
       " 106: 2.080188679245283,\n",
       " 108: 3.4151234567901234,\n",
       " 109: 2.5137614678899083,\n",
       " 110: 2.2954545454545454,\n",
       " 111: 1.5945945945945945,\n",
       " 112: 2.111607142857143,\n",
       " 113: 2.2123893805309733,\n",
       " 114: 2.473684210526316,\n",
       " 116: 1.6379310344827587,\n",
       " 120: 1.3875,\n",
       " 121: 2.1983471074380163,\n",
       " 125: 2.04,\n",
       " 131: 1.7805343511450382,\n",
       " 132: 1.8977272727272727,\n",
       " 133: 2.101503759398496,\n",
       " 134: 1.9813432835820894,\n",
       " 139: 2.6402877697841727,\n",
       " 141: 1.2340425531914894,\n",
       " 144: 2.0416666666666665,\n",
       " 148: 2.0,\n",
       " 164: 2.356707317073171,\n",
       " 176: 2.1931818181818183,\n",
       " 186: 1.8951612903225807,\n",
       " 187: 1.5989304812834224,\n",
       " 188: 1.9069148936170213,\n",
       " 201: 2.263681592039801,\n",
       " 203: 3.0948275862068964,\n",
       " 236: 1.7478813559322033,\n",
       " 263: 2.8250950570342206,\n",
       " 266: 2.0676691729323307,\n",
       " 345: 2.1681159420289857,\n",
       " 350: 1.4457142857142857,\n",
       " 524: 1.583969465648855,\n",
       " 2041: 2.2055365017148456}"
      ]
     },
     "execution_count": 13,
     "metadata": {},
     "output_type": "execute_result"
    }
   ],
   "source": [
    "# create a train_df_avg_rating_by_user_count that contains the avg rating for each user count\n",
    "user_id_counts = train_df.groupby(\"user_id\")[\"user_id\"].transform(\"size\")\n",
    "count2mean = train_df.groupby(user_id_counts)[\"rating\"].mean()\n",
    "count2mean_dict = count2mean.to_dict()\n",
    "count2mean_dict"
   ]
  }
 ],
 "metadata": {
  "kernelspec": {
   "display_name": "base",
   "language": "python",
   "name": "python3"
  },
  "language_info": {
   "codemirror_mode": {
    "name": "ipython",
    "version": 3
   },
   "file_extension": ".py",
   "mimetype": "text/x-python",
   "name": "python",
   "nbconvert_exporter": "python",
   "pygments_lexer": "ipython3",
   "version": "3.11.6"
  }
 },
 "nbformat": 4,
 "nbformat_minor": 2
}
